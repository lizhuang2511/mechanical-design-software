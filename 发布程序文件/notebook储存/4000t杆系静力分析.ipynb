{
 "cells": [
  {
   "cell_type": "code",
   "execution_count": 3,
   "id": "3e709f25",
   "metadata": {},
   "outputs": [
    {
     "name": "stdout",
     "output_type": "stream",
     "text": [
      "3975617.0278328266\n",
      "fx2= 295.7636191865327 fx3= 595.8230605385701 fy2= 3942.7337177440827 fy3= 57.26628225591791 f3= 598.5687483931674 m= 883752.8927834822\n",
      "598.0936381537593\n"
     ]
    }
   ],
   "source": [
    "from math import *\n",
    "from scipy.linalg import solve\n",
    "fy1=4000\n",
    "th1=4.29/180*pi\n",
    "fx1=4000*tan(th1)\n",
    "th2=4.29/180*pi\n",
    "th3=84.51/180*pi\n",
    "A=[[1,-1],[-tan(th2),-tan(th3)]]\n",
    "B=[-fx1,-fy1]\n",
    "A=[[1,-1],[-1/tan(th2),-1/tan(th3)]]\n",
    "B=[-fx1,-fy1]\n",
    "c=solve(A,B)\n",
    "fx2=c[0]\n",
    "fx3=c[1]\n",
    "fy2=fx2/tan(th2)\n",
    "fy3=fx3/tan(th3)\n",
    "f3=sqrt(fx3**2+fy3**2)\n",
    "th4=41.62/180*pi\n",
    "r=197.5/1000\n",
    "m=f3*10000*cos(th4)*r\n",
    "print(f3*10000*sin(th4))\n",
    "print('fx2=',fx2,'fx3=',fx3,'fy2=',fy2,'fy3=',fy3,'f3=',f3,'m=',m)\n",
    "print(sqrt(50**2+596**2))"
   ]
  },
  {
   "cell_type": "code",
   "execution_count": null,
   "id": "1beb8d52",
   "metadata": {},
   "outputs": [],
   "source": [
    "aa"
   ]
  },
  {
   "cell_type": "markdown",
   "id": "e146c4a9",
   "metadata": {},
   "source": [
    "# s"
   ]
  },
  {
   "cell_type": "markdown",
   "id": "a2731a10",
   "metadata": {},
   "source": []
  },
  {
   "cell_type": "code",
   "execution_count": null,
   "id": "377dbc62",
   "metadata": {},
   "outputs": [],
   "source": []
  }
 ],
 "metadata": {
  "kernelspec": {
   "display_name": "Python 3 (ipykernel)",
   "language": "python",
   "name": "python3"
  },
  "language_info": {
   "codemirror_mode": {
    "name": "ipython",
    "version": 3
   },
   "file_extension": ".py",
   "mimetype": "text/x-python",
   "name": "python",
   "nbconvert_exporter": "python",
   "pygments_lexer": "ipython3",
   "version": "3.8.10"
  },
  "toc": {
   "base_numbering": 1,
   "nav_menu": {
    "height": "134.01px",
    "width": "160px"
   },
   "number_sections": true,
   "sideBar": true,
   "skip_h1_title": false,
   "title_cell": "Table of Contents",
   "title_sidebar": "Contents",
   "toc_cell": false,
   "toc_position": {
    "height": "calc(100% - 180px)",
    "left": "10px",
    "top": "150px",
    "width": "165px"
   },
   "toc_section_display": true,
   "toc_window_display": true
  },
  "varInspector": {
   "cols": {
    "lenName": 16,
    "lenType": 16,
    "lenVar": 40
   },
   "kernels_config": {
    "python": {
     "delete_cmd_postfix": "",
     "delete_cmd_prefix": "del ",
     "library": "var_list.py",
     "varRefreshCmd": "print(var_dic_list())"
    },
    "r": {
     "delete_cmd_postfix": ") ",
     "delete_cmd_prefix": "rm(",
     "library": "var_list.r",
     "varRefreshCmd": "cat(var_dic_list()) "
    }
   },
   "oldHeight": 215.507834,
   "position": {
    "height": "40px",
    "left": "996.315px",
    "right": "20px",
    "top": "120px",
    "width": "317.005px"
   },
   "types_to_exclude": [
    "module",
    "function",
    "builtin_function_or_method",
    "instance",
    "_Feature"
   ],
   "varInspector_section_display": "none",
   "window_display": true
  }
 },
 "nbformat": 4,
 "nbformat_minor": 5
}
