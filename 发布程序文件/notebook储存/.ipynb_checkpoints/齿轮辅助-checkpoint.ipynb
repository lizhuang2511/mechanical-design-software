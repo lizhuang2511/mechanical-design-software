{
 "cells": [
  {
   "cell_type": "code",
   "execution_count": 24,
   "id": "331daceb",
   "metadata": {},
   "outputs": [],
   "source": [
    "from math import *\n",
    "r=1001/2\n",
    "bet=30/180*pi\n",
    "lj=2*pi*r/tan(bet)"
   ]
  },
  {
   "cell_type": "markdown",
   "id": "ebae13c2",
   "metadata": {},
   "source": [
    "固定弦齿厚"
   ]
  },
  {
   "cell_type": "code",
   "execution_count": 25,
   "id": "b8d175cf",
   "metadata": {},
   "outputs": [],
   "source": [
    "#30.515\n",
    "from math import *\n",
    "mn=22\n",
    "alf=20\n",
    "scn=pi*mn/2*cos(alf/180*pi)**2"
   ]
  },
  {
   "cell_type": "markdown",
   "id": "89d13388",
   "metadata": {},
   "source": [
    "固定弦齿高"
   ]
  },
  {
   "cell_type": "code",
   "execution_count": 26,
   "id": "12916ed0",
   "metadata": {},
   "outputs": [
    {
     "name": "stdout",
     "output_type": "stream",
     "text": [
      "(da-d)/2= 22.0\n"
     ]
    }
   ],
   "source": [
    "print('(da-d)/2=',(1403.362-1359.362)/2)\n",
    "ha=22\n",
    "hcn=ha-pi*mn/8*sin((2*alf)/180*pi)"
   ]
  },
  {
   "cell_type": "code",
   "execution_count": 30,
   "id": "186a7f93",
   "metadata": {},
   "outputs": [
    {
     "name": "stdout",
     "output_type": "stream",
     "text": [
      "0.39279151548850977\n",
      "0.4877004701878865\n"
     ]
    }
   ],
   "source": [
    "print((0.196+0.222)*cos(alf/180*pi))\n",
    "print((0.244+0.275)*cos(alf/180*pi))"
   ]
  },
  {
   "cell_type": "code",
   "execution_count": null,
   "id": "e5102165",
   "metadata": {},
   "outputs": [],
   "source": []
  }
 ],
 "metadata": {
  "kernelspec": {
   "display_name": "Python 3 (ipykernel)",
   "language": "python",
   "name": "python3"
  },
  "language_info": {
   "codemirror_mode": {
    "name": "ipython",
    "version": 3
   },
   "file_extension": ".py",
   "mimetype": "text/x-python",
   "name": "python",
   "nbconvert_exporter": "python",
   "pygments_lexer": "ipython3",
   "version": "3.8.18"
  },
  "toc": {
   "base_numbering": 1,
   "nav_menu": {},
   "number_sections": true,
   "sideBar": true,
   "skip_h1_title": false,
   "title_cell": "Table of Contents",
   "title_sidebar": "Contents",
   "toc_cell": false,
   "toc_position": {},
   "toc_section_display": true,
   "toc_window_display": false
  },
  "varInspector": {
   "cols": {
    "lenName": 16,
    "lenType": 16,
    "lenVar": 40
   },
   "kernels_config": {
    "python": {
     "delete_cmd_postfix": "",
     "delete_cmd_prefix": "del ",
     "library": "var_list.py",
     "varRefreshCmd": "print(var_dic_list())"
    },
    "r": {
     "delete_cmd_postfix": ") ",
     "delete_cmd_prefix": "rm(",
     "library": "var_list.r",
     "varRefreshCmd": "cat(var_dic_list()) "
    }
   },
   "types_to_exclude": [
    "module",
    "function",
    "builtin_function_or_method",
    "instance",
    "_Feature"
   ],
   "window_display": false
  }
 },
 "nbformat": 4,
 "nbformat_minor": 5
}
