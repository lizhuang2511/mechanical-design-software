{
 "cells": [
  {
   "cell_type": "markdown",
   "id": "3b8da0cb",
   "metadata": {},
   "source": [
    "导入包定义约束方程"
   ]
  },
  {
   "cell_type": "code",
   "execution_count": 3,
   "id": "f8fced12",
   "metadata": {},
   "outputs": [],
   "source": [
    "# -*- coding: utf-8 -*-\n",
    "import matplotlib.pyplot as plt\n",
    "#import sviewgui.sview as sv\n",
    "import pandas as pd\n",
    "import sys\n",
    "import time\n",
    "import numpy as np\n",
    "import scipy as sp\n",
    "#from scipy.optimize import root,fsolve\n",
    "import pandas as pd\n",
    "import sympy as sy\n",
    "plt.rcParams['font.sans-serif']=['SimHei'] #用来正常显示中文标签\n",
    "plt.rcParams['axes.unicode_minus']=False #用来正常显示负号\n",
    "from sympy import lambdify,pprint,latex,sin,cos\n",
    "from scipy import integrate,linalg \n",
    "from scipy.optimize import root, fsolve\n",
    "l1,l2=sy.symbols(\"l1,l2\", real=True)\n",
    "t = sy.symbols('t')\n",
    "x1 = sy.Function('x1')(t);y1 = sy.Function('y1')(t);x2= sy.Function('x2')(t)\n",
    "y2= sy.Function('y2')(t);fi1= sy.Function('fi1')(t);fi2 = sy.Function('fi2')(t)\n",
    "约束 = sy.Matrix([[x1-0.5*l1*cos(fi1)],\n",
    "                [y1-0.5*l1*sin(fi1)],\n",
    "                [x2-0.5*l2*sin(fi2)-x1-0.5*l1*cos(fi1)],\n",
    "                [y2+0.5*l2*cos(fi2)-y1-0.5*l1*sin(fi1)],\n",
    "                [y2-0.5*l2*cos(fi2)],\n",
    "               ])\n"
   ]
  },
  {
   "cell_type": "markdown",
   "id": "53a12c16",
   "metadata": {},
   "source": [
    "计算雅克比矩阵"
   ]
  },
  {
   "cell_type": "code",
   "execution_count": 4,
   "id": "b96b6e85",
   "metadata": {},
   "outputs": [
    {
     "data": {
      "text/latex": [
       "$\\left[\\begin{matrix}1 & 0 & 0.5 l_{1} \\sin{\\left(\\operatorname{fi}_{1}{\\left(t \\right)} \\right)} & 0 & 0 & 0\\\\0 & 1 & - 0.5 l_{1} \\cos{\\left(\\operatorname{fi}_{1}{\\left(t \\right)} \\right)} & 0 & 0 & 0\\\\-1 & 0 & 0.5 l_{1} \\sin{\\left(\\operatorname{fi}_{1}{\\left(t \\right)} \\right)} & 1 & 0 & - 0.5 l_{2} \\cos{\\left(\\operatorname{fi}_{2}{\\left(t \\right)} \\right)}\\\\0 & -1 & - 0.5 l_{1} \\cos{\\left(\\operatorname{fi}_{1}{\\left(t \\right)} \\right)} & 0 & 1 & - 0.5 l_{2} \\sin{\\left(\\operatorname{fi}_{2}{\\left(t \\right)} \\right)}\\\\0 & 0 & 0 & 0 & 1 & 0.5 l_{2} \\sin{\\left(\\operatorname{fi}_{2}{\\left(t \\right)} \\right)}\\end{matrix}\\right]$"
      ],
      "text/plain": [
       "<IPython.core.display.Latex object>"
      ]
     },
     "metadata": {},
     "output_type": "display_data"
    }
   ],
   "source": [
    "args = sy.Matrix([x1,y1,fi1,x2,y2,fi2])\n",
    "res = 约束.jacobian(args)\n",
    "#pprint(res)\n",
    "from IPython.display import display, Latex \n",
    "display(Latex('$' + latex(res) + '$'))\n"
   ]
  },
  {
   "cell_type": "markdown",
   "id": "aa925abd",
   "metadata": {},
   "source": [
    "计算加速度方程右项以及约束一阶导数"
   ]
  },
  {
   "cell_type": "code",
   "execution_count": 5,
   "id": "a756e72f",
   "metadata": {},
   "outputs": [
    {
     "data": {
      "text/latex": [
       "$\\left[\\begin{matrix}0.5 l_{1} \\cos{\\left(\\operatorname{fi}_{1}{\\left(t \\right)} \\right)} \\left(\\frac{d}{d t} \\operatorname{fi}_{1}{\\left(t \\right)}\\right)^{2}\\\\0.5 l_{1} \\sin{\\left(\\operatorname{fi}_{1}{\\left(t \\right)} \\right)} \\left(\\frac{d}{d t} \\operatorname{fi}_{1}{\\left(t \\right)}\\right)^{2}\\\\0.5 l_{1} \\cos{\\left(\\operatorname{fi}_{1}{\\left(t \\right)} \\right)} \\left(\\frac{d}{d t} \\operatorname{fi}_{1}{\\left(t \\right)}\\right)^{2} + 0.5 l_{2} \\sin{\\left(\\operatorname{fi}_{2}{\\left(t \\right)} \\right)} \\left(\\frac{d}{d t} \\operatorname{fi}_{2}{\\left(t \\right)}\\right)^{2}\\\\0.5 l_{1} \\sin{\\left(\\operatorname{fi}_{1}{\\left(t \\right)} \\right)} \\left(\\frac{d}{d t} \\operatorname{fi}_{1}{\\left(t \\right)}\\right)^{2} - 0.5 l_{2} \\cos{\\left(\\operatorname{fi}_{2}{\\left(t \\right)} \\right)} \\left(\\frac{d}{d t} \\operatorname{fi}_{2}{\\left(t \\right)}\\right)^{2}\\\\0.5 l_{2} \\cos{\\left(\\operatorname{fi}_{2}{\\left(t \\right)} \\right)} \\left(\\frac{d}{d t} \\operatorname{fi}_{2}{\\left(t \\right)}\\right)^{2}\\end{matrix}\\right]$"
      ],
      "text/plain": [
       "<IPython.core.display.Latex object>"
      ]
     },
     "metadata": {},
     "output_type": "display_data"
    }
   ],
   "source": [
    "fuzu=sy.Matrix([sy.Derivative(x1,(t,2)),sy.Derivative(y1,(t,2)),sy.Derivative(fi1,(t,2)),\n",
    "                sy.Derivative(x2,(t,2)),sy.Derivative(y2,(t,2)),sy.Derivative(fi2,(t,2)),\n",
    "                ])\n",
    "#fuzu=sy.Matrix([ddx1,ddy1,ddfi1,ddx2,ddy2,ddfi2])\n",
    "fuzua=res*fuzu\n",
    "fuzu=sy.Matrix([sy.Derivative(x1,(t,1)),sy.Derivative(y1,(t,1)),sy.Derivative(fi1,(t,1)),\n",
    "                sy.Derivative(x2,(t,1)),sy.Derivative(y2,(t,1)),sy.Derivative(fi2,(t,1)),\n",
    "                ])\n",
    "#fuzu=sy.Matrix([ddx1,ddy1,ddfi1,ddx2,ddy2,ddfi2])\n",
    "fuzub=res*fuzu\n",
    "#display(Latex('$' + latex(fuzua) + '$'))\n",
    "l1,l2=sy.symbols(\"l1,l2\", real=True)\n",
    "t = sy.symbols('t')\n",
    "加速度约束 = sy.diff(约束,t,2)\n",
    "速度约束=sy.diff(约束,t,1)\n",
    "#display(Latex('$' + latex(加速度约束) + '$'))\n",
    "from IPython.display import display, Latex \n",
    "右项=加速度约束-fuzua\n",
    "速度约束右项=速度约束-fuzub\n",
    "display(Latex('$' + latex(右项) + '$'))\n",
    "#display(Latex('$' + latex(速度约束右项) + '$'))\n",
    "#print(速度约束右项)"
   ]
  },
  {
   "cell_type": "markdown",
   "id": "8db2eff0",
   "metadata": {},
   "source": [
    "输出scipy可用矩阵\n"
   ]
  },
  {
   "cell_type": "code",
   "execution_count": 6,
   "id": "a484de03",
   "metadata": {},
   "outputs": [
    {
     "name": "stdout",
     "output_type": "stream",
     "text": [
      "约束矩阵= Matrix([[-0.5*l1*cos(fi1) + x1, -0.5*l1*sin(fi1) + y1, -0.5*l1*cos(fi1) - 0.5*l2*sin(fi2) - x1 + x2, -0.5*l1*sin(fi1) + 0.5*l2*cos(fi2) - y1 + y2, -0.5*l2*cos(fi2) + y2]])\n",
      "雅克比矩阵= Matrix([[1, 0, 0.5*l1*sin(fi1), 0, 0, 0], [0, 1, -0.5*l1*cos(fi1), 0, 0, 0], [-1, 0, 0.5*l1*sin(fi1), 1, 0, -0.5*l2*cos(fi2)], [0, -1, -0.5*l1*cos(fi1), 0, 1, -0.5*l2*sin(fi2)], [0, 0, 0, 0, 1, 0.5*l2*sin(fi2)]])\n",
      "加速度右项= Matrix([[0.5*dfi1**2*l1*cos(fi1)], [0.5*dfi1**2*l1*sin(fi1)], [0.5*dfi1**2*l1*cos(fi1) + 0.5*dfi2**2*l2*sin(fi2)], [0.5*dfi1**2*l1*sin(fi1) - 0.5*dfi2**2*l2*cos(fi2)], [0.5*dfi2**2*l2*cos(fi2)]])\n"
     ]
    }
   ],
   "source": [
    "meihua0=约束\n",
    "gg1=fi1;gg2=fi2;gg3=x1;gg4=y1;gg5=x2;gg6=y2;\n",
    "x1,y1,fi1,x2,y2,fi2= sy.symbols(\"x1,y1,fi1,x2,y2,fi2\", real=True)\n",
    "# x1,x2,y1,y2 = sy.symbols('y1(t),y1(t),y1(t),y1(t)')\n",
    "meihua0 = meihua0.subs([(gg1,fi1), (gg2,fi2),(gg3,x1), (gg4,y1), \\\n",
    "                              (gg5,x2), (gg6,y2)])\n",
    "print('约束矩阵=',meihua0.T)\n",
    "res2=res\n",
    "meihua = res2.subs([(gg1,fi1), (gg2,fi2),(gg3,x1), (gg4,y1), \\\n",
    "                            (gg5,x2), (gg6,y2)])\n",
    "print('雅克比矩阵=',meihua)\n",
    "转换右项=右项\n",
    "x1 = sy.Function('x1')(t);y1 = sy.Function('y1')(t);x2= sy.Function('x2')(t)\n",
    "y2= sy.Function('y2')(t);fi1= sy.Function('fi1')(t);fi2 = sy.Function('fi2')(t)\n",
    "ddfi1,ddfi2,ddx1,ddy1,ddx2,ddy2= sy.symbols(\"ddfi1,ddfi2,ddx1,ddy1,ddx2,ddy2\", real=True)\n",
    "dfi1,dfi2,dx1,dy1,dx2,dy2=sy.symbols(\"dfi1,dfi2,dx1,dy1,dx2,dy2\", real=True)\n",
    "dgN_subbed = 转换右项.subs([(sy.Derivative(fi1,(t,2)),ddfi1),(sy.Derivative(fi1,(t,1)),dfi1), \\\n",
    "                            (sy.Derivative(fi2,(t,2)),ddfi2),(sy.Derivative(fi2,(t,1)),dfi2), \\\n",
    "                            (sy.Derivative(x1, (t,2)),ddx1),(sy.Derivative(x1,(t,1)),dx1), \\\n",
    "                            (sy.Derivative(y1,(t,2)),ddy1),(sy.Derivative(y1,(t, 1)),dy1), \\\n",
    "                            (sy.Derivative(x2,(t,2)),ddx2),(sy.Derivative(x2,(t,1)),dx2), \\\n",
    "                            (sy.Derivative(y2,(t,2)),ddy2),(sy.Derivative(y2,(t,1)),dy2), \\\n",
    "                            ])\n",
    "#print(dgN_subbed)\n",
    "#display(Latex('$' + latex(dgN_subbed) + '$'))\n",
    "# x1,x2,y1,y2 = sy.symbols('y1(t),y1(t),y1(t),y1(t)')\n",
    "x1,y1,fi1,x2,y2,fi2= sy.symbols(\"x1,y1,fi1,x2,y2,fi2\", real=True)\n",
    "dgN_subbed = dgN_subbed.subs([(gg1,fi1), (gg2,fi2),(gg3,x1), (gg4,y1), \\\n",
    "                              (gg5,x2), (gg6,y2)])\n",
    "#print(sy.Matrix(list(dgN_subbed)))\n",
    "#display(Latex('$' + latex(dgN_subbed) + '$'))\n",
    "print('加速度右项=',dgN_subbed)\n",
    "#display(Latex('$' + latex(dgN_subbed) + '$'))"
   ]
  },
  {
   "cell_type": "markdown",
   "id": "9a0cc6ca",
   "metadata": {},
   "source": [
    "求解位置值"
   ]
  },
  {
   "cell_type": "code",
   "execution_count": 7,
   "id": "71306d95",
   "metadata": {},
   "outputs": [
    {
     "name": "stdout",
     "output_type": "stream",
     "text": [
      "Solution: [ 5.00000000e+00 -1.39254662e-31  2.50000000e+01  1.20576575e-31\n",
      "  1.57079633e+00]\n"
     ]
    }
   ],
   "source": [
    "l1=10\n",
    "l2=30\n",
    "fi1=0\n",
    "# 初始猜测值\n",
    "def equations(vars):\n",
    "    x1,y1,x2,y2,fi2=vars\n",
    "    eq1=[x1-0.5*l1*cos(fi1),\n",
    "        y1-0.5*l1*sin(fi1),\n",
    "        x2-0.5*l2*sin(fi2)-x1-0.5*l1*cos(fi1),\n",
    "        y2+0.5*l2*cos(fi2)-y1-0.5*l1*sin(fi1),\n",
    "        y2-0.5*l2*cos(fi2),\n",
    "               ]\n",
    "    return eq1\n",
    "# 初始猜测值\n",
    "initial_guess = [5, 0,25,0,3.14/2]\n",
    "# 使用fsolve求解方程组  \n",
    "solution = fsolve(equations, initial_guess)  \n",
    "  \n",
    "print(\"Solution:\", solution)"
   ]
  },
  {
   "cell_type": "markdown",
   "id": "c207b434",
   "metadata": {},
   "source": [
    "求解速度值"
   ]
  },
  {
   "cell_type": "code",
   "execution_count": 8,
   "id": "08a473b8",
   "metadata": {},
   "outputs": [
    {
     "name": "stdout",
     "output_type": "stream",
     "text": [
      "5.0\n",
      "[ 0.00000000e+00  1.00000000e+01  2.00000000e+00 -6.12323400e-16\n",
      "  1.00000000e+01 -6.66666667e-01]\n"
     ]
    }
   ],
   "source": [
    "from numpy import sin,cos\n",
    "x1,y1,x2,y2,fi2=solution\n",
    "print(x1)\n",
    "dfi1=2\n",
    "雅克比矩阵= np.array([[1, 0, 0.5*l1*sin(fi1), 0, 0, 0], [0, 1, -0.5*l1*cos(fi1), 0, 0, 0], \n",
    "                 [-1, 0, 0.5*l1*sin(fi1), 1, 0, -0.5*l2*cos(fi2)], \n",
    "                 [0, -1, -0.5*l1*cos(fi1), 0, 1, -0.5*l2*sin(fi2)], \n",
    "                 [0, 0, 0, 0, 1, 0.5*l2*sin(fi2)],[0, 0, 1, 0, 0, 0]])\n",
    "#print(雅克比矩阵)\n",
    "矩阵0=np.array([[0], [0], [0], [0], [0],[dfi1]])\n",
    "xv = linalg.solve(雅克比矩阵, 矩阵0)\n",
    "  \n",
    "print(xv.T[0])"
   ]
  },
  {
   "cell_type": "markdown",
   "id": "f14f04c4",
   "metadata": {},
   "source": [
    "求解加速度值"
   ]
  },
  {
   "cell_type": "code",
   "execution_count": 9,
   "id": "1f0684ae",
   "metadata": {},
   "outputs": [
    {
     "name": "stdout",
     "output_type": "stream",
     "text": [
      "0.0\n",
      "[-2.00000000e+01  0.00000000e+00 -0.00000000e+00 -4.66666667e+01\n",
      "  0.00000000e+00 -2.72143733e-17]\n"
     ]
    }
   ],
   "source": [
    "from numpy import sin,cos\n",
    "dx1,dy1,dfi1,dx2,dy2,dfi2=xv.T[0]\n",
    "ddf1=0\n",
    "print(dx1)\n",
    "加速度右项=-np.array([[0.5*dfi1**2*l1*cos(fi1)], \n",
    "                [0.5*dfi1**2*l1*sin(fi1)],\n",
    "                [0.5*dfi1**2*l1*cos(fi1) + 0.5*dfi2**2*l2*sin(fi2)], \n",
    "                [0.5*dfi1**2*l1*sin(fi1) - 0.5*dfi2**2*l2*cos(fi2)], \n",
    "                [0.5*dfi2**2*l2*cos(fi2)],\n",
    "               [ddf1]])\n",
    "xa = linalg.solve(雅克比矩阵,加速度右项)\n",
    "print(xa.T[0])"
   ]
  },
  {
   "cell_type": "markdown",
   "id": "43009564",
   "metadata": {},
   "source": [
    "定义质量矩阵，外力阵，逆动力学方程组装\n"
   ]
  },
  {
   "cell_type": "code",
   "execution_count": 12,
   "id": "65e532b0",
   "metadata": {},
   "outputs": [
    {
     "name": "stdout",
     "output_type": "stream",
     "text": [
      "[[2.00000000e+02] \n",
      " [9.80000000e+01] \n",
      " [0.00000000e+00] \n",
      " [1.00466667e+05] \n",
      " [9.80000000e+01] \n",
      " [2.72143733e-16]]\n"
     ]
    }
   ],
   "source": [
    "ddx1,ddy1,ddfi1,ddx2,ddy2,ddfi2=xa.T[0]\n",
    "m=10\n",
    "j=10\n",
    "g=9.8\n",
    "f=100000\n",
    "加速度矩阵=np.array([[ddx1], [ddy1], [ddfi1], [ddx2], [ddy2],[ddfi2]])\n",
    "#print(加速度矩阵)\n",
    "重力=np.array([[0], [m*g], [0], [0], [m*g],[0]])\n",
    "外力=np.array([[0], [0], [0], [f], [0],[0]])\n",
    "质量阵=np.array([[m,0,0,0,0,0],\n",
    "                [0,m,0,0,0,0],\n",
    "                [0,0,j,0,0,0],\n",
    "                [0,0,0,m,0,0],\n",
    "                [0,0,0,0,m,0],\n",
    "                [0,0,0,0,0,j],]\n",
    "                )\n",
    "#print(质量阵)\n",
    "方程右项=-质量阵.dot(加速度矩阵)+外力+重力\n",
    "pprint(方程右项)"
   ]
  },
  {
   "cell_type": "markdown",
   "id": "8eb3ae94",
   "metadata": {},
   "source": [
    "求解乘子"
   ]
  },
  {
   "cell_type": "code",
   "execution_count": 13,
   "id": "e9631614",
   "metadata": {},
   "outputs": [
    {
     "name": "stdout",
     "output_type": "stream",
     "text": [
      "[1.00666667e+05 1.47000000e+02 1.00466667e+05 4.90000000e+01\n",
      " 4.90000000e+01 9.80000000e+02]\n"
     ]
    }
   ],
   "source": [
    "xf = linalg.solve(雅克比矩阵.T, 方程右项)\n",
    "print(xf.T[0])"
   ]
  },
  {
   "cell_type": "markdown",
   "id": "0d4e8da6",
   "metadata": {},
   "source": [
    "转换乘子"
   ]
  },
  {
   "cell_type": "code",
   "execution_count": 14,
   "id": "0c92b64a",
   "metadata": {},
   "outputs": [
    {
     "name": "stdout",
     "output_type": "stream",
     "text": [
      "[[ 1. -0.]\n",
      " [ 0.  1.]]\n"
     ]
    }
   ],
   "source": [
    "a1= np.array([[cos(fi1),-sin(fi1)],\n",
    "              [sin(fi1),cos(fi1)]])\n",
    "print(a1)\n"
   ]
  },
  {
   "cell_type": "code",
   "execution_count": null,
   "id": "4225e553",
   "metadata": {},
   "outputs": [],
   "source": []
  }
 ],
 "metadata": {
  "kernelspec": {
   "display_name": "Python 3 (ipykernel)",
   "language": "python",
   "name": "python3"
  },
  "language_info": {
   "codemirror_mode": {
    "name": "ipython",
    "version": 3
   },
   "file_extension": ".py",
   "mimetype": "text/x-python",
   "name": "python",
   "nbconvert_exporter": "python",
   "pygments_lexer": "ipython3",
   "version": "3.8.10"
  },
  "toc": {
   "base_numbering": 1,
   "nav_menu": {},
   "number_sections": true,
   "sideBar": true,
   "skip_h1_title": false,
   "title_cell": "Table of Contents",
   "title_sidebar": "Contents",
   "toc_cell": false,
   "toc_position": {},
   "toc_section_display": true,
   "toc_window_display": false
  },
  "varInspector": {
   "cols": {
    "lenName": 16,
    "lenType": 16,
    "lenVar": 40
   },
   "kernels_config": {
    "python": {
     "delete_cmd_postfix": "",
     "delete_cmd_prefix": "del ",
     "library": "var_list.py",
     "varRefreshCmd": "print(var_dic_list())"
    },
    "r": {
     "delete_cmd_postfix": ") ",
     "delete_cmd_prefix": "rm(",
     "library": "var_list.r",
     "varRefreshCmd": "cat(var_dic_list()) "
    }
   },
   "types_to_exclude": [
    "module",
    "function",
    "builtin_function_or_method",
    "instance",
    "_Feature"
   ],
   "window_display": false
  }
 },
 "nbformat": 4,
 "nbformat_minor": 5
}
