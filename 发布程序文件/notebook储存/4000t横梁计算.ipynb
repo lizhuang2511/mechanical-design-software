{
 "cells": [
  {
   "cell_type": "code",
   "execution_count": 2,
   "id": "cb41edd3-e5ad-4c60-8861-d8c874955d39",
   "metadata": {},
   "outputs": [
    {
     "name": "stdout",
     "output_type": "stream",
     "text": [
      "246960000000.0\n"
     ]
    }
   ],
   "source": [
    "a=320\n",
    "b=2100\n",
    "惯性矩=a*b**3/12\n",
    "print(惯性矩)"
   ]
  },
  {
   "cell_type": "markdown",
   "id": "5e92dee1-80a1-4878-8e50-351fa56bfbbf",
   "metadata": {},
   "source": [
    "工字钢"
   ]
  },
  {
   "cell_type": "code",
   "execution_count": 4,
   "id": "60ae88e6-77a2-4a0b-92fa-825ba0fed96b",
   "metadata": {},
   "outputs": [
    {
     "name": "stdout",
     "output_type": "stream",
     "text": [
      "1176908333333.3333\n"
     ]
    }
   ],
   "source": [
    "B=1960\n",
    "H=2100\n",
    "bb=200\n",
    "h=H-bb*2\n",
    "HH=320\n",
    "b=(B-HH)/2\n",
    "I=(B*H**3-b*h**3)/12\n",
    "print(I)"
   ]
  },
  {
   "cell_type": "code",
   "execution_count": 28,
   "id": "2c711f57-c132-42c2-a7a1-243d103d012c",
   "metadata": {},
   "outputs": [
    {
     "name": "stdout",
     "output_type": "stream",
     "text": [
      "0.24512820789188733\n",
      "4079.4978619557537\n",
      "826693333333.3334\n",
      "1312000\n"
     ]
    }
   ],
   "source": [
    "import numpy as np\n",
    "class 横梁刚性计算左右():\n",
    "    def __init__(self):\n",
    "        self.上板宽度=1920\n",
    "        self.上板高度=200\n",
    "        self.下板宽度=1920\n",
    "        self.下板高度=200\n",
    "        self.中间板高度=2100\n",
    "        self.中间板宽度=320\n",
    "        self.导柱间距=10\n",
    "        self.拉紧螺栓间距=2140\n",
    "        self.载荷=2000000#总吨位一半\n",
    "    def 横梁刚性计算(self):\n",
    "        self.断面积计算=self.上板宽度*self.上板高度+self.下板宽度*self.下板高度+(self.中间板高度-self.上板高度-self.下板高度)*self.中间板宽度\n",
    "        self.中性轴位置=(self.中间板宽度*self.中间板高度**2+(self.下板宽度-self.中间板宽度)*self.下板高度**2+ \\\n",
    "                    (self.上板宽度-self.中间板宽度)*self.上板高度*(2*self.中间板高度-self.上板高度))/2/self.断面积计算\n",
    "        self.断面二次矩=(self.上板宽度*(self.中间板高度-self.中性轴位置)**3-(self.上板宽度-self.中间板宽度)*(self.中间板高度-self.中性轴位置-self.上板高度)**3 \\\n",
    "                    +self.下板宽度*self.中性轴位置**3-(self.下板宽度-self.中间板宽度)*(self.中性轴位置-self.下板高度)**3)/3\n",
    "        self.拉应力=(self.载荷*(self.拉紧螺栓间距-self.导柱间距)/2)*(self.中间板高度-self.中性轴位置)/self.断面二次矩\n",
    "        self.压应力=(self.载荷*(self.拉紧螺栓间距-self.导柱间距)/2)*self.中性轴位置/self.断面二次矩\n",
    "        self.剪切系数=(self.断面积计算*(self.中间板宽度*(self.中性轴位置-self.下板高度)**2+ \\\n",
    "                               self.下板宽度*(self.中性轴位置**2-(self.中性轴位置-self.下板高度)**2)))/2/self.中间板宽度/self.断面二次矩\n",
    "        self.剪切应力=self.剪切系数*self.载荷/self.断面积计算\n",
    "        self.弯曲变形=((self.载荷*((self.拉紧螺栓间距-self.导柱间距)/2))*(3*self.拉紧螺栓间距**2-4*((self.拉紧螺栓间距-self.导柱间距)/2)**2)/24/21000/self.断面二次矩)\n",
    "        self.剪切变形=self.剪切系数*(self.载荷*(self.拉紧螺栓间距-self.导柱间距)/2)/8100/self.断面积计算\n",
    "        self.总变形=self.弯曲变形+self.剪切变形\n",
    "        self.最大变形率=self.总变形*1000/self.拉紧螺栓间距\n",
    "        print(self.最大变形率)\n",
    "        print(self.拉紧螺栓间距/self.总变形)\n",
    "        return\n",
    "if __name__==\"__main__\":\n",
    "    测试=横梁刚性计算左右()\n",
    "    测试.横梁刚性计算()\n",
    "    print(测试.断面二次矩)\n",
    "    print(测试.断面积计算)"
   ]
  },
  {
   "cell_type": "code",
   "execution_count": 29,
   "id": "2edd0b4f-efbb-41aa-b108-86313177b651",
   "metadata": {},
   "outputs": [
    {
     "name": "stdout",
     "output_type": "stream",
     "text": [
      "关于x轴的惯性矩是: 5650350720000.000000 m^4\n"
     ]
    }
   ],
   "source": [
    "def calculate_ix_i_beam(t, h, a, b):\n",
    "    \"\"\"\n",
    "    计算工字钢截面关于x轴的惯性矩。\n",
    "    \n",
    "    参数:\n",
    "    t : float\n",
    "        腹板厚度 (m)\n",
    "    h : float\n",
    "        工字钢高度 (m)\n",
    "    a : float\n",
    "        翼缘长度 (m)\n",
    "    b : float\n",
    "        腹板长度 (m)，注意这里的b是腹板长度，不是宽度\n",
    "    \n",
    "    返回:\n",
    "    ix : float\n",
    "        关于x轴的惯性矩 (m^4)\n",
    "    \"\"\"\n",
    "    # 使用简化公式计算Ix\n",
    "    ix = (t * h**3 / 12) + 2 * (a * b * ((t + b) / 2) ** 2)\n",
    "    return ix\n",
    "\n",
    "# 示例参数\n",
    "t = 0.32*1000  # 腹板厚度 10 mm\n",
    "h = 2.10*1000  # 工字钢高度 200 mm\n",
    "a = 1.96*1000# 翼缘长度 100 mm\n",
    "b = 1.56*1000 # 腹板长度 50 mm\n",
    "\n",
    "# 计算关于x轴的惯性矩{\n",
    " \n",
    "ix = calculate_ix_i_beam(t, h, a, b)\n",
    "print(\"关于x轴的惯性矩是: {:.6f} m^4\".format(ix))"
   ]
  },
  {
   "cell_type": "markdown",
   "id": "613bf72e-4a45-4cda-8eac-f0ba06547b20",
   "metadata": {},
   "source": [
    "何德誉压力机计算书"
   ]
  },
  {
   "cell_type": "code",
   "execution_count": 30,
   "id": "2c9071b4-e4f7-44e6-bf13-39b7942d1a2d",
   "metadata": {},
   "outputs": [
    {
     "name": "stdout",
     "output_type": "stream",
     "text": [
      "0.2262056807461943 9902.492247811006\n"
     ]
    }
   ],
   "source": [
    "e=2.1e11\n",
    "g=8.4e10\n",
    "j=826693333333/(1000**4)\n",
    "f=1312000/(1000**2)\n",
    "l=2240/1000\n",
    "pg=40000000\n",
    "b1=730/1000\n",
    "b=320/1000\n",
    "e1=963/1000\n",
    "H1=1123.43/1000\n",
    "a=f/(2*j)*(b1/b*(H1**2-e1**2)+e1**2)\n",
    "bian=0.017*pg*l**3/(e*j)+0.167*a*pg*l/(f*g)\n",
    "print(bian*1000,l/bian)"
   ]
  },
  {
   "cell_type": "code",
   "execution_count": null,
   "id": "255c116e-2526-41fd-8fd1-b83026890349",
   "metadata": {},
   "outputs": [],
   "source": []
  }
 ],
 "metadata": {
  "kernelspec": {
   "display_name": "Python 3 (ipykernel)",
   "language": "python",
   "name": "python3"
  },
  "language_info": {
   "codemirror_mode": {
    "name": "ipython",
    "version": 3
   },
   "file_extension": ".py",
   "mimetype": "text/x-python",
   "name": "python",
   "nbconvert_exporter": "python",
   "pygments_lexer": "ipython3",
   "version": "3.10.9"
  }
 },
 "nbformat": 4,
 "nbformat_minor": 5
}
