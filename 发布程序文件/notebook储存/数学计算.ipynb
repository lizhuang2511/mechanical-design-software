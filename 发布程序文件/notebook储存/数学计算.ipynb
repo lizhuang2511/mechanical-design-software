{
 "cells": [
  {
   "cell_type": "markdown",
   "id": "84534dce",
   "metadata": {},
   "source": [
    "# 曲柄连杆机构第一类拉格朗日分析"
   ]
  },
  {
   "cell_type": "markdown",
   "id": "7d591b8d",
   "metadata": {},
   "source": [
    "约束方程"
   ]
  },
  {
   "cell_type": "code",
   "execution_count": 29,
   "id": "3bdaaa6c",
   "metadata": {},
   "outputs": [
    {
     "name": "stdout",
     "output_type": "stream",
     "text": [
      "Matrix([[r3*sin(thr3), 0], [-r3*cos(thr3), 1]])\n",
      "0\n",
      "1\n",
      "0\n",
      "1\n",
      "Hessian:  Matrix([[r3*cos(thr3), 0], [r3*sin(thr3), 0], [0, 0], [0, 0], [0, 0], [0, 0]])\n"
     ]
    }
   ],
   "source": [
    "import sympy as sy\n",
    "r1,thr3,r2,r3,thr2= sy.symbols(\"r1,thr3,r2,r3,thr2\", real=True)\n",
    "约束 = sy.Matrix([[-r2*sy.cos(thr2)-r3*sy.cos(thr3)],\n",
    "                         [-r2*sy.sin(thr2)-r3*sy.sin(thr3)+r1]\n",
    "                        ])\n",
    "p = sy.Matrix([thr3,r1])\n",
    "J = 约束.jacobian(p)\n",
    "print(一阶雅可比)\n",
    "H = sp.zeros(6, 2)\n",
    "for i in range(2):\n",
    "    for j in range(2):\n",
    "        print(j)\n",
    "        for pi in range(2):\n",
    "            H[pi*3+i, j] = J[i, j].diff(p[pi, 0])\n",
    "print(\"Hessian: \", H)"
   ]
  },
  {
   "cell_type": "code",
   "execution_count": 14,
   "id": "0c319f36",
   "metadata": {},
   "outputs": [
    {
     "name": "stdout",
     "output_type": "stream",
     "text": [
      "一阶雅可比矩阵:\n",
      "⎡   2⋅x      cos(y)⎤\n",
      "⎢                  ⎥\n",
      "⎣y - sin(x)    x   ⎦\n",
      "二阶导数矩阵 (Hessian 矩阵):\n",
      "⎡  0         0          2⋅x      cos(y)⎤\n",
      "⎢                                      ⎥\n",
      "⎢  0         0       y - sin(x)    x   ⎥\n",
      "⎢                                      ⎥\n",
      "⎢ 2⋅x    y - sin(x)      0         0   ⎥\n",
      "⎢                                      ⎥\n",
      "⎣cos(y)      x           0         0   ⎦\n"
     ]
    }
   ],
   "source": [
    "\n",
    "import sympy as sp\n",
    "\n",
    "# 定义符号变量\n",
    "x, y = sp.symbols('x y')\n",
    "\n",
    "# 定义一个二元函数\n",
    "f = x ** 2 + sp.sin(y)\n",
    "g = x * y + sp.cos(x)\n",
    "\n",
    "# 定义向量函数 [f, g]\n",
    "F = sp.Matrix([f, g])\n",
    "\n",
    "# 计算一阶雅可比矩阵\n",
    "J = F.jacobian([x, y])\n",
    "print(\"一阶雅可比矩阵:\")\n",
    "sp.pprint(J)\n",
    "\n",
    "# 计算Hessian矩阵\n",
    "H = sp.hessian(x, (x, y),F)\n",
    "print(\"二阶导数矩阵 (Hessian 矩阵):\")\n",
    "sp.pprint(H)\n",
    "\n",
    "\n"
   ]
  },
  {
   "cell_type": "code",
   "execution_count": 14,
   "id": "f38c9120",
   "metadata": {},
   "outputs": [
    {
     "name": "stdout",
     "output_type": "stream",
     "text": [
      "1\n",
      "1\n"
     ]
    }
   ],
   "source": [
    "a=np.array([1,1,0])\n",
    "b=np.array([0,1,0])\n",
    "c=np.cross(a,b)#向量×乘\n",
    "c=np.dot(a,b)#向量点乘\n",
    "print(a@b.T)\n",
    "print(c)"
   ]
  },
  {
   "cell_type": "code",
   "execution_count": null,
   "id": "eae4e6ca",
   "metadata": {},
   "outputs": [],
   "source": []
  }
 ],
 "metadata": {
  "kernelspec": {
   "display_name": "Python 3 (ipykernel)",
   "language": "python",
   "name": "python3"
  },
  "language_info": {
   "codemirror_mode": {
    "name": "ipython",
    "version": 3
   },
   "file_extension": ".py",
   "mimetype": "text/x-python",
   "name": "python",
   "nbconvert_exporter": "python",
   "pygments_lexer": "ipython3",
   "version": "3.8.10"
  },
  "toc": {
   "base_numbering": 1,
   "nav_menu": {},
   "number_sections": true,
   "sideBar": true,
   "skip_h1_title": false,
   "title_cell": "Table of Contents",
   "title_sidebar": "Contents",
   "toc_cell": false,
   "toc_position": {},
   "toc_section_display": true,
   "toc_window_display": false
  },
  "varInspector": {
   "cols": {
    "lenName": 16,
    "lenType": 16,
    "lenVar": 40
   },
   "kernels_config": {
    "python": {
     "delete_cmd_postfix": "",
     "delete_cmd_prefix": "del ",
     "library": "var_list.py",
     "varRefreshCmd": "print(var_dic_list())"
    },
    "r": {
     "delete_cmd_postfix": ") ",
     "delete_cmd_prefix": "rm(",
     "library": "var_list.r",
     "varRefreshCmd": "cat(var_dic_list()) "
    }
   },
   "types_to_exclude": [
    "module",
    "function",
    "builtin_function_or_method",
    "instance",
    "_Feature"
   ],
   "window_display": false
  }
 },
 "nbformat": 4,
 "nbformat_minor": 5
}
