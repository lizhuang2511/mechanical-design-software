{
 "cells": [
  {
   "cell_type": "code",
   "execution_count": 2,
   "id": "172f1459",
   "metadata": {},
   "outputs": [
    {
     "ename": "ValueError",
     "evalue": "Error: engine error: Python exception raised",
     "output_type": "error",
     "traceback": [
      "\u001b[1;31m---------------------------------------------------------------------------\u001b[0m",
      "\u001b[1;31mValueError\u001b[0m                                Traceback (most recent call last)",
      "\u001b[1;32m~\\AppData\\Local\\Temp\\ipykernel_21480\\2763031975.py\u001b[0m in \u001b[0;36m<module>\u001b[1;34m\u001b[0m\n\u001b[0;32m    115\u001b[0m \u001b[1;33m\u001b[0m\u001b[0m\n\u001b[0;32m    116\u001b[0m \u001b[1;32mif\u001b[0m \u001b[0m__name__\u001b[0m \u001b[1;33m==\u001b[0m \u001b[1;34m\"__main__\"\u001b[0m\u001b[1;33m:\u001b[0m\u001b[1;33m\u001b[0m\u001b[1;33m\u001b[0m\u001b[0m\n\u001b[1;32m--> 117\u001b[1;33m     \u001b[0mmain\u001b[0m\u001b[1;33m(\u001b[0m\u001b[1;33m)\u001b[0m\u001b[1;33m\u001b[0m\u001b[1;33m\u001b[0m\u001b[0m\n\u001b[0m\u001b[0;32m    118\u001b[0m     \u001b[0mprint\u001b[0m\u001b[1;33m(\u001b[0m\u001b[0mx\u001b[0m\u001b[1;33m)\u001b[0m\u001b[1;33m\u001b[0m\u001b[1;33m\u001b[0m\u001b[0m\n",
      "\u001b[1;32m~\\AppData\\Local\\Temp\\ipykernel_21480\\2763031975.py\u001b[0m in \u001b[0;36mmain\u001b[1;34m()\u001b[0m\n\u001b[0;32m     30\u001b[0m     \u001b[1;31m#curr_dir = os.path.dirname(os.path.abspath(__file__))\u001b[0m\u001b[1;33m\u001b[0m\u001b[1;33m\u001b[0m\u001b[1;33m\u001b[0m\u001b[0m\n\u001b[0;32m     31\u001b[0m \u001b[1;33m\u001b[0m\u001b[0m\n\u001b[1;32m---> 32\u001b[1;33m     \u001b[0mmodel\u001b[0m \u001b[1;33m=\u001b[0m \u001b[0mmujoco\u001b[0m\u001b[1;33m.\u001b[0m\u001b[0mMjModel\u001b[0m\u001b[1;33m.\u001b[0m\u001b[0mfrom_xml_path\u001b[0m\u001b[1;33m(\u001b[0m\u001b[1;34m'simple(1).xml'\u001b[0m\u001b[1;33m)\u001b[0m\u001b[1;33m\u001b[0m\u001b[1;33m\u001b[0m\u001b[0m\n\u001b[0m\u001b[0;32m     33\u001b[0m     \u001b[0mdata\u001b[0m \u001b[1;33m=\u001b[0m \u001b[0mmujoco\u001b[0m\u001b[1;33m.\u001b[0m\u001b[0mMjData\u001b[0m\u001b[1;33m(\u001b[0m\u001b[0mmodel\u001b[0m\u001b[1;33m)\u001b[0m\u001b[1;33m\u001b[0m\u001b[1;33m\u001b[0m\u001b[0m\n\u001b[0;32m     34\u001b[0m \u001b[1;33m\u001b[0m\u001b[0m\n",
      "\u001b[1;31mValueError\u001b[0m: Error: engine error: Python exception raised"
     ]
    }
   ],
   "source": [
    "\"\"\" =================================================\n",
    "Copyright (C) 2018 Vikash Kumar\n",
    "Author  :: Vikash Kumar (vikashplus@gmail.com)\n",
    "Source  :: https://github.com/vikashplus/robohive\n",
    "License :: Under Apache License, Version 2.0 (the \"License\"); you may not use this file except in compliance with the License. You may obtain a copy of the License at http://www.apache.org/licenses/LICENSE-2.0 Unless required by applicable law or agreed to in writing, software distributed under the License is distributed on an \"AS IS\" BASIS, WITHOUT WARRANTIES OR CONDITIONS OF ANY KIND, either express or implied. See the License for the specific language governing permissions and limitations under the License.\n",
    "================================================= \"\"\"\n",
    "\n",
    "import numpy as np\n",
    "import gym\n",
    "from gym import utils\n",
    "import mujoco.viewer\n",
    "import os\n",
    "import time\n",
    "import socket\n",
    "import struct\n",
    "from scipy.spatial.transform import Rotation as R\n",
    "import math\n",
    "from math import sin, cos, pi\n",
    "\n",
    "\n",
    "def mjcb_control(model, data):\n",
    "\n",
    "    pass\n",
    "   \n",
    "\n",
    "\n",
    "x=[]\n",
    "def main():\n",
    "    # =========== config model =========== #\n",
    "    #curr_dir = os.path.dirname(os.path.abspath(__file__))\n",
    "\n",
    "    model = mujoco.MjModel.from_xml_path('simple(1).xml')\n",
    "    data = mujoco.MjData(model)\n",
    "\n",
    "    model.vis.scale.framelength = 0.5\n",
    "    model.vis.scale.framewidth = 0.02\n",
    "\n",
    "    print( model.nq,                         # number of generalized coordinates = dim(qpos)\n",
    "        model.nv,                         # number of degrees of freedom = dim(qvel)\n",
    "        model.nu,                         # number of actuators/controls = dim(ctrl)\n",
    "        model.na,                         # number of activation states = dim(act)\n",
    "        model.nbody,                      # number of bodies\n",
    "        model.nbvh,                       # number of total bounding volumes in all bodies\n",
    "        model.njnt,                       # number of jomodel.\n",
    "        model.ngeom,                      # number of geoms\n",
    "        model.nsite,                      # number of sites\n",
    "    )\n",
    "    # 145 138 9 0 129 106364 121 144 2\n",
    "    # 33 33 26 0 31 48605 33 57 30\n",
    "\n",
    "    print(\"geom list\")\n",
    "    for i in range(model.ngeom):\n",
    "        print(i, model.geom(i).name)\n",
    "\n",
    "    model.opt.timestep = 0.001\n",
    "    print(\"timestep: \", model.opt.timestep)\n",
    "    \n",
    "    mujoco.set_mjcb_control(mjcb_control)\n",
    "    \n",
    "    # =========== Visualization Loop =========== #\n",
    "    with mujoco.viewer.launch_passive(model, data, show_left_ui = 1) as viewer:\n",
    "        \n",
    "    \n",
    "        with viewer.lock():\n",
    "            # 设置显示的内容\n",
    "            viewer.opt.flags[mujoco.mjtVisFlag.mjVIS_CONTACTPOINT] = 0\n",
    "            viewer.opt.flags[mujoco.mjtVisFlag.mjVIS_CONTACTFORCE] = 1\n",
    "            viewer.opt.label = mujoco.mjtLabel.mjLABEL_CONTACTFORCE\n",
    "            viewer.opt.frame = mujoco.mjtFrame.mjFRAME_BODY\n",
    "            \n",
    "            viewer.show_right_ui = False\n",
    "            viewer.show_left_ui = False\n",
    "            viewer.info = True\n",
    "\n",
    "        # ========= 开始仿真 ========= #\n",
    "        start = time.time()\n",
    "        while viewer.is_running() and time.time() - start < 3000:\n",
    "            \n",
    "            step_start = time.time()\n",
    "\n",
    "            # ========= 仿真一步 ========= #\n",
    "            # mj_step can be replaced with code that also evaluates\n",
    "            # a policy and applies a control signal before stepping the physics.\n",
    "            mujoco.mj_step(model, data)\n",
    "\n",
    "            force = np.ndarray((6, 1))\n",
    "            # ========= 获取希望的数据 ========= #\n",
    "            for i in range(len(data.contact)):\n",
    "                # print(data.contact[i].geom1, data.contact[i].geom2)\n",
    "                g1 = data.contact[i].geom1\n",
    "                g2 = data.contact[i].geom2\n",
    "                # if (g1 in geomIntrested.keys() or g2 in geomIntrested.keys()):\n",
    "                    # print(data.contact[i].pos)\n",
    "                    # print(mujoco.mj_id2name(model, mujoco.mjtObj.mjOBJ_GEOM, g1))\n",
    "\n",
    "                mujoco.mj_contactForce(model, data, i, force)\n",
    "                print(force)\n",
    "                # print(force[0, 0:2])\n",
    "                x.append(data.geom(4).xpos)\n",
    "                print(data.geom(4).xpos)\n",
    "                    \n",
    "            \n",
    "            # ========= 更新显示 ========= #\n",
    "            # Pick up changes to the physics state, apply perturbations, update options from GUI.\n",
    "            viewer.sync()\n",
    "\n",
    "            # Rudimentary time keeping, will drift relative to wall clock.\n",
    "            time_until_next_step = model.opt.timestep - (time.time() - step_start)\n",
    "            if time_until_next_step > 0:\n",
    "                time.sleep(time_until_next_step)\n",
    "\n",
    "        # 5 最后关闭客户端套接字连接\n",
    "        # tcp_client_1.close()\n",
    "\n",
    "\n",
    "if __name__ == \"__main__\":\n",
    "    main()"
   ]
  },
  {
   "cell_type": "code",
   "execution_count": 5,
   "id": "7304df62",
   "metadata": {},
   "outputs": [],
   "source": [
    "import mujoco\n",
    "import mediapy as media\n",
    "import matplotlib.pyplot as plt\n",
    "\n",
    "import time\n",
    "import itertools\n",
    "import numpy as np\n"
   ]
  },
  {
   "cell_type": "code",
   "execution_count": 6,
   "id": "1c42c3ff",
   "metadata": {},
   "outputs": [
    {
     "data": {
      "text/html": [
       "<table class=\"show_images\" style=\"border-spacing:0px;\"><tr><td style=\"padding:1px;\"><img width=\"320\" height=\"240\" style=\"image-rendering:auto; object-fit:cover;\" src=\"data:image/png;base64,iVBORw0KGgoAAAANSUhEUgAAAUAAAADwCAIAAAD+Tyo8AAAgN0lEQVR4nO2dy9IsuVHHU336XOacGePABEs2RHgPAS8AL8DCC+9MBAtejSeAJVsi2HjLzhE2Bl+wzeCZ8cyZr8Wi6yYpU0pJqVuV/j6er6uUSqnV+imz1NXd6kf/8I8v336r4PFKgVIwdSZ9748+/cHf/uX3vvsh048Onriamg7ANy/6y68/fv77r//n86/ut8c3t1vL3kyV003BQ2KuqYmspWOoqz40b16pN+/ffPf9mz/7088mu2fWl19/8/7t63w/k16flMlzXd2btTxVXjd1e2iZCOyemHl1D5oAn16looPlV7snrqN2z3UCfGbdbkrXmlxens8Oc7tNggnwmaUU6EebmXW5fa9G69XcxDqzFCiRa+BsXez9SVVvZ2tG4DPrdru1isBwwSDsqnxYnhH4zFIK2vFr6WJB2FWZsDwj8JmlVOMoqJwjsze9rC6VVODpToDPLKWgi0vgg1yk4QpUF3tOE+AzS6nb4/Fo3YuwGFRjJ/pX+S5PgM+smxpx1i9yNoDG2RSr2M37H76VcfQc7vyecy7yOa0cX+3n4yF3UTI6rQC+/Obx68//oF4Zy/SWVG/DwnrVnFz8eKzU/vobhklhlLLZ2vD1WYPHijdzuHvHObNdipf73/3NX2W6OOJx6JBeC+V1vLtobf04G3tB1eiT0yn36lQZfxKaW+672qbgbz7/4l/+7T9+87vfDxK5pqJ1/4s//5P02r2Q0kSZuNXQz3/1+qf/+fOPX7Xux1Qx5V0D8xf2nqd5hAaA9iittRqms1MpqrWJFZXD9TXlFPTWowjp+S0r51Znu9BdzLbBwqxHj+cV8dR51Q3AjafZeaC1pObNsqdWBwA3g+a00G5a3z6dOq2aAtxmap2f210PfbvE87yuWgA8uS2t9UnOt39Pr7oAz2y5nLDntt7iMnVaVQG45RQ6NbqcZ3XOZz61qDDAHaDbuBfi4j2Z9RM9M4k+ucoA3J6YcwXeKGgP0qBv806OU0sa4Paz5SyBNxVax2LsYZjySwjgXibJ4IFXCtrVUD+GHYopnrIB7mWCDBt4+TjGW80r4NMrA+BeQBkQXWFofYZKbZ+2t6XnFtf4ige4L0rGobcitEyzCfYJFANwX4iMgK48tJG2SaLAhsl2f2IA3CMfHdPbE7Tiv2w22e5NXoC7gwM6RbcUi9lPUUO1DzPMhLyJCIA7guOonujtFtrONIN2UZkA9zt5FHnQrBeCtvHmPGno+kYOl+2JdKxWgHt+lRu3X8g23jxeGnS/LywmpdRkOEr3ztDt4xvkRobWbqr9aMZpMhyl5l+p0wexUBrE6tw+NSYIk2G+mgDcOivedBpoqdaG/V7oyTBTdQDuJsxCBQobBdtmnSilyTBHhQDuiVg4F7Te1qyS0b+VcjIclBTAnRELdfLdTrk1ivp6VaI1GfYrB+Dhoa1UI1PeBvsa/zKaDHsUBXB/xEI1BMfjVq8J9E2pxwTgpPID3CWxcF5oQ20mdkiN+n7SphmEKbkAT2hbqAC3D63XXazxCZ4ME7qfidjUShn1MlXy+lZreADAbdB3ghFNhl3d+3px60Hb9HnXff/2BuqlgNsmmgxban4r5aqqobNTemWl9WNp7QZwGoK9n09M0OjLQR8AXyFbrqf1Caplqp8nhy4g2eWAI9klozXAtSlsPZVLXfQuVY3Z+ADQoFZ5Ko8ehcaS7JIx5O8Dj0qvsDBoj6WHSBxwVDEKzcVCVo0Azo81NZuUkkAXdhcYdMp5RyEUfKurWncuslKM9APfDaivKM7ONAotcX6v2RnClXSRtGKYH/gent7oXgQyZOrt+w3ohwZQcFOgbrFNT8Wp4WJREeAr0+uVch6mQOtsNisFABqWH1dJGYeLZKFjyXopqwDcjL9u6FWMI/zdHn+GTNeBw3dSJl+zVAksc5nIUXmAJ70AQCMsEmwJj8ud0LfOhsLSXCZyVBLglvx1MWXNmSkP7W7u7j4/s2dfc9dShWWiyRpRDOBr0utch+6PqHdrA3vIzGDrFq39UQpg7mLVUJNUogDAjeGrTi+NmA9awHuaFmxRo+11Rn8i+Kwp5elVeBPrIvTGxcXD6XLB1vrj70v5cDEXiDqSA7g9fIXprQWt3y+P2+VYA4C6qWq/UHhsfy4QVSQEcHv4ykyXJGgP/0crB6G1K1NJMtKI4YWwOYXmAvFUNsBdkCf6WirXYxDataRKsEXaUdvfQ4kGpUDV2lw5mYoOmuDqkAfwaehFoAUCC8MgG1q7fkSwPZT4hmDS258EV4dUgLsiL6O2bIYMXG7pYAshbv0dVI6Vsws9SnI4xVESwO3Jy/CRAu1aIhpsnVLsBLOPNrcKAPTzRmg3yJeJyXNdaKJIgHtBN9JNKWhx137vSUky0U2DW/ppUAWiKnfROJcGj2IAHoveVGgP/6cazgu2EMGtvyXPlbvxVAe/Cp5Lg0c8gBsEzSQ3XmihwGUtWKj4SokTTEdgkRnidj2nAG5zH4vQCa4mGAB3RC8ZjsQzZPBymxxsvdZi3NonJsB1VWJdoBYFL8AdoWu6yYAWcOhMx5nBFmxuoy9uIZdbpfaPI018T6DnouBiTAPcBb01oAUvt5LBFkL9tXlN4tYqW76QYy84wYXfZeVijAEst2LHe0Impy8/9G3QpGfIIMstL9gif+2+xvnVq5F9YVwxwZsqoePvyzgAN6A3EtrcDBlvgNNGiSQZ+WsaJCUdZr3y18Dii8JcEfzaQvEB4KrocqAF3mTNypDNNhAvwkkyCHAbk3coNwIPoZkmcKSUWgGuQa8gtODMVNQLA1qimeG4RRv2D9HVdMpF4S77AvtT3+eJHGghNCmlgy0g+GIVgk0W5BbvHACAXj4QTNafypTUopC8EEh+I0eTOQp8aKFWsAXrKZNLVuEx2fo3Ce5dyb97LACwZyr6A3L2ZS0kB1unK1gl2mNikgyZw7IWxgyLCjic6kVpDKcAnB5pObMTc2G3IBlsiUdYYbfcAj4yy/dCgwLqNoCprpTwMnEBjoQWGBN/N2NlyLRNyWALA3LrmqzPWS4Wz7WgnKJCsQ9g/9T0Q5t5CQehqRkXbPdjLrfpm1Kwdd3XgMSiFrgI2eZAiQxadkd3LgeW+AzbAGdBWzhDBpu/WkkyuOPSlFveuqa3Bru/CJ6pgStmOn2HwtCC6KQUS5KBh1Uf3O6NxAxRcLk8pU6WGgRD8R29bbE0tBCakWDzJ5QkAw+rGtyu5SVHab0d+mIQyylzORDh38+wcSeWwHQkvJgl4sGWeETUyeQ22HchbnmNAT5QyvxplakmSn531/UDxHJwD2wABVZv6WAL+HTLDrZhFJR7yjSrwC1EjVVogVPw/DqdyW9LSTFMudo2scpkyLRZdLDdj0skyYQzTghssMYh7txjTRdO1VRRhu87FtnQQvREDAZOdpJslmclyVCZW05/DZekwfGUPlwBK7jdbo/Hw9eVqZISvJHGcoWm0LsxcGdh8WDLqDYat0KpMloBQFsWnP2Y5puu51aJUOzeyFFgCgIv2O7H/GBLuwaX13Lcrt0QzlAQjzTKxqAdAvDSOc7Maf7ZmtNLnOEnwIUyZNxjKHRgNk55KG/A/jpmrIwhMCaVuEVOOaN1NHjofRta3dQKdSWJLARnXQVkGb4rTlL4/Fs42CI29tmOuAUSNKxHRUIu4INoe+OsMD3qxOmAIMPkB/pFggZmRj+iqwWTZDjSQliOxS1yKoJbAHhG3PVKeESChdRnOiDFsHENrMz/4A3bB4WSZBiOW9jGTnb0ABk2VpKzDU0wy5oKaVsFBEkWYfguFS6QsylJMnC4Rfh1LKtzy0zwDcc+G+PYu/Ap6+h5rOGxF058pSSY/Yp4u+e8CUmY0Y/ImlEXt4RLX+pQkttuQq7TD72dn3djCaorhqmPE24HUcGWeEQ30BO3BxOvJYdbp23cqdAwIl15zon9KU+CRSXOMKQm5wvAvSTJAE24Bd+TdtoU59Y4lRNydz3ngn7+xLeaOfQASvxOrGAay4kSiBlmEsOtj00OtyHQoM9UmewO/8mtl8BwGPHJr7hkg3CyT/IaOD27swvOzK3tpnDI9fXGzlj04bFaA/GuDt8dHU49MOy9BgZ8dkkFWzhCQltW5nZvtgq3ZI9iQy7t6omvfbKDj6qfQM0ZPn6lzuYAeYSYYSbjc8t/Eob7gBkgo8rLX1jo2jUAANQ+BQrsYOXva59mCWjL8B2jtUiSDNR8M4uFuD30qrNUmexReraMHmmqoBOdKQVoyPB2KyUj2DpWtbllxZIGl7j42ZIhF6lkav8+nZtSRWJwY+XwXwL+VgzfkYlmu7EPONyGrsuacbu3zOeWdl0p5AI1oJg9QrbqMgY3UwnYCrnlfCslVdX0E2jHrZTAbWyrEM8t1Ay5/MqpF7qI5VJw3IS+nTACZ2oshoHOGpwP9E9uzRYCZhDDrVMgki1v58grYF+HpoRVeWlAf+A79uLWrm+dlufW69Qs5+1TYy34zOxTFbJlwjc9wtowmbJViLRyIr6V8jD3euUWqqTKuPd6IRcEB9keqvlxQlQDJdKU5/ulufV67zlbpttdL4H18iVY//yvf/3x48s33768vGzfSsmfW4Ylf07SlnYB3zLboVNTsxryOuSPT6Il3aXtWylRE2RKBeZf59w6/SC9h6JwKIVvkS1jVZYX+L9/+cdkjcNciZpSJfhkWjZsmm9Zk3lzE6sYt7wcLoLbvf1obvEGQjTXyZYJ9xlDfVwxnUlwvHzyTBd7abBW4YOxjCXdevGmRSyf28YJlp5hp16gu2U5CLdh10Kp8n4gE3IBHW3afd5oW1+Zyac0mWcJyzEo9VraxszxTCD/br7qLbj1+nUa6DfkBjoXFXKhxIBbtTw4yVg6xiejNIdnYARevVr6Mu07Z56UmEbMkJvIrbcBZsgl6zsF4tmyr2lm2+tLvs0qIUT7SrabWx6MjfEE38hv9mtN/Gv3OQbmrZRmUUtu4TiTuXQYjYQt7bPSIde0r4fubquOtYTyZ8s4IjgDeC7IfZx0eUF+qIzQpY429M9i5DOMbWJxJxDIbynDcRpHhVyFnMMt6cpkfayA/fUc8uhyhl1reP6PcFIif5YKzr4OZLi12fPmJn4+mTbAMMhleN/EGpJbbxu9h1woOPIa9DI0CqASoulu08IjlVUywqOXNseGw3CqE8MsgWHPrxPmcYs48LTB3vWyD/oIuaZ9W3QP/9fryfaI8twa0x0zA05WyVC1GFucYfzXCa2eMRTH7cGqs5CLlY2G7lPaKt3Oe6mLMk5wy52mTGVgE8cn1X6JhqIYvh+KbS88tU+V8YKKITdwZJ7johv5zhA2PAprjaQOQoHR+5ZGNHuERHJXKUnxKW+zGdi70M25tV3GpsrG2Y5CrrcPaehC6FV4wOEF5Vwx0q3UASZFNbkqLE5bNsP37YDdRgK3METIhfOgu7xrc2zieBVK3wnUlw2dmbexIa7krRCYbGO1BUeeKRvPJpbRIvinC1rh+TeFW7IlfsgljbEC4Wx5PR3lVAxdAFheeSuiBCdiIRvgTMSgDd3cWW2AM0TuJpbhefdROlU2WwtYImeLZ8uBI/N0Q3StNhiRhwqGUjaGWX/BuQdW03lGAe6FW7KgdMg1qwhly4inEug+pffmtjqs25taZdEQGXkKgTEO84vZEeADs72nysaBZMg1qwihm9AJo27SKwLOjkizaMkjp1RwhsLBsC7zdlv3zaIQt4jXFiEXgn1NzZZ93aiL7mqrQMH2xSutoi7IgUq5YgbnPpJtsjliBDSsrx1msL+4dxU7p55/E7lFTrPP1g+5dFMdo+v0oWwKDeVBTXBFB2dBCDn7An5QKUqfBjulntI7Z5YY07V2yDUOOkE3IpSz+mHUlUD3KSuT5AQcwyxvM6mlK94Hbj0tciCEEGYR8lf3MOzfhW6YKhsHUdxCsLsJ2fJaMgi6B5+BVA1ECewngJNmkSkr8INhTikmo5SqjgNcLlUmC6qH3MCRczoKXfaNMVAGXce2UgxkmmW1CDjzHgIhKlSWozSTcNTgbpkvf3mTqVzI9TnCyhpd6CKFVdDlNaN1XjjNRCurRWJdSCbBMMDkL41Q3Sht/z7wYCEX+kE37qvTC6O7vOZKKU9auBhyKJUz2+Mk0asaECZ87DYTs1Dr6U2v34mVwC0ME3IDR1hJV+iu5mm/r6AKUUowAHmMZULoL80Ms2WT4TTnd86KLpAq2wWVQm7gyCmJypY7RHcHSMNjnzGxlLKuJ5MuJiOUVL1oEI5oPSlKpzDs24Uumir7HBFlRbLltWR0dF33RM1gkCytzDDIbiZv+SjtX6o6ArBMqmwX8EIuVpwXcukGE7JlVm/s6rXRNQHxv89JvF96eLEOBpnVXYOk6lap271S1QFAa3Okw/4zq1sGSHV0F9o6HiPkYj6uhy4AgHo8nkm0Nk0iPu+KptbBG4/4BpnVUQP/WhNVHTCeCQ+4f3CATKoe7L+ydqE3W/y07dJXkB5yIRfdQLYc6tLA6C5/lnuh1frYrRG4F1eQVdQgE7bm/gkDfIRRg2za4fkE7848iA2TdUOuWZEbcg8lvaIL/HeQsUTJOKf15k0dHVecyrjBKRcLwiCCxiTaF4Pjj5uJhVxfFaKsVLa8lsR5Z3XIrp6OrlDgPej568DPf1tpMIWO+06ZDlkNGjBgDhpEdABCNCbRbhgE3kaSDLlYccIb0Fx0WSE3uU9G9QR01xri6DIdoCl00OBo0zgJzzcIfhoxH+ac0Mo08N8L7S+omi0HjrCSK6OrFxuVHXUlw/K4Bpnb9XQTfAO9tmLdyGGqdMgFzszNy5ZDvUpeTgwPDdDdj5mrpTZPpEXdqLDcnrQeDIKx/ejBGckVXPuNYrzovhXi6ijkettMRTfmswdQE127kRh0dai8WNTFnRQzCFxyRxlAEZiXsKmJlwQrjWP4js+IyiHXqTjRdQ6SBv7wNPOjLmHTMMfebRgGgKW4/G7gGexqQAGqaIajgy1a5FwD94VumMpQA8hSEMlgJrpxS4UMusZrvsy//IthSFwODJt2+S0cXhCUZAiRA0Ea04qI5lhF9/2k7ZooIQ2P55qHXNxlbXRjmiReAVbObJ3Fpmc+hyJhGbfJT6H93UiDSlyRzbGKrO/Eah5yvc1OdD213FNqT6HLpccStCe/vQz5vImH0+RFIc0n/uuE8cv+6dBlNEY03+Jy1zrlZFxV0uPkVjab8JaPRyWgEm8uMpEON2f8OmGdkMs64ZRMdMliJ4JrAAANeiOqGajUxVu8ukOxkM+Yi2GA8NtIdHHZkHsoPDm6vLaZ6FrHWluvOj8YQgjUcNAgeuyx9kxxnveeUEzziZX6ioi3kbaK+Oka2bLXiCg8I7p4cQBdDbAD6g25VLSE/MjmVwlKRTvTDG+0HYph4hs5cujIRjc65EITdA9kRNUyXURUIc+6VurxsErDaa3o+xy5LRIVIciGp2KSz+SKuZ1hlt7/69f/C4iIRT9+rtv1kmnZHrI9kIYM8NhgMaIjt4HI9cBxsh19/Pbliz98/OKrr19eXpxC9xLXU9Rbxb3U+90AiRVDN0hGVTxMkeyKWOnyHO8//cVvYa8Rn7VSdjG2gYKMeR2OVRHuAqkFzwl2On9J2i0UAGitX170y8vLty/uSu9Z5jkAJFdESzslOaMiC9fYip6hu//sF78DWiEUk4DgEh7nXBl/ImqwijODY8SpOOeog9srdX/16vX9dn91W8w6Qk52CQAeHmWBjHWbXNGte//ZLw8ROF4OiolTMrKVIm15lwCZtnhDldvW29f3D+/ffvru7Yf3b/pDToDV3oBk9geQQUjvz7PR+69++39QQMbnUOuqVdP9POVP3r55aH1/dXv3eH20Wh80CI/dkOwvLbtAlOA88OuEw6khRf3oOAaRu52loWrSaHGS2Y3Kc14E4ElRTSGjbWxGqnJgdMhqMZI75ByUIn5eNEf9ZJIXaVprHWrdnmfo9I2n0V/amFVpkv2l9Ti3Ss+WQl9QLr0KQCmlAG6OLQAQ0wjGpVGEZH9pXc4jSoUBvmYMbKjgs+aE3PiAfLnSupxvpeHPM0sCfE2EGooecLX9h74GBmuWUKWwrgKAzN0RS6Et5xiNQLC6g+rUWiQGcFt6L9h6TKMyIRe8qXXnpZRB0Q08NHISQZUSxfByfl4DDyk/vWuha8MJuZDJeZ+lkE0yFTmBpotiOK2KIwUgtAt9wQDYubYhiUcReJyjoQ8phV5J9nS7ZORMr4J2zNmnjNfkp7LCG1fOkVLLP8dwuzyjShWz1DRQPOcQrJ5f6rS7PkJGUdFFlBpXEQC4rZovH5U7wGvOellzUAReaS5s3r6Bt/pSSsnDcIxkQaWKoqvkAtycn0uJO9pqfZ1t+zgUY0oBBFAMh02PEmqVD8LFvWUBPOntU2r5by6KxQLyelA8bMp6S4j2ad4isB87hW6+gtTsQGpbmaDmrAK+LiUrhsbaQdhTVCg+pwPcHJ5LKXa0FRihLgNUo3qahEjIaqh8EG4TnxMB7oHeHvpQR0LPlBszsSJNF+X1STTKyfWhCI2eosg+7EXzRo7elUCvOlxp/vjH/yTcoamelBKBewh9sw9BqQIBc6o3RQPc+aw9mRJHe75Gl9GQu9AXWURynuZtQnwNxQF8EXJ60BzqKY4iAO5kSl2hG1mx9yZxg/vUIOK+1p1gM8WV+Ubw1Fk12GJ9hXUk+zlG/9Db1LhiAXwFbDqR5FDPF+0CCgPcD72n74mIWwWA32c1dUYNlkKfWGKLgrL+Tp1ZAYBPH/TOqTlUl5EP4MlMNYkO9XzVLqQxUuiulhLxzpR5djeAyfL5RQLcFTMnlvxyIOtuqm/hAE96KQ0xMgN0cUpIA6TQ/TAzRvKsVsdq3tJxfiEA9wNMVxqC3vnaXU02wL3NgE76MwS9T91g5tAX0gAp9PlU+EYutfxnYnwBGQB3Eu42ddKfTrrh1xCdnBLXDvCcAagGSp4X/ze4zVfyMloA7pDeHro0Cr2o27kFfQXNr5UlNTK9ajv59z/8/ts397dv7vD6Dq/vMbse3F/FjFQJt47P3Ea09TfXT64r0s8d+oh1lpp3aRR6g/rRD7//nU/ffefDO/XhHbx/F79kx847jn3QJmGyowxn8qcXB+xf+PV4Wv1kuNKHR+vje3NUOtRAY4J01frZhdynokJzLmFGBn16Ok1VdHyiXyqk/U4cnwoANChl14jzs3bkeXvNcWWJ8qMOj9RSr8cUui0/A91fQbk9voWktdZaPx761bL8p0UA8bw3yHBCB9ZJHTSJA1sBaNt3ip9j3RXjHD8AMH9axdJA9JLNmbNBAejHekonB+RY3oBt33xpWCttf5Daaln7uKkDA0gFoGl3bD/dAdww/I5FL9Oz1ss/eGjQGlQOMCX2n5J4C/uEg1upHSksFEf1yALyGYofAPBI9tMdwK10SnoBAOAJrX4+zGwWBLyg1avseAusFesIeEaCbMITbM0L4xj1BfBAu0edyxrIxwNe4dOjn0viMm5RMAQ2qEFoTVzlz6hp9QVwK50p/N62TejnBZ3W+rl9tWTSIjNOPO910l2qPNc/AEh1Pyaj5oflyMWlI4Bbhd8z0UtXi7Jutf8EJFu5Edp0Sy4XGfmIYCiOyag7AriJxqI3Ss+Z8PJ4PKOwaATeWpDwZvvYYMWcjx6KiY4gBTyGLw1wJ6Txxeuw2v49v5NDGNtFmnjMMM+RbCimHMZuRB1L64biXgCuz1LPv64g6FmvciIw6u04V/zNKfNx8JYDHT+zvW+TZjEMgVBMPnV6TDRgoTib5hDGvQBcWcPRG9EH7gVv+sZLjI63Ljg3JIY7Ss/dlBXBapsRiqP8Hb0sf1PngztQiyv7HeMuAK59r9KA9CY7X+LuwVOxN10hnGESd1jQ2vbTNVJBOTdOBQfJHgqwPQteFed4c5/I0tmb5bELgGvq/PSa3+iuQIPaUuhHFD3HLvCCJ2/CRkxr/5W2Awl3RbB8mpcVCjkX7p1dwLjlI0FORt0e4Jrht4cUt4KIZ4mkZWyXzm3AgapBz86KAMH4SaOQuCK4nrVxDov6RF3Kv9ovjNNXBOfsnlHr9gBXU2/bS4Wcbx9meH5yX2utH88IvN4ObUgjE4pqMIKToCn2wYAsCIGdJlBKuypmbiVodJWge+Lxf0wTVGOATxASu6KXEj1nMNIY75V4ZV24Hs6hhmK707FpAirskpoTPAM6ZNThXrFfgOt8nHDES99kHX+Swfw0EmEeNdPD5hhDMovC4VAR1XJ3oYidLWAGT7YEFgWAttfA1Wb/oPQK+dfLv+dnkshvh+HPzai4JLWtRaUJdLW4a1frHNYhyf37qIzap/NH4D6DZFDp3VbOA2415lRy3nFh1fMbxb8hZHciooTsD3Iu6vqCvZuQ/z7TqmYA1+Fq0I2rXB2+efInP/n3zz755LMP7z57//bT9+8+fPLGWzP++ixi/mnyINHhZp4chzmGTNRjGzTNIzciNp35p1XGpTfH/7qDZHjQx7AZrh1jEdFTRR4kOtzMFVmNLmE3i7nwWsdIWX9j/bQBuEL4uia9gM+E/UYHhVkEHGAWPBYDzkm44iE4vLWS7tALOzauuYuGae5U4/g5ZwQel95y2oKwCMO2USrDZNX4YRZhOOSiaCjGn4Ef4wYAdx7B2qrS1gA0Z5hRNTKQwU6AQDrdIhSD5xlQfs4WgYe4raKsf4Uu5PZeTymGO7gkrhKKM639zUZk1LUBHhewgQI7Or/cN4CLMMythJhKXRIDh2F2KI5wIR6KsR5YJ84WgQtplF23200perZo0BbGPIbDHZNimKyaznBuZIx2UTcUVwV4RkhKcp2P9sNgOMmiBMOdptPNQrGqCfC49I63NCh1U6CeHX/GXO/v6/XBcJFLYuAwPGwohmoAjwvYKMlzbh9AjGEeiGH/BRgePRQja1ENgMcF7BT0cv1LMWwb5TEseElcPp0mCsVCMYCzFhUHeFzAegiMsVLebgduG+6SYbJ2fAgDDsMt0umcjPr/AWoLEoRkhvKqAAAAAElFTkSuQmCC\"/></td></tr></table>"
      ],
      "text/plain": [
       "<IPython.core.display.HTML object>"
      ]
     },
     "metadata": {},
     "output_type": "display_data"
    },
    {
     "name": "stdout",
     "output_type": "stream",
     "text": [
      "positions [0. 0. 0.]\n",
      "velocities [0. 0. 0.]\n",
      "name of geom 1:  bb2\n",
      "name of body 0:  b2\n",
      "name of body 0:  <_MjModelBodyViews\n",
      "  dofadr: array([2])\n",
      "  dofnum: array([1])\n",
      "  geomadr: array([4])\n",
      "  geomnum: array([1])\n",
      "  id: 4\n",
      "  inertia: array([1.20833333e-05, 1.20833333e-05, 2.08333333e-05])\n",
      "  invweight0: array([20.,  0.])\n",
      "  ipos: array([0., 0., 0.])\n",
      "  iquat: array([1., 0., 0., 0.])\n",
      "  jntadr: array([2])\n",
      "  jntnum: array([1])\n",
      "  mass: array([0.05])\n",
      "  mocapid: array([-1])\n",
      "  name: 'b2'\n",
      "  parentid: array([3])\n",
      "  pos: array([0., 0., 0.])\n",
      "  quat: array([1., 0., 0., 0.])\n",
      "  rootid: array([3])\n",
      "  sameframe: array([1], dtype=uint8)\n",
      "  simple: array([2], dtype=uint8)\n",
      "  subtreemass: array([0.05])\n",
      "  user: array([], dtype=float64)\n",
      "  weldid: array([4])\n",
      ">\n"
     ]
    }
   ],
   "source": [
    "model = mujoco.MjModel.from_xml_path('simple(1).xml')\n",
    "renderer = mujoco.Renderer(model)\n",
    "data = mujoco.MjData(model)\n",
    "mujoco.mj_forward(model, data)\n",
    "renderer.update_scene(data, camera=\"closeup\")\n",
    "media.show_image(renderer.render())\n",
    "print('positions', data.qpos)\n",
    "print('velocities', data.qvel)\n",
    "print('name of geom 1: ', model.geom(4).name)\n",
    "print('name of body 0: ', model.body(4).name)\n",
    "print('name of body 0: ', model.body(4))"
   ]
  },
  {
   "cell_type": "code",
   "execution_count": 7,
   "id": "b9002e84",
   "metadata": {
    "code_folding": []
   },
   "outputs": [],
   "source": [
    "duration = 7    # (seconds)\n",
    "framerate = 60  # (Hz)\n",
    "\n",
    "# Simulate and display video.\n",
    "frames = []\n",
    "mujoco.mj_resetDataKeyframe(model, data, 0)  # Reset the state to keyframe 0\n",
    "while data.time < duration:\n",
    "  mujoco.mj_step(model, data)\n",
    "  if len(frames) < data.time * framerate:\n",
    "    renderer.update_scene(data, \"closeup\")\n",
    "    pixels = renderer.render()\n",
    "    frames.append(pixels)"
   ]
  },
  {
   "cell_type": "code",
   "execution_count": 10,
   "id": "c389fd18",
   "metadata": {},
   "outputs": [
    {
     "data": {
      "image/png": "[encoded data removed]",
      "text/plain": [
       "<Figure size 600x800 with 2 Axes>"
      ]
     },
     "metadata": {},
     "output_type": "display_data"
    }
   ],
   "source": [
    "PERTURBATION = 1e-7\n",
    "SIM_DURATION = 10 # seconds\n",
    "NUM_REPEATS = 8\n",
    "timevals = []\n",
    "angular_velocity = []\n",
    "stem_height = []\n",
    "# Simulate and save data\n",
    "mujoco.mj_resetDataKeyframe(model, data, 0)\n",
    "while data.time < duration:\n",
    "  mujoco.mj_step(model, data)\n",
    "  timevals.append(data.time)\n",
    "  data.ctrl[0] = 100 # root joint velocity\n",
    "  angular_velocity.append(data.qvel[3:6].copy())\n",
    "  stem_height.append(model.body(3).pos[0]);\n",
    "dpi = 120\n",
    "width = 600\n",
    "height = 800\n",
    "figsize = (width / dpi, height / dpi)\n",
    "_, ax = plt.subplots(2, 1, figsize=figsize, dpi=dpi, sharex=True)\n",
    "\n",
    "ax[0].plot(timevals, angular_velocity)\n",
    "ax[0].set_title('angular velocity')\n",
    "ax[0].set_ylabel('radians / second')\n",
    "\n",
    "ax[1].plot(timevals, stem_height)\n",
    "ax[1].set_xlabel('time (seconds)')\n",
    "ax[1].set_ylabel('meters')\n",
    "_ = ax[1].set_title('stem height')"
   ]
  },
  {
   "cell_type": "code",
   "execution_count": 88,
   "id": "86116e3b",
   "metadata": {},
   "outputs": [
    {
     "ename": "AttributeError",
     "evalue": "'MjModel' object has no attribute 'bvh_geomid'",
     "output_type": "error",
     "traceback": [
      "\u001b[1;31m---------------------------------------------------------------------------\u001b[0m",
      "\u001b[1;31mAttributeError\u001b[0m                            Traceback (most recent call last)",
      "\u001b[1;32m~\\AppData\\Local\\Temp\\ipykernel_23700\\880940239.py\u001b[0m in \u001b[0;36m<module>\u001b[1;34m\u001b[0m\n\u001b[0;32m      7\u001b[0m \u001b[1;33m\u001b[0m\u001b[0m\n\u001b[0;32m      8\u001b[0m \u001b[1;31m# 创建一个仿真环境\u001b[0m\u001b[1;33m\u001b[0m\u001b[1;33m\u001b[0m\u001b[1;33m\u001b[0m\u001b[0m\n\u001b[1;32m----> 9\u001b[1;33m \u001b[0mphysics\u001b[0m \u001b[1;33m=\u001b[0m \u001b[0mmjcf\u001b[0m\u001b[1;33m.\u001b[0m\u001b[0mPhysics\u001b[0m\u001b[1;33m.\u001b[0m\u001b[0mfrom_xml_string\u001b[0m\u001b[1;33m(\u001b[0m\u001b[0mxml\u001b[0m\u001b[1;33m.\u001b[0m\u001b[0mto_xml_string\u001b[0m\u001b[1;33m(\u001b[0m\u001b[1;33m)\u001b[0m\u001b[1;33m)\u001b[0m\u001b[1;33m\u001b[0m\u001b[1;33m\u001b[0m\u001b[0m\n\u001b[0m\u001b[0;32m     10\u001b[0m \u001b[1;33m\u001b[0m\u001b[0m\n\u001b[0;32m     11\u001b[0m \u001b[1;31m# 初始化环境数据\u001b[0m\u001b[1;33m\u001b[0m\u001b[1;33m\u001b[0m\u001b[1;33m\u001b[0m\u001b[0m\n",
      "\u001b[1;32mc:\\users\\administrator\\appdata\\local\\programs\\python\\python38\\lib\\site-packages\\dm_control\\mujoco\\engine.py\u001b[0m in \u001b[0;36mfrom_xml_string\u001b[1;34m(cls, xml_string, assets)\u001b[0m\n\u001b[0;32m    441\u001b[0m     \"\"\"\n\u001b[0;32m    442\u001b[0m     \u001b[0mmodel\u001b[0m \u001b[1;33m=\u001b[0m \u001b[0mwrapper\u001b[0m\u001b[1;33m.\u001b[0m\u001b[0mMjModel\u001b[0m\u001b[1;33m.\u001b[0m\u001b[0mfrom_xml_string\u001b[0m\u001b[1;33m(\u001b[0m\u001b[0mxml_string\u001b[0m\u001b[1;33m,\u001b[0m \u001b[0massets\u001b[0m\u001b[1;33m=\u001b[0m\u001b[0massets\u001b[0m\u001b[1;33m)\u001b[0m\u001b[1;33m\u001b[0m\u001b[1;33m\u001b[0m\u001b[0m\n\u001b[1;32m--> 443\u001b[1;33m     \u001b[1;32mreturn\u001b[0m \u001b[0mcls\u001b[0m\u001b[1;33m.\u001b[0m\u001b[0mfrom_model\u001b[0m\u001b[1;33m(\u001b[0m\u001b[0mmodel\u001b[0m\u001b[1;33m)\u001b[0m\u001b[1;33m\u001b[0m\u001b[1;33m\u001b[0m\u001b[0m\n\u001b[0m\u001b[0;32m    444\u001b[0m \u001b[1;33m\u001b[0m\u001b[0m\n\u001b[0;32m    445\u001b[0m   \u001b[1;33m@\u001b[0m\u001b[0mclassmethod\u001b[0m\u001b[1;33m\u001b[0m\u001b[1;33m\u001b[0m\u001b[0m\n",
      "\u001b[1;32mc:\\users\\administrator\\appdata\\local\\programs\\python\\python38\\lib\\site-packages\\dm_control\\mujoco\\engine.py\u001b[0m in \u001b[0;36mfrom_model\u001b[1;34m(cls, model)\u001b[0m\n\u001b[0;32m    424\u001b[0m     \u001b[1;34m\"\"\"A named constructor from a `wrapper.MjModel` instance.\"\"\"\u001b[0m\u001b[1;33m\u001b[0m\u001b[1;33m\u001b[0m\u001b[0m\n\u001b[0;32m    425\u001b[0m     \u001b[0mdata\u001b[0m \u001b[1;33m=\u001b[0m \u001b[0mwrapper\u001b[0m\u001b[1;33m.\u001b[0m\u001b[0mMjData\u001b[0m\u001b[1;33m(\u001b[0m\u001b[0mmodel\u001b[0m\u001b[1;33m)\u001b[0m\u001b[1;33m\u001b[0m\u001b[1;33m\u001b[0m\u001b[0m\n\u001b[1;32m--> 426\u001b[1;33m     \u001b[1;32mreturn\u001b[0m \u001b[0mcls\u001b[0m\u001b[1;33m(\u001b[0m\u001b[0mdata\u001b[0m\u001b[1;33m)\u001b[0m\u001b[1;33m\u001b[0m\u001b[1;33m\u001b[0m\u001b[0m\n\u001b[0m\u001b[0;32m    427\u001b[0m \u001b[1;33m\u001b[0m\u001b[0m\n\u001b[0;32m    428\u001b[0m   \u001b[1;33m@\u001b[0m\u001b[0mclassmethod\u001b[0m\u001b[1;33m\u001b[0m\u001b[1;33m\u001b[0m\u001b[0m\n",
      "\u001b[1;32mc:\\users\\administrator\\appdata\\local\\programs\\python\\python38\\lib\\site-packages\\dm_control\\mujoco\\engine.py\u001b[0m in \u001b[0;36m__init__\u001b[1;34m(self, data)\u001b[0m\n\u001b[0;32m    121\u001b[0m     \"\"\"\n\u001b[0;32m    122\u001b[0m     \u001b[0mself\u001b[0m\u001b[1;33m.\u001b[0m\u001b[0m_warnings_cause_exception\u001b[0m \u001b[1;33m=\u001b[0m \u001b[1;32mTrue\u001b[0m\u001b[1;33m\u001b[0m\u001b[1;33m\u001b[0m\u001b[0m\n\u001b[1;32m--> 123\u001b[1;33m     \u001b[0mself\u001b[0m\u001b[1;33m.\u001b[0m\u001b[0m_reload_from_data\u001b[0m\u001b[1;33m(\u001b[0m\u001b[0mdata\u001b[0m\u001b[1;33m)\u001b[0m\u001b[1;33m\u001b[0m\u001b[1;33m\u001b[0m\u001b[0m\n\u001b[0m\u001b[0;32m    124\u001b[0m \u001b[1;33m\u001b[0m\u001b[0m\n\u001b[0;32m    125\u001b[0m   \u001b[1;33m@\u001b[0m\u001b[0mcontextlib\u001b[0m\u001b[1;33m.\u001b[0m\u001b[0mcontextmanager\u001b[0m\u001b[1;33m\u001b[0m\u001b[1;33m\u001b[0m\u001b[0m\n",
      "\u001b[1;32mc:\\users\\administrator\\appdata\\local\\programs\\python\\python38\\lib\\site-packages\\dm_control\\mjcf\\physics.py\u001b[0m in \u001b[0;36m_reload_from_data\u001b[1;34m(self, data)\u001b[0m\n\u001b[0;32m    494\u001b[0m       \u001b[0mdata\u001b[0m\u001b[1;33m:\u001b[0m \u001b[0mInstance\u001b[0m \u001b[0mof\u001b[0m\u001b[0;31m \u001b[0m\u001b[0;31m`\u001b[0m\u001b[0mcore\u001b[0m\u001b[1;33m.\u001b[0m\u001b[0mMjData\u001b[0m\u001b[0;31m`\u001b[0m\u001b[1;33m.\u001b[0m\u001b[1;33m\u001b[0m\u001b[1;33m\u001b[0m\u001b[0m\n\u001b[0;32m    495\u001b[0m     \"\"\"\n\u001b[1;32m--> 496\u001b[1;33m     \u001b[0msuper\u001b[0m\u001b[1;33m(\u001b[0m\u001b[1;33m)\u001b[0m\u001b[1;33m.\u001b[0m\u001b[0m_reload_from_data\u001b[0m\u001b[1;33m(\u001b[0m\u001b[0mdata\u001b[0m\u001b[1;33m)\u001b[0m\u001b[1;33m\u001b[0m\u001b[1;33m\u001b[0m\u001b[0m\n\u001b[0m\u001b[0;32m    497\u001b[0m     \u001b[0mself\u001b[0m\u001b[1;33m.\u001b[0m\u001b[0m_bindings\u001b[0m \u001b[1;33m=\u001b[0m \u001b[1;33m{\u001b[0m\u001b[1;33m}\u001b[0m\u001b[1;33m\u001b[0m\u001b[1;33m\u001b[0m\u001b[0m\n\u001b[0;32m    498\u001b[0m     \u001b[0mself\u001b[0m\u001b[1;33m.\u001b[0m\u001b[0m_bindings\u001b[0m\u001b[1;33m[\u001b[0m\u001b[1;33m(\u001b[0m\u001b[1;33m)\u001b[0m\u001b[1;33m]\u001b[0m \u001b[1;33m=\u001b[0m \u001b[0m_EMPTY_BINDING\u001b[0m\u001b[1;33m\u001b[0m\u001b[1;33m\u001b[0m\u001b[0m\n",
      "\u001b[1;32mc:\\users\\administrator\\appdata\\local\\programs\\python\\python38\\lib\\site-packages\\dm_control\\mujoco\\engine.py\u001b[0m in \u001b[0;36m_reload_from_data\u001b[1;34m(self, data)\u001b[0m\n\u001b[0;32m    405\u001b[0m     \u001b[0maxis_indexers\u001b[0m \u001b[1;33m=\u001b[0m \u001b[0mindex\u001b[0m\u001b[1;33m.\u001b[0m\u001b[0mmake_axis_indexers\u001b[0m\u001b[1;33m(\u001b[0m\u001b[0mself\u001b[0m\u001b[1;33m.\u001b[0m\u001b[0mmodel\u001b[0m\u001b[1;33m)\u001b[0m\u001b[1;33m\u001b[0m\u001b[1;33m\u001b[0m\u001b[0m\n\u001b[0;32m    406\u001b[0m     self._named = NamedIndexStructs(\n\u001b[1;32m--> 407\u001b[1;33m         \u001b[0mmodel\u001b[0m\u001b[1;33m=\u001b[0m\u001b[0mindex\u001b[0m\u001b[1;33m.\u001b[0m\u001b[0mstruct_indexer\u001b[0m\u001b[1;33m(\u001b[0m\u001b[0mself\u001b[0m\u001b[1;33m.\u001b[0m\u001b[0mmodel\u001b[0m\u001b[1;33m,\u001b[0m \u001b[1;34m'mjmodel'\u001b[0m\u001b[1;33m,\u001b[0m \u001b[0maxis_indexers\u001b[0m\u001b[1;33m)\u001b[0m\u001b[1;33m,\u001b[0m\u001b[1;33m\u001b[0m\u001b[1;33m\u001b[0m\u001b[0m\n\u001b[0m\u001b[0;32m    408\u001b[0m         data=index.struct_indexer(self.data, 'mjdata', axis_indexers),)\n\u001b[0;32m    409\u001b[0m \u001b[1;33m\u001b[0m\u001b[0m\n",
      "\u001b[1;32mc:\\users\\administrator\\appdata\\local\\programs\\python\\python38\\lib\\site-packages\\dm_control\\mujoco\\index.py\u001b[0m in \u001b[0;36mstruct_indexer\u001b[1;34m(struct, struct_name, size_to_axis_indexer)\u001b[0m\n\u001b[0;32m    626\u001b[0m     \u001b[1;31m# Skip over structured arrays and fields that have sizes but aren't numpy\u001b[0m\u001b[1;33m\u001b[0m\u001b[1;33m\u001b[0m\u001b[1;33m\u001b[0m\u001b[0m\n\u001b[0;32m    627\u001b[0m     \u001b[1;31m# arrays, such as text fields and contacts (b/34805932).\u001b[0m\u001b[1;33m\u001b[0m\u001b[1;33m\u001b[0m\u001b[1;33m\u001b[0m\u001b[0m\n\u001b[1;32m--> 628\u001b[1;33m     \u001b[0mattr\u001b[0m \u001b[1;33m=\u001b[0m \u001b[0mgetattr\u001b[0m\u001b[1;33m(\u001b[0m\u001b[0mstruct\u001b[0m\u001b[1;33m,\u001b[0m \u001b[0mfield_name\u001b[0m\u001b[1;33m)\u001b[0m\u001b[1;33m\u001b[0m\u001b[1;33m\u001b[0m\u001b[0m\n\u001b[0m\u001b[0;32m    629\u001b[0m     \u001b[1;32mif\u001b[0m \u001b[1;32mnot\u001b[0m \u001b[0misinstance\u001b[0m\u001b[1;33m(\u001b[0m\u001b[0mattr\u001b[0m\u001b[1;33m,\u001b[0m \u001b[0mnp\u001b[0m\u001b[1;33m.\u001b[0m\u001b[0mndarray\u001b[0m\u001b[1;33m)\u001b[0m \u001b[1;32mor\u001b[0m \u001b[0mattr\u001b[0m\u001b[1;33m.\u001b[0m\u001b[0mdtype\u001b[0m\u001b[1;33m.\u001b[0m\u001b[0mfields\u001b[0m\u001b[1;33m:\u001b[0m\u001b[1;33m\u001b[0m\u001b[1;33m\u001b[0m\u001b[0m\n\u001b[0;32m    630\u001b[0m       \u001b[1;32mcontinue\u001b[0m\u001b[1;33m\u001b[0m\u001b[1;33m\u001b[0m\u001b[0m\n",
      "\u001b[1;31mAttributeError\u001b[0m: 'MjModel' object has no attribute 'bvh_geomid'"
     ]
    }
   ],
   "source": [
    "\n"
   ]
  },
  {
   "cell_type": "code",
   "execution_count": null,
   "id": "8e74c51a",
   "metadata": {},
   "outputs": [],
   "source": []
  }
 ],
 "metadata": {
  "kernelspec": {
   "display_name": "Python 3 (ipykernel)",
   "language": "python",
   "name": "python3"
  },
  "language_info": {
   "codemirror_mode": {
    "name": "ipython",
    "version": 3
   },
   "file_extension": ".py",
   "mimetype": "text/x-python",
   "name": "python",
   "nbconvert_exporter": "python",
   "pygments_lexer": "ipython3",
   "version": "3.8.10"
  },
  "toc": {
   "base_numbering": 1,
   "nav_menu": {},
   "number_sections": true,
   "sideBar": true,
   "skip_h1_title": false,
   "title_cell": "Table of Contents",
   "title_sidebar": "Contents",
   "toc_cell": false,
   "toc_position": {},
   "toc_section_display": true,
   "toc_window_display": false
  },
  "varInspector": {
   "cols": {
    "lenName": 16,
    "lenType": 16,
    "lenVar": 40
   },
   "kernels_config": {
    "python": {
     "delete_cmd_postfix": "",
     "delete_cmd_prefix": "del ",
     "library": "var_list.py",
     "varRefreshCmd": "print(var_dic_list())"
    },
    "r": {
     "delete_cmd_postfix": ") ",
     "delete_cmd_prefix": "rm(",
     "library": "var_list.r",
     "varRefreshCmd": "cat(var_dic_list()) "
    }
   },
   "types_to_exclude": [
    "module",
    "function",
    "builtin_function_or_method",
    "instance",
    "_Feature"
   ],
   "window_display": false
  }
 },
 "nbformat": 4,
 "nbformat_minor": 5
}
