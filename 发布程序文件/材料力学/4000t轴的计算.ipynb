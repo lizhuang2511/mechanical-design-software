{
 "cells": [
  {
   "cell_type": "markdown",
   "id": "af4778e7",
   "metadata": {},
   "source": [
    "4000t销轴"
   ]
  },
  {
   "cell_type": "code",
   "execution_count": 39,
   "id": "6c95b4fb",
   "metadata": {},
   "outputs": [
    {
     "name": "stdout",
     "output_type": "stream",
     "text": [
      "12.271846303085129\n"
     ]
    }
   ],
   "source": [
    "import numpy as np\n",
    "def 圆抗弯截面模量(d):\n",
    "    v=np.pi*d**3/32\n",
    "    return v\n",
    "def 圆抗扭截面模量(d):\n",
    "    return np.pi*d**3/16\n",
    "d=50/1000\n",
    "圆抗弯截面模量v=圆抗弯截面模量(d)\n",
    "圆抗扭截面模量v=圆抗扭截面模量(d)\n",
    "print(圆抗弯截面模量v)"
   ]
  },
  {
   "cell_type": "markdown",
   "id": "13b549e6",
   "metadata": {},
   "source": [
    "均布载荷悬臂梁最大弯矩"
   ]
  },
  {
   "cell_type": "code",
   "execution_count": 34,
   "id": "0aedbee9",
   "metadata": {},
   "outputs": [
    {
     "name": "stdout",
     "output_type": "stream",
     "text": [
      "1500.0\n"
     ]
    }
   ],
   "source": [
    "力=60000\n",
    "力臂=25/1000\n",
    "弯矩=力*力臂\n",
    "print(弯矩)\n",
    "剪力=60000"
   ]
  },
  {
   "cell_type": "markdown",
   "id": "c37511ee",
   "metadata": {},
   "source": [
    "计算应力"
   ]
  },
  {
   "cell_type": "code",
   "execution_count": 36,
   "id": "349a5e1e",
   "metadata": {},
   "outputs": [
    {
     "name": "stdout",
     "output_type": "stream",
     "text": [
      "122.2309962945756 mpa\n"
     ]
    }
   ],
   "source": [
    "正应力=弯矩/圆抗弯截面模量v\n",
    "print(正应力/1e6,'mpa')"
   ]
  },
  {
   "cell_type": "markdown",
   "id": "fa9ef3f9",
   "metadata": {},
   "source": [
    "剪切件假定应力"
   ]
  },
  {
   "cell_type": "code",
   "execution_count": 37,
   "id": "881a4c22",
   "metadata": {},
   "outputs": [
    {
     "name": "stdout",
     "output_type": "stream",
     "text": [
      "30.557749073643905\n"
     ]
    }
   ],
   "source": [
    "面积=np.pi*(d/2)**2\n",
    "剪力应力=剪力/面积\n",
    "print(剪力应力/1e6)"
   ]
  },
  {
   "cell_type": "markdown",
   "id": "3d604f5a",
   "metadata": {},
   "source": [
    "第三强度理论"
   ]
  },
  {
   "cell_type": "code",
   "execution_count": 38,
   "id": "e011369a",
   "metadata": {},
   "outputs": [
    {
     "name": "stdout",
     "output_type": "stream",
     "text": [
      "133.19814015408738\n"
     ]
    }
   ],
   "source": [
    "应力=np.sqrt(正应力**2+3*剪力应力**2)\n",
    "print(应力/1e6)"
   ]
  },
  {
   "cell_type": "code",
   "execution_count": null,
   "id": "256a6a40",
   "metadata": {},
   "outputs": [],
   "source": []
  },
  {
   "cell_type": "code",
   "execution_count": null,
   "id": "b751449c",
   "metadata": {},
   "outputs": [],
   "source": []
  }
 ],
 "metadata": {
  "kernelspec": {
   "display_name": "Python 3 (ipykernel)",
   "language": "python",
   "name": "python3"
  },
  "language_info": {
   "codemirror_mode": {
    "name": "ipython",
    "version": 3
   },
   "file_extension": ".py",
   "mimetype": "text/x-python",
   "name": "python",
   "nbconvert_exporter": "python",
   "pygments_lexer": "ipython3",
   "version": "3.9.12"
  }
 },
 "nbformat": 4,
 "nbformat_minor": 5
}
