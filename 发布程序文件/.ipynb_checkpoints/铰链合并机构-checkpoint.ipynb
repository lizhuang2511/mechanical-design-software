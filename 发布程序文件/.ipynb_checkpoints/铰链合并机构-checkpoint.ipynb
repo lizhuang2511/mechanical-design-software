{
 "cells": [
  {
   "cell_type": "code",
   "execution_count": 29,
   "id": "c2542660-bfbe-41fd-ba00-df2dd6d71319",
   "metadata": {},
   "outputs": [
    {
     "name": "stdout",
     "output_type": "stream",
     "text": [
      "假设值b,c,a= 350 30 130\n",
      "根据假设反推d,d1= [266.66666667 188.88970668]\n",
      "验证值需要等于0= 0.0\n",
      "验证值需要等于0= 0.0\n",
      "验证值需要大于0= 72.94224610071748\n",
      "验证值需要大于0= 77.77695998823893\n"
     ]
    }
   ],
   "source": [
    "from math import *\n",
    "b=350\n",
    "c=30#假设\n",
    "a=130#假设\n",
    "print('假设值b,c,a=',b,c,a)\n",
    "#当c水平时\n",
    "the=atan(a/(b-c))\n",
    "import numpy as np\n",
    "from scipy.optimize import fsolve\n",
    "# 定义方程组函数，输入为变量x的数组，输出为方程组的函数值数组\n",
    "def equations(vars):\n",
    "    d, d1 = vars\n",
    "    eq1 = a**2+d**2-(c+d)**2\n",
    "    eq2 = 2*d1*cos(the)-b\n",
    "    return [eq1, eq2]\n",
    "# 初始猜测值\n",
    "x_init, y_init = 1, 1\n",
    "# 解方程组\n",
    "solution = fsolve(equations, [x_init, y_init])\n",
    "print('根据假设反推d,d1=',solution)\n",
    "d=solution[0]#反推值\n",
    "d1=solution[1]#反推值\n",
    "d2=d-d1\n",
    "print('验证值需要等于0=',a**2+d**2-(c+d)**2)\n",
    "print('验证值需要等于0=',2*d1*cos(the)-b)\n",
    "print('验证值需要大于0=',(b/2-(d2*cos(the)+c)))\n",
    "print('验证值需要大于0=',d-d1)"
   ]
  },
  {
   "cell_type": "code",
   "execution_count": null,
   "id": "e19d4f05-eff7-4282-a129-aa4b71bf6c97",
   "metadata": {},
   "outputs": [],
   "source": []
  },
  {
   "cell_type": "code",
   "execution_count": null,
   "id": "2a442e0d-f159-4a11-84f4-f1f426ec01af",
   "metadata": {},
   "outputs": [],
   "source": []
  }
 ],
 "metadata": {
  "kernelspec": {
   "display_name": "Python 3 (ipykernel)",
   "language": "python",
   "name": "python3"
  },
  "language_info": {
   "codemirror_mode": {
    "name": "ipython",
    "version": 3
   },
   "file_extension": ".py",
   "mimetype": "text/x-python",
   "name": "python",
   "nbconvert_exporter": "python",
   "pygments_lexer": "ipython3",
   "version": "3.10.9"
  }
 },
 "nbformat": 4,
 "nbformat_minor": 5
}
