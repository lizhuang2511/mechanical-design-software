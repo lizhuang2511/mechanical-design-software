{
 "cells": [
  {
   "cell_type": "markdown",
   "id": "b17c3ec9-39a9-4e41-aad9-7415acfc1fab",
   "metadata": {},
   "source": [
    "滑块行程=350mm，滑块调节量=0\n",
    "曲柄长度=175mm  连杆长度=1020mm\n",
    "spm max50"
   ]
  },
  {
   "cell_type": "code",
   "execution_count": null,
   "id": "f9a02275-f8b3-451b-90bb-4485d32fcc8e",
   "metadata": {},
   "outputs": [],
   "source": [
    "%run ../运动学计算/主界面.py\n",
    "#最大速度=1000mm/s"
   ]
  },
  {
   "cell_type": "markdown",
   "id": "12082f09-8eb0-418c-ab85-d2447976f136",
   "metadata": {},
   "source": [
    "平衡气缸直径=425mm，\n",
    "滑块重量=8150kg实际按9000kg计算，活塞杆直径45\n",
    "[气缸力计算](../气路润滑计算/平衡气缸计算.ipynb)==13t"
   ]
  },
  {
   "cell_type": "markdown",
   "id": "23c57d3a-22be-4aec-8356-c9b3fa627f84",
   "metadata": {},
   "source": [
    "10.SM2.030.0001行程350 活塞内径500mm，spm=50，配管口径3-RC1 1/2 出口6个"
   ]
  },
  {
   "cell_type": "code",
   "execution_count": 1,
   "id": "0a430de1-a95c-4cb5-9f8c-78d9cfd534ce",
   "metadata": {},
   "outputs": [],
   "source": [
    "滑块连接点平面到连接器安装面距离=1000\n",
    "连接器安装面距离到连接点距离=500\n",
    "连杆长度=500\n",
    "偏心轴距=175\n",
    "平衡气缸连接面到曲轴中心距离=300\n",
    "下死点到活塞面到安装面距离=500#50mm余量\n",
    "活塞杆长度=1400\n"
   ]
  },
  {
   "cell_type": "code",
   "execution_count": 10,
   "id": "b063a7b2-8655-4e18-9e18-31ffebac484a",
   "metadata": {},
   "outputs": [
    {
     "name": "stdout",
     "output_type": "stream",
     "text": [
      "0.061 0.005833333333333333\n"
     ]
    }
   ],
   "source": [
    "xgm=120\n",
    "p=0.7\n",
    "pxgm=p/xgm*1000\n",
    "xyxgm=6.1/100\n",
    "print(xyxgm,pxgm/1000)#管壁厚压力"
   ]
  },
  {
   "cell_type": "code",
   "execution_count": 2,
   "id": "54b1e89a-a9ca-43f4-a451-5f4c36d0b476",
   "metadata": {},
   "outputs": [
    {
     "name": "stdout",
     "output_type": "stream",
     "text": [
      "1256.6370614359173\n",
      "19.634954084936208\n",
      "1237.002107350981\n"
     ]
    }
   ],
   "source": [
    "from math import *\n",
    "活塞直径=40\n",
    "活塞面积=pi*(活塞直径/2)**2\n",
    "print(活塞面积)\n",
    "活塞杆直径=5\n",
    "活塞杆面积=pi*(活塞杆直径/2)**2\n",
    "print(活塞杆面积)\n",
    "实际面积=活塞面积-活塞杆面积\n",
    "print(实际面积)"
   ]
  },
  {
   "cell_type": "code",
   "execution_count": 3,
   "id": "913609d9-40e9-40e1-b4a9-a47036a416f7",
   "metadata": {},
   "outputs": [
    {
     "name": "stdout",
     "output_type": "stream",
     "text": [
      "61850.105367549055\n"
     ]
    }
   ],
   "source": [
    "力=实际面积*100*0.5\n",
    "print(力)"
   ]
  },
  {
   "cell_type": "code",
   "execution_count": null,
   "id": "0cf5a1c6-5141-48d4-b5ca-5a1a1d07e59c",
   "metadata": {},
   "outputs": [],
   "source": [
    "重量=140/1000\n",
    "修改后重量=299/1000\n",
    "钢材单价=4230\n",
    "材料差价=\n",
    "焊工工资=9000\n",
    "每小时工资=9000/22/8\n",
    "工时="
   ]
  },
  {
   "cell_type": "code",
   "execution_count": 2,
   "id": "167b8311-df3f-4865-bba1-16408fa94c75",
   "metadata": {},
   "outputs": [
    {
     "name": "stdout",
     "output_type": "stream",
     "text": [
      "384.8836992\n"
     ]
    }
   ],
   "source": [
    "润滑油密度=0.91\n",
    "体积=1088*660*589/10/10/10\n",
    "质量=润滑油密度*体积/1000\n",
    "print(质量)"
   ]
  },
  {
   "cell_type": "code",
   "execution_count": 11,
   "id": "01dd49b8-301a-4512-9bf7-a4c56334af8b",
   "metadata": {},
   "outputs": [
    {
     "name": "stdout",
     "output_type": "stream",
     "text": [
      "1.1223021582733812\n",
      "最大位移 1.7529118271699173 最大应力 18.934294871794872\n"
     ]
    }
   ],
   "source": [
    "a=780\n",
    "b=695\n",
    "print(a/b)\n",
    "beat=0.055\n",
    "alf=0.34\n",
    "t=4\n",
    "e=211000#mpa\n",
    "f=1000\n",
    "s=a*b\n",
    "q=f/s\n",
    "weiyi=beat*(b/t)**4*(q/e)*t\n",
    "yingli=alf*(b/t)**2*q\n",
    "print('最大位移',weiyi,'最大应力',yingli)"
   ]
  },
  {
   "cell_type": "code",
   "execution_count": null,
   "id": "499f281f-e2b0-4f14-9eed-e6d3f52574b2",
   "metadata": {},
   "outputs": [],
   "source": []
  }
 ],
 "metadata": {
  "kernelspec": {
   "display_name": "Python 3 (ipykernel)",
   "language": "python",
   "name": "python3"
  },
  "language_info": {
   "codemirror_mode": {
    "name": "ipython",
    "version": 3
   },
   "file_extension": ".py",
   "mimetype": "text/x-python",
   "name": "python",
   "nbconvert_exporter": "python",
   "pygments_lexer": "ipython3",
   "version": "3.8.10"
  }
 },
 "nbformat": 4,
 "nbformat_minor": 5
}
