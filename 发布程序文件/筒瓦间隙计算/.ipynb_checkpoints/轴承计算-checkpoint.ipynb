{
 "cells": [
  {
   "cell_type": "markdown",
   "id": "94a63e68",
   "metadata": {},
   "source": [
    "zxm2-2500铜瓦计算"
   ]
  },
  {
   "cell_type": "markdown",
   "id": "883a934d",
   "metadata": {},
   "source": [
    "材料：ZCUSN10P1,计算p值"
   ]
  },
  {
   "cell_type": "code",
   "execution_count": 6,
   "id": "6455c38b",
   "metadata": {},
   "outputs": [
    {
     "name": "stdout",
     "output_type": "stream",
     "text": [
      "32.375032375032376\n"
     ]
    }
   ],
   "source": [
    "轴承宽度=41.5*2+115\n",
    "轴承直径=195\n",
    "载荷力=2500000/2\n",
    "p=载荷力/轴承直径/轴承宽度\n",
    "print(p)"
   ]
  },
  {
   "cell_type": "markdown",
   "id": "879a4c32",
   "metadata": {},
   "source": [
    "mp1600压力机铜瓦计算"
   ]
  },
  {
   "cell_type": "code",
   "execution_count": 7,
   "id": "11dcaab1",
   "metadata": {},
   "outputs": [
    {
     "name": "stdout",
     "output_type": "stream",
     "text": [
      "36.77146534289391\n"
     ]
    }
   ],
   "source": [
    "轴承宽度=47*2+200\n",
    "轴承直径=740\n",
    "载荷力=16000000/2\n",
    "p=载荷力/轴承直径/轴承宽度\n",
    "print(p)"
   ]
  },
  {
   "cell_type": "markdown",
   "id": "f517c99b",
   "metadata": {},
   "source": [
    "转速=615度/s=10.7"
   ]
  },
  {
   "cell_type": "code",
   "execution_count": 8,
   "id": "7ad3f718",
   "metadata": {},
   "outputs": [
    {
     "name": "stdout",
     "output_type": "stream",
     "text": [
      "3.9589999999999996\n"
     ]
    }
   ],
   "source": [
    "转速=10.7\n",
    "轴承半径=轴承直径/2/1000\n",
    "线速度=转速*轴承半径\n",
    "print(线速度)"
   ]
  },
  {
   "cell_type": "code",
   "execution_count": 9,
   "id": "5eb2b705",
   "metadata": {},
   "outputs": [
    {
     "name": "stdout",
     "output_type": "stream",
     "text": [
      "145.578231292517\n"
     ]
    }
   ],
   "source": [
    "pv=p*线速度\n",
    "print(pv)"
   ]
  },
  {
   "cell_type": "code",
   "execution_count": null,
   "id": "0fad8639",
   "metadata": {},
   "outputs": [],
   "source": []
  }
 ],
 "metadata": {
  "kernelspec": {
   "display_name": "Python 3 (ipykernel)",
   "language": "python",
   "name": "python3"
  },
  "language_info": {
   "codemirror_mode": {
    "name": "ipython",
    "version": 3
   },
   "file_extension": ".py",
   "mimetype": "text/x-python",
   "name": "python",
   "nbconvert_exporter": "python",
   "pygments_lexer": "ipython3",
   "version": "3.9.12"
  }
 },
 "nbformat": 4,
 "nbformat_minor": 5
}
