{
 "cells": [
  {
   "cell_type": "code",
   "execution_count": 4,
   "id": "ba9dc45e",
   "metadata": {},
   "outputs": [
    {
     "name": "stdout",
     "output_type": "stream",
     "text": [
      "有效面积mm**2= 5890\n",
      "平衡气罐总容量l= 0.2945243112740431\n",
      "预测平衡力t= 11.780972450961723\n"
     ]
    }
   ],
   "source": [
    "import numpy as np\n",
    "大径=100#mm\n",
    "小径=50#mm\n",
    "有效面积=np.pi*((大径/2)**2-(小径/2)**2)\n",
    "print('有效面积mm**2=',int(有效面积))\n",
    "行程=50\n",
    "平衡气缸数量=1\n",
    "v=有效面积*行程\n",
    "print('平衡气罐总容量l=',(v*平衡气缸数量)/1e6)\n",
    "预测平横力=有效面积*平衡气缸数量*20*1e6/10000/1e6\n",
    "print('预测平衡力t=',预测平横力)"
   ]
  },
  {
   "cell_type": "code",
   "execution_count": null,
   "id": "9d031d18",
   "metadata": {},
   "outputs": [],
   "source": []
  }
 ],
 "metadata": {
  "kernelspec": {
   "display_name": "Python 3 (ipykernel)",
   "language": "python",
   "name": "python3"
  },
  "language_info": {
   "codemirror_mode": {
    "name": "ipython",
    "version": 3
   },
   "file_extension": ".py",
   "mimetype": "text/x-python",
   "name": "python",
   "nbconvert_exporter": "python",
   "pygments_lexer": "ipython3",
   "version": "3.9.12"
  }
 },
 "nbformat": 4,
 "nbformat_minor": 5
}
