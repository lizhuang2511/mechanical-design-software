{
 "cells": [
  {
   "cell_type": "markdown",
   "id": "fd4896e0",
   "metadata": {},
   "source": [
    "平衡气缸有效面积计算"
   ]
  },
  {
   "cell_type": "code",
   "execution_count": 4,
   "id": "eb56c1f4",
   "metadata": {},
   "outputs": [
    {
     "name": "stdout",
     "output_type": "stream",
     "text": [
      "有效面积mm**2= 140272\n",
      "平衡气罐总容量l= 98.19047838794899\n",
      "预测平衡力t= 13.18557852638172\n"
     ]
    }
   ],
   "source": [
    "import numpy as np\n",
    "大径=425#mm\n",
    "小径=45#mm\n",
    "有效面积=np.pi*((大径/2)**2-(小径/2)**2)\n",
    "print('有效面积mm**2=',int(有效面积))\n",
    "行程=350\n",
    "平衡气缸数量=2\n",
    "v=有效面积*行程\n",
    "print('平衡气罐总容量l=',(v*平衡气缸数量)/1e6)\n",
    "预测平横力=有效面积*平衡气缸数量*0.47*1e6/10000/1e6\n",
    "print('预测平衡力t=',预测平横力)"
   ]
  },
  {
   "cell_type": "code",
   "execution_count": null,
   "id": "f9a4ff9d",
   "metadata": {},
   "outputs": [],
   "source": []
  },
  {
   "cell_type": "raw",
   "id": "0d56f971",
   "metadata": {},
   "source": [
    "正向设计vt=vs/(k1**(1/1.4)-1)#日本取值1.4#调节压力在0.1mpa之内"
   ]
  },
  {
   "cell_type": "code",
   "execution_count": 2,
   "id": "bef64764",
   "metadata": {},
   "outputs": [
    {
     "name": "stdout",
     "output_type": "stream",
     "text": [
      "7.189590334111758\n",
      "必要的总容积l= 705.9493143198075\n",
      "必要的气罐容积l= 607.7588359318586\n"
     ]
    }
   ],
   "source": [
    "k1=1.2#压力上升率\n",
    "系数=1/(k1**(1/1.4)-1)\n",
    "print(系数)\n",
    "总容积=v*平衡气缸数量*系数\n",
    "vt1=总容积-v*平衡气缸数量\n",
    "print('必要的总容积l=',总容积/1e6)\n",
    "print('必要的气罐容积l=',vt1/1e6)"
   ]
  },
  {
   "cell_type": "raw",
   "id": "6ba12da1",
   "metadata": {},
   "source": [
    "气路气体总体积"
   ]
  },
  {
   "cell_type": "code",
   "execution_count": 3,
   "id": "099bbd91",
   "metadata": {},
   "outputs": [
    {
     "name": "stdout",
     "output_type": "stream",
     "text": [
      "气罐总容量l= 392779506.47065604\n",
      "总体积mm**3= 435087334.7365498\n"
     ]
    }
   ],
   "source": [
    "气罐数量=2\n",
    "气罐直径=485\n",
    "气罐长度=1050\n",
    "配管容积=0#后期添加\n",
    "容量=(气罐直径/2)**2*np.pi*气罐长度\n",
    "总体积=v*平衡气缸数量+气罐数量*容量\n",
    "print('气罐总容量l=',容量*气罐数量)\n",
    "print('总体积mm**3=',总体积)"
   ]
  },
  {
   "cell_type": "raw",
   "id": "0f66fb97",
   "metadata": {},
   "source": [
    "任意位置平衡力"
   ]
  },
  {
   "cell_type": "code",
   "execution_count": 4,
   "id": "c564c353",
   "metadata": {},
   "outputs": [
    {
     "name": "stdout",
     "output_type": "stream",
     "text": [
      "[435.08733474 434.73180677 434.3762788  434.02075083 433.66522286\n",
      " 433.30969489 432.95416692 432.59863896 432.24311099 431.88758302\n",
      " 431.53205505 431.17652708 430.82099911 430.46547114 430.10994318\n",
      " 429.75441521 429.39888724 429.04335927 428.6878313  428.33230333\n",
      " 427.97677536 427.6212474  427.26571943 426.91019146 426.55466349\n",
      " 426.19913552 425.84360755 425.48807958 425.13255162 424.77702365\n",
      " 424.42149568 424.06596771 423.71043974 423.35491177 422.9993838\n",
      " 422.64385583 422.28832787 421.9327999  421.57727193 421.22174396\n",
      " 420.86621599 420.51068802 420.15516005 419.79963209 419.44410412\n",
      " 419.08857615 418.73304818 418.37752021 418.02199224 417.66646427\n",
      " 417.31093631 416.95540834 416.59988037 416.2443524  415.88882443\n",
      " 415.53329646 415.17776849 414.82224053 414.46671256 414.11118459\n",
      " 413.75565662 413.40012865 413.04460068 412.68907271 412.33354474\n",
      " 411.97801678 411.62248881 411.26696084 410.91143287 410.5559049\n",
      " 410.20037693 409.84484896 409.489321   409.13379303 408.77826506\n",
      " 408.42273709 408.06720912 407.71168115 407.35615318 407.00062522\n",
      " 406.64509725 406.28956928 405.93404131 405.57851334 405.22298537\n",
      " 404.8674574  404.51192944 404.15640147 403.8008735  403.44534553\n",
      " 403.08981756 402.73428959 402.37876162 402.02323365 401.66770569\n",
      " 401.31217772 400.95664975 400.60112178 400.24559381 399.89006584\n",
      " 399.53453787 399.17900991 398.82348194 398.46795397 398.112426\n",
      " 397.75689803 397.40137006 397.04584209 396.69031413 396.33478616\n",
      " 395.97925819 395.62373022 395.26820225 394.91267428 394.55714631\n",
      " 394.20161835 393.84609038 393.49056241 393.13503444 392.77950647]\n",
      "平衡力储存t= [17.62826178 17.64844827 17.66867443 17.68894035 17.70924616 17.72959195\n",
      " 17.74997785 17.77040397 17.79087042 17.81137731 17.83192475 17.85251286\n",
      " 17.87314176 17.89381155 17.91452235 17.93527429 17.95606746 17.976902\n",
      " 17.99777801 18.01869561 18.03965493 18.06065607 18.08169916 18.10278432\n",
      " 18.12391166 18.14508131 18.16629338 18.187548   18.20884528 18.23018535\n",
      " 18.25156834 18.27299435 18.29446352 18.31597596 18.33753181 18.35913119\n",
      " 18.38077421 18.40246101 18.42419172 18.44596644 18.46778533 18.48964849\n",
      " 18.51155606 18.53350817 18.55550494 18.57754651 18.599633   18.62176454\n",
      " 18.64394126 18.66616329 18.68843077 18.71074383 18.7331026  18.7555072\n",
      " 18.77795779 18.80045448 18.82299741 18.84558672 18.86822254 18.89090502\n",
      " 18.91363427 18.93641045 18.95923369 18.98210413 19.0050219  19.02798714\n",
      " 19.051      19.07406061 19.09716912 19.12032566 19.14353038 19.16678341\n",
      " 19.19008491 19.21343502 19.23683387 19.26028161 19.2837784  19.30732436\n",
      " 19.33091966 19.35456443 19.37825882 19.40200298 19.42579707 19.44964121\n",
      " 19.47353558 19.49748031 19.52147556 19.54552148 19.56961822 19.59376593\n",
      " 19.61796477 19.64221488 19.66651643 19.69086957 19.71527445 19.73973122\n",
      " 19.76424006 19.7888011  19.81341452 19.83808046 19.86279909 19.88757057\n",
      " 19.91239505 19.9372727  19.96220368 19.98718815 20.01222628 20.03731823\n",
      " 20.06246415 20.08766422 20.11291861 20.13822747 20.16359097 20.18900929\n",
      " 20.21448259 20.24001103 20.26559479 20.29123404 20.31692895 20.34267968]\n"
     ]
    },
    {
     "data": {
      "text/plain": [
       "[<matplotlib.lines.Line2D at 0x1a91c73d940>]"
      ]
     },
     "execution_count": 4,
     "metadata": {},
     "output_type": "execute_result"
    },
    {
     "data": {
      "image/png": "[encoded data removed]",
      "text/plain": [
       "<Figure size 432x288 with 1 Axes>"
      ]
     },
     "metadata": {
      "needs_background": "light"
     },
     "output_type": "display_data"
    }
   ],
   "source": [
    "位置变化=np.linspace(0,行程,行程)\n",
    "p0=0.5e6\n",
    "k=1.4\n",
    "vi=平衡气缸数量*有效面积*(行程-位置变化)+气罐数量*容量\n",
    "print(vi/1e6)\n",
    "pii=p0*总体积**k/vi**k\n",
    "平衡力储存=平衡气缸数量*pii*有效面积/1e6/10000\n",
    "print('平衡力储存t=',平衡力储存)\n",
    "import matplotlib.pyplot as plt\n",
    "plt.plot(位置变化,平衡力储存)"
   ]
  },
  {
   "cell_type": "code",
   "execution_count": null,
   "id": "a1837a2c",
   "metadata": {},
   "outputs": [],
   "source": []
  }
 ],
 "metadata": {
  "kernelspec": {
   "display_name": "Python 3 (ipykernel)",
   "language": "python",
   "name": "python3"
  },
  "language_info": {
   "codemirror_mode": {
    "name": "ipython",
    "version": 3
   },
   "file_extension": ".py",
   "mimetype": "text/x-python",
   "name": "python",
   "nbconvert_exporter": "python",
   "pygments_lexer": "ipython3",
   "version": "3.8.10"
  }
 },
 "nbformat": 4,
 "nbformat_minor": 5
}
