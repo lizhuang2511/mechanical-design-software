{
 "cells": [
  {
   "cell_type": "code",
   "execution_count": 125,
   "id": "c2542660-bfbe-41fd-ba00-df2dd6d71319",
   "metadata": {},
   "outputs": [
    {
     "name": "stdout",
     "output_type": "stream",
     "text": [
      "假设值d,d1,bmax= 400 260.0 350\n",
      "反推a，c= [317.91002511  72.82849329]\n",
      "d2= 140.0\n"
     ]
    }
   ],
   "source": [
    "from math import *\n",
    "d=400#假设\n",
    "d1=d/2+60#假设\n",
    "bmax=350#假设\n",
    "the=50*pi/180\n",
    "print('假设值d,d1,bmax=',d,d1,bmax)\n",
    "from scipy.optimize import fsolve\n",
    "# 定义方程组函数，输入为变量x的数组，输出为方程组的函数值数组\n",
    "def equations(vars):\n",
    "    a, c = vars\n",
    "    eq1 = -(a)**2-bmax**2+(c+d)**2\n",
    "    eq2 = -2*d1*cos(asin(a/d))+d*cos(asin(a/d))+c\n",
    "    return [eq1, eq2]\n",
    "# 初始猜测值\n",
    "x_init, y_init = d-50, 20\n",
    "# 解方程组\n",
    "solution = fsolve(equations, [x_init, y_init])\n",
    "print('反推a，c=',solution)\n",
    "print('d2=',d-d1)"
   ]
  },
  {
   "cell_type": "code",
   "execution_count": null,
   "id": "e19d4f05-eff7-4282-a129-aa4b71bf6c97",
   "metadata": {},
   "outputs": [],
   "source": []
  },
  {
   "cell_type": "code",
   "execution_count": null,
   "id": "2a442e0d-f159-4a11-84f4-f1f426ec01af",
   "metadata": {},
   "outputs": [],
   "source": []
  }
 ],
 "metadata": {
  "kernelspec": {
   "display_name": "Python 3 (ipykernel)",
   "language": "python",
   "name": "python3"
  },
  "language_info": {
   "codemirror_mode": {
    "name": "ipython",
    "version": 3
   },
   "file_extension": ".py",
   "mimetype": "text/x-python",
   "name": "python",
   "nbconvert_exporter": "python",
   "pygments_lexer": "ipython3",
   "version": "3.10.9"
  }
 },
 "nbformat": 4,
 "nbformat_minor": 5
}
