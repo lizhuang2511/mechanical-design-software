{
 "cells": [
  {
   "cell_type": "markdown",
   "metadata": {},
   "source": [
    "铜瓦公差计算："
   ]
  },
  {
   "cell_type": "markdown",
   "metadata": {},
   "source": [
    "根据应力推荐表反推出最大过盈应力值在300-500左右（30-50mpa）最终止防止自转动\n",
    "应变*弹性模量=应力#"
   ]
  },
  {
   "cell_type": "code",
   "execution_count": 2,
   "metadata": {},
   "outputs": [
    {
     "name": "stdout",
     "output_type": "stream",
     "text": [
      "0.065\n"
     ]
    }
   ],
   "source": [
    "import numpy as np\n",
    "铜瓦弹性模量=900000\n",
    "最大应力=585\n",
    "直径=100\n",
    "最大过盈=最大应力/铜瓦弹性模量*直径\n",
    "print(最大过盈)"
   ]
  },
  {
   "cell_type": "markdown",
   "metadata": {},
   "source": [
    "由最大过盈求出轴瓦外径公差,进而校核最小应力"
   ]
  },
  {
   "cell_type": "code",
   "execution_count": 5,
   "metadata": {},
   "outputs": [
    {
     "name": "stdout",
     "output_type": "stream",
     "text": [
      "315.00000000000006\n"
     ]
    }
   ],
   "source": [
    "基本公差下=0#基孔制\n",
    "基本公差上=0.015\n",
    "轴瓦外径公差上=最大过盈+基本公差下\n",
    "轴瓦外径公差下=轴瓦外径公差上-基本公差上\n",
    "最小过盈=轴瓦外径公差下-基本公差上\n",
    "最小应力=最小过盈*铜瓦弹性模量/直径\n",
    "print(最小应力)"
   ]
  },
  {
   "cell_type": "code",
   "execution_count": null,
   "metadata": {},
   "outputs": [],
   "source": []
  }
 ],
 "metadata": {
  "kernelspec": {
   "display_name": "Python 3",
   "language": "python",
   "name": "python3"
  },
  "language_info": {
   "codemirror_mode": {
    "name": "ipython",
    "version": 3
   },
   "file_extension": ".py",
   "mimetype": "text/x-python",
   "name": "python",
   "nbconvert_exporter": "python",
   "pygments_lexer": "ipython3",
   "version": "3.8.5"
  }
 },
 "nbformat": 4,
 "nbformat_minor": 5
}
