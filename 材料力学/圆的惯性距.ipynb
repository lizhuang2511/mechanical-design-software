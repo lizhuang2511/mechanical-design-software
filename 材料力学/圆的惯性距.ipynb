{
 "cells": [
  {
   "cell_type": "markdown",
   "id": "39ae62b3",
   "metadata": {},
   "source": [
    "剪力的计算"
   ]
  },
  {
   "cell_type": "markdown",
   "id": "a178d20a",
   "metadata": {},
   "source": [
    "园的惯性距"
   ]
  },
  {
   "cell_type": "markdown",
   "id": "8606391a",
   "metadata": {},
   "source": [
    "弯曲剪应力简化工式"
   ]
  },
  {
   "cell_type": "code",
   "execution_count": 3,
   "id": "fd2ffff7",
   "metadata": {},
   "outputs": [
    {
     "name": "stdout",
     "output_type": "stream",
     "text": [
      "58.35681246702829\n"
     ]
    }
   ],
   "source": [
    "import numpy as np\n",
    "fq=55000#这个fq是什么？\n",
    "r=40/2/1000\n",
    "sa=np.pi*r**2\n",
    "tmax=4/3*fq/sa\n",
    "print(tmax/1e6)"
   ]
  },
  {
   "cell_type": "markdown",
   "id": "c8ed9504",
   "metadata": {},
   "source": [
    "剪切应力"
   ]
  },
  {
   "cell_type": "code",
   "execution_count": 4,
   "id": "f935aa7b",
   "metadata": {},
   "outputs": [
    {
     "name": "stdout",
     "output_type": "stream",
     "text": [
      "43.767609350271215\n"
     ]
    }
   ],
   "source": [
    "tmax=fq/sa\n",
    "print(tmax/1e6)"
   ]
  },
  {
   "cell_type": "code",
   "execution_count": 1,
   "id": "d8f03eca",
   "metadata": {},
   "outputs": [
    {
     "name": "stdout",
     "output_type": "stream",
     "text": [
      "11000.0\n"
     ]
    }
   ],
   "source": [
    "fq=55000\n",
    "iz=1#惯性距\n",
    "sz=1#面积静距\n",
    "ds=5#剪应力点厚度\n",
    "t=fq*sz/ds/iz\n",
    "print(t)"
   ]
  },
  {
   "cell_type": "code",
   "execution_count": null,
   "id": "a38991bc",
   "metadata": {},
   "outputs": [],
   "source": []
  }
 ],
 "metadata": {
  "kernelspec": {
   "display_name": "Python 3 (ipykernel)",
   "language": "python",
   "name": "python3"
  },
  "language_info": {
   "codemirror_mode": {
    "name": "ipython",
    "version": 3
   },
   "file_extension": ".py",
   "mimetype": "text/x-python",
   "name": "python",
   "nbconvert_exporter": "python",
   "pygments_lexer": "ipython3",
   "version": "3.9.12"
  }
 },
 "nbformat": 4,
 "nbformat_minor": 5
}
