{
 "cells": [
  {
   "cell_type": "code",
   "execution_count": 10,
   "id": "f3c3a977-ee51-4d63-b221-03aae2b2e70d",
   "metadata": {},
   "outputs": [
    {
     "name": "stdout",
     "output_type": "stream",
     "text": [
      "wedge Key:\n",
      "σp = 1612687.50 MPa\n",
      "Formula: See comments for specific key type\n",
      "Calculated Stress: 1612687.4999999998 MPa\n"
     ]
    }
   ],
   "source": [
    "import math  \n",
    "  \n",
    "def calculate_key_strength(key_type, T, D, l, b=None, k=None,\n",
    "                           t=None, C=None, mu=0.15):  \n",
    "    \"\"\"  \n",
    "    Calculate the strength of different types of keys based on input parameters.  \n",
    "  \n",
    "    Parameters:  \n",
    "    - key_type: str, type of key ('flat', 'semicircular', 'wedge', 'tangential', 'end').  \n",
    "    - T: float, torque applied, Nm.  \n",
    "    - D: float, diameter of the shaft, mm.  \n",
    "    - l: float, working length of the key, mm.  \n",
    "    - b: float, width of the key, mm (required for wedge and tangential keys).  \n",
    "    - k: float, contact height of key and hub, mm (optional, but required for accurate calculation for flat and semicircular keys).  \n",
    "    - t: float, working surface width of tangential key, mm (required for tangential key).  \n",
    "    - C: float, chamfer width of tangential key, mm (required for tangential key).  \n",
    "    - mu: float, friction coefficient, default 0.15 for steel and cast iron.  \n",
    "  \n",
    "    Returns:  \n",
    "    - string: formatted result with formula and calculated stress.  \n",
    "    - float: calculated stress value in MPa.  \n",
    "    \"\"\"  \n",
    "    sigma_p = None  \n",
    "      \n",
    "    if key_type == 'flat':  \n",
    "        if k is None:  \n",
    "            k = 0.4 * D  # Default value for flat key, should be adjusted based on actual design  \n",
    "        sigma_p = 2 * T / (D * k * l)  \n",
    "    elif key_type == 'semicircular':  \n",
    "        # For semicircular keys, k should be taken from a table or design specification  \n",
    "        if k is None:  \n",
    "            raise ValueError(\"k value is required for semicircular key calculations.\")  \n",
    "        sigma_p = 2 * T / (D * k * l)  \n",
    "    elif key_type == 'wedge':  \n",
    "        if b is None:  \n",
    "            raise ValueError(\"b (key width) is required for wedge key calculations.\")  \n",
    "        sigma_p = 12 * T * (6 * mu * D + b) / (b * l)  \n",
    "    elif key_type == 'tangential':  \n",
    "        if b is None or t is None or C is None:  \n",
    "            raise ValueError(\"b, t, and C are required for tangential key calculations.\")  \n",
    "        sigma_p = T / ((0.5 * mu + 0.45) * D * l * (t - C))  \n",
    "    elif key_type == 'end':  \n",
    "        # Assuming l1 is part of the total key length, but this needs to be specified or calculated  \n",
    "        # For simplicity, we'll use l as a placeholder for now  \n",
    "        l1 = l  # Placeholder, should be replaced with actual value  \n",
    "        sigma_p = 4 * T * D * (l1 - l / D) ** 2 / (D * l)  \n",
    "    else:  \n",
    "        return \"Invalid key type.\", None  \n",
    "  \n",
    "    return f\"{key_type} Key:\\nσp = {sigma_p:.2f} MPa\\nFormula: See comments for specific key type\", sigma_p  \n",
    "  \n",
    "# Example usage  \n",
    "key_type = 'wedge'  \n",
    "T = 1410000  # Nm  \n",
    "D = 50   # mm  \n",
    "l = 40    # mm  \n",
    "b = 16    # mm  \n",
    "result_str, result_val = calculate_key_strength(key_type, T, D, l, b)  \n",
    "print(result_str)  \n",
    "print(\"Calculated Stress:\", result_val, \"MPa\")\n"
   ]
  },
  {
   "cell_type": "code",
   "execution_count": 13,
   "id": "17b57b01-d369-494c-a0b6-552ab29cb8d9",
   "metadata": {
    "slideshow": {
     "slide_type": "subslide"
    },
    "tags": []
   },
   "outputs": [
    {
     "name": "stdout",
     "output_type": "stream",
     "text": [
      "警告：计算出的挤压应力 1364.79 MPa 大于许用应力 125.00 MPa\n",
      "公式: σ_p = 12T / b * l / ((6μ * D + b) , 挤压应力: 341.20 MPa\n"
     ]
    }
   ],
   "source": [
    "def calculate_key_stress(key_type, T, D, l, b=None, k=None, t=None, \n",
    "                         C=None, mu=0.15, sigma_pp=125):  \n",
    "    \"\"\"  \n",
    "    计算键连接的挤压应力。  \n",
    "  \n",
    "    参数:  \n",
    "    key_type (str): 键的类型 ('平键', '半圆键', '楔键', '切向键', '端面键')。  \n",
    "    T (float): 转矩，单位 N·mm。  \n",
    "    D (float): 轴的直径，单位 mm。  \n",
    "    l (float): 键的工作长度，单位 mm。  \n",
    "    b (float, 可选): 键的宽度，单位 mm（仅对楔键和切向键有用）。  \n",
    "    k (float, 可选): 键与轮毂的接触高度，单位 mm（平键和半圆键）。  \n",
    "    t (float, 可选): 切向键工作面宽度，单位 mm（仅对切向键有用）。  \n",
    "    C (float, 可选): 切向键倒角宽度，单位 mm（仅对切向键有用）。  \n",
    "    mu (float, 可选): 摩擦因数，默认为 0.15（可根据材料修改）。  \n",
    "    sigma_pp (float, 可选): 材料的许用挤压应力，单位 MPa，默认为 125 MPa。  \n",
    "  \n",
    "    返回:  \n",
    "    tuple: 包含计算公式的字符串和计算出的挤压应力 σ_p。  \n",
    "    \"\"\"  \n",
    "    # 根据键的类型选择不同的计算公式  \n",
    "    if key_type == '平键':  \n",
    "        # 默认k为0.4h（这里h未给出，实际中需要根据毂的厚度等确定，这里简化为一个假设值）  \n",
    "        # 这里为了简化，我们使用D的某个比例作为接触高度k的近似  \n",
    "        k = 0.4 * D / 10  # 假设k与D成比例  \n",
    "        sigma_p = 2 * T / (D * k * l)  \n",
    "        formula = f\"σ_p = 2T / (D * k * l)\"  \n",
    "    elif key_type == '半圆键':  \n",
    "        # 半圆键的k值通常从表或标准中取得，这里简化为D的某个比例  \n",
    "        k = 0.5 * D / 10  # 假设值  \n",
    "        sigma_p = 2 * T / (D * k * l)  \n",
    "        formula = f\"σ_p = 2T / (D * k * l)\"  \n",
    "    elif key_type == '楔键':  \n",
    "        sigma_p = 12 * T / (b * l* ((6 * mu * D + b)))  \n",
    "        formula = f\"σ_p = 12T / b * l / ((6μ * D + b) \"  \n",
    "    elif key_type == '切向键':  \n",
    "        sigma_p = T / ((0.5 * mu + 0.45) * D * l * (t - C))  \n",
    "        formula = f\"σ_p = T / ((0.5μ + 0.45) * D * l * (t - C))\"  \n",
    "    elif key_type == '端面键':  \n",
    "        sigma_p = 4 * T * D * l / (D**2 * (l - l/D)**2)  \n",
    "        formula = f\"σ_p = 4T * D * l / (D^2 * (l - l/D)^2)\"  \n",
    "    else:  \n",
    "        raise ValueError(\"不支持的键类型\")  \n",
    "  \n",
    "    # 验证强度  \n",
    "    if sigma_p > sigma_pp:  \n",
    "        print(f\"警告：计算出的挤压应力 {sigma_p:.2f} MPa 大于许用应力 {sigma_pp:.2f} MPa\")  \n",
    "  \n",
    "    return formula, sigma_p  \n",
    "  \n",
    "# 示例使用  \n",
    "formula, stress = calculate_key_stress('楔键', T=1410000000, D=400, l=380,b=75)  \n",
    "print(f\"公式: {formula}, 挤压应力: {stress/4:.2f} MPa\")"
   ]
  },
  {
   "cell_type": "code",
   "execution_count": null,
   "id": "6cf931b7-98eb-4d32-be80-2a01e8beb2a9",
   "metadata": {},
   "outputs": [],
   "source": []
  },
  {
   "cell_type": "code",
   "execution_count": 20,
   "id": "677706ba-8833-4801-b6d1-32c32bf26e5b",
   "metadata": {},
   "outputs": [
    {
     "name": "stdout",
     "output_type": "stream",
     "text": [
      "901.5128712259499\n"
     ]
    }
   ],
   "source": [
    "a=(400000*(1.02**30)-400000)/12/30\n",
    "print(a)"
   ]
  },
  {
   "cell_type": "code",
   "execution_count": null,
   "id": "5f6dcd41-25b9-4e55-a313-485294efa4f9",
   "metadata": {},
   "outputs": [],
   "source": []
  }
 ],
 "metadata": {
  "kernelspec": {
   "display_name": "Python 3 (ipykernel)",
   "language": "python",
   "name": "python3"
  },
  "language_info": {
   "codemirror_mode": {
    "name": "ipython",
    "version": 3
   },
   "file_extension": ".py",
   "mimetype": "text/x-python",
   "name": "python",
   "nbconvert_exporter": "python",
   "pygments_lexer": "ipython3",
   "version": "3.10.9"
  }
 },
 "nbformat": 4,
 "nbformat_minor": 5
}
