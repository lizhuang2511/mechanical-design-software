{
 "cells": [
  {
   "cell_type": "markdown",
   "id": "a381c261",
   "metadata": {},
   "source": [
    "导入包定义约束方程"
   ]
  },
  {
   "cell_type": "code",
   "execution_count": 48,
   "id": "f74953cd",
   "metadata": {},
   "outputs": [],
   "source": [
    "# -*- coding: utf-8 -*-\n",
    "import matplotlib.pyplot as plt\n",
    "#import sviewgui.sview as sv\n",
    "import pandas as pd\n",
    "import sys\n",
    "import time\n",
    "import numpy as np\n",
    "import scipy as sp\n",
    "#from scipy.optimize import root,fsolve\n",
    "import pandas as pd\n",
    "import sympy as sy\n",
    "plt.rcParams['font.sans-serif']=['SimHei'] #用来正常显示中文标签\n",
    "plt.rcParams['axes.unicode_minus']=False #用来正常显示负号\n",
    "from sympy import lambdify,pprint,latex,sin,cos\n",
    "from scipy import integrate,linalg \n",
    "from scipy.optimize import root, fsolve\n",
    "from scipy.sparse import diags\n",
    "l1,l2=sy.symbols(\"l1,l2\", real=True)\n",
    "#fi1=sy.symbols(\"\", real=True)\n",
    "t = sy.symbols('t')\n",
    "x1 = sy.Function('x1')(t);y1 = sy.Function('y1')(t);x2= sy.Function('x2')(t)\n",
    "y2= sy.Function('y2')(t);fi1= sy.Function('fi1')(t);fi2 = sy.Function('fi2')(t)\n",
    "x3= sy.Function('x3')(t);y3=sy.Function('y3')(t);fi3 =sy.Function('fi3')(t)\n",
    "zx=0.05\n",
    "约束 = sy.Matrix([[x1-0.5*l1*cos(fi1)],\n",
    "                [y1-0.5*l1*sin(fi1)],\n",
    "                [x2-0.5*l2*sin(fi2)-x1-0.5*l1*cos(fi1)],\n",
    "                [y2+0.5*l2*cos(fi2)-y1-0.5*l1*sin(fi1)],\n",
    "                [y2-0.5*l2*cos(fi2)],\n",
    "                [x3-l2*sin(fi2)-x1-0.5*l1*cos(fi1)+zx],\n",
    "                [y3],\n",
    "                [fi3],\n",
    "               ])\n"
   ]
  },
  {
   "cell_type": "markdown",
   "id": "162b704e",
   "metadata": {},
   "source": [
    "计算雅克比矩阵"
   ]
  },
  {
   "cell_type": "code",
   "execution_count": 49,
   "id": "be5aa6d6",
   "metadata": {},
   "outputs": [
    {
     "data": {
      "text/latex": [
       "$\\left[\\begin{matrix}1 & 0 & 0.5 l_{1} \\sin{\\left(\\operatorname{fi}_{1}{\\left(t \\right)} \\right)} & 0 & 0 & 0 & 0 & 0 & 0\\\\0 & 1 & - 0.5 l_{1} \\cos{\\left(\\operatorname{fi}_{1}{\\left(t \\right)} \\right)} & 0 & 0 & 0 & 0 & 0 & 0\\\\-1 & 0 & 0.5 l_{1} \\sin{\\left(\\operatorname{fi}_{1}{\\left(t \\right)} \\right)} & 1 & 0 & - 0.5 l_{2} \\cos{\\left(\\operatorname{fi}_{2}{\\left(t \\right)} \\right)} & 0 & 0 & 0\\\\0 & -1 & - 0.5 l_{1} \\cos{\\left(\\operatorname{fi}_{1}{\\left(t \\right)} \\right)} & 0 & 1 & - 0.5 l_{2} \\sin{\\left(\\operatorname{fi}_{2}{\\left(t \\right)} \\right)} & 0 & 0 & 0\\\\0 & 0 & 0 & 0 & 1 & 0.5 l_{2} \\sin{\\left(\\operatorname{fi}_{2}{\\left(t \\right)} \\right)} & 0 & 0 & 0\\\\-1 & 0 & 0.5 l_{1} \\sin{\\left(\\operatorname{fi}_{1}{\\left(t \\right)} \\right)} & 0 & 0 & - l_{2} \\cos{\\left(\\operatorname{fi}_{2}{\\left(t \\right)} \\right)} & 1 & 0 & 0\\\\0 & 0 & 0 & 0 & 0 & 0 & 0 & 1 & 0\\\\0 & 0 & 0 & 0 & 0 & 0 & 0 & 0 & 1\\end{matrix}\\right]$"
      ],
      "text/plain": [
       "<IPython.core.display.Latex object>"
      ]
     },
     "metadata": {},
     "output_type": "display_data"
    }
   ],
   "source": [
    "args = sy.Matrix([x1,y1,fi1,x2,y2,fi2,x3,y3,fi3])\n",
    "res = 约束.jacobian(args)\n",
    "#pprint(res)\n",
    "from IPython.display import display, Latex \n",
    "display(Latex('$' + latex(res) + '$'))\n"
   ]
  },
  {
   "cell_type": "markdown",
   "id": "4ce88dc2",
   "metadata": {},
   "source": [
    "计算加速度方程右项以及约束一阶导数"
   ]
  },
  {
   "cell_type": "code",
   "execution_count": 50,
   "id": "2848e8ba",
   "metadata": {},
   "outputs": [
    {
     "data": {
      "text/latex": [
       "$\\left[\\begin{matrix}0.5 l_{1} \\cos{\\left(\\operatorname{fi}_{1}{\\left(t \\right)} \\right)} \\left(\\frac{d}{d t} \\operatorname{fi}_{1}{\\left(t \\right)}\\right)^{2}\\\\0.5 l_{1} \\sin{\\left(\\operatorname{fi}_{1}{\\left(t \\right)} \\right)} \\left(\\frac{d}{d t} \\operatorname{fi}_{1}{\\left(t \\right)}\\right)^{2}\\\\0.5 l_{1} \\cos{\\left(\\operatorname{fi}_{1}{\\left(t \\right)} \\right)} \\left(\\frac{d}{d t} \\operatorname{fi}_{1}{\\left(t \\right)}\\right)^{2} + 0.5 l_{2} \\sin{\\left(\\operatorname{fi}_{2}{\\left(t \\right)} \\right)} \\left(\\frac{d}{d t} \\operatorname{fi}_{2}{\\left(t \\right)}\\right)^{2}\\\\0.5 l_{1} \\sin{\\left(\\operatorname{fi}_{1}{\\left(t \\right)} \\right)} \\left(\\frac{d}{d t} \\operatorname{fi}_{1}{\\left(t \\right)}\\right)^{2} - 0.5 l_{2} \\cos{\\left(\\operatorname{fi}_{2}{\\left(t \\right)} \\right)} \\left(\\frac{d}{d t} \\operatorname{fi}_{2}{\\left(t \\right)}\\right)^{2}\\\\0.5 l_{2} \\cos{\\left(\\operatorname{fi}_{2}{\\left(t \\right)} \\right)} \\left(\\frac{d}{d t} \\operatorname{fi}_{2}{\\left(t \\right)}\\right)^{2}\\\\0.5 l_{1} \\cos{\\left(\\operatorname{fi}_{1}{\\left(t \\right)} \\right)} \\left(\\frac{d}{d t} \\operatorname{fi}_{1}{\\left(t \\right)}\\right)^{2} + l_{2} \\sin{\\left(\\operatorname{fi}_{2}{\\left(t \\right)} \\right)} \\left(\\frac{d}{d t} \\operatorname{fi}_{2}{\\left(t \\right)}\\right)^{2}\\\\0\\\\0\\end{matrix}\\right]$"
      ],
      "text/plain": [
       "<IPython.core.display.Latex object>"
      ]
     },
     "metadata": {},
     "output_type": "display_data"
    }
   ],
   "source": [
    "fuzu=sy.Matrix([sy.Derivative(x1,(t,2)),sy.Derivative(y1,(t,2)),sy.Derivative(fi1,(t,2)),\n",
    "                sy.Derivative(x2,(t,2)),sy.Derivative(y2,(t,2)),sy.Derivative(fi2,(t,2)),\n",
    "                sy.Derivative(x3,(t,2)),sy.Derivative(y3,(t,2)),sy.Derivative(fi3,(t,2)),\n",
    "                ])\n",
    "#fuzu=sy.Matrix([ddx1,ddy1,ddfi1,ddx2,ddy2,ddfi2])\n",
    "fuzua=res*fuzu\n",
    "fuzu=sy.Matrix([sy.Derivative(x1,(t,1)),sy.Derivative(y1,(t,1)),sy.Derivative(fi1,(t,1)),\n",
    "                sy.Derivative(x2,(t,1)),sy.Derivative(y2,(t,1)),sy.Derivative(fi2,(t,1)),\n",
    "                sy.Derivative(x3,(t,1)),sy.Derivative(y3,(t,1)),sy.Derivative(fi3,(t,1)),\n",
    "                ])\n",
    "#fuzu=sy.Matrix([ddx1,ddy1,ddfi1,ddx2,ddy2,ddfi2])\n",
    "fuzub=res*fuzu\n",
    "#display(Latex('$' + latex(fuzua) + '$'))\n",
    "l1,l2=sy.symbols(\"l1,l2\", real=True)\n",
    "t = sy.symbols('t')\n",
    "加速度约束 = sy.diff(约束,t,2)\n",
    "速度约束=sy.diff(约束,t,1)\n",
    "#display(Latex('$' + latex(加速度约束) + '$'))\n",
    "from IPython.display import display, Latex \n",
    "右项=加速度约束-fuzua\n",
    "速度约束右项=速度约束-fuzub\n",
    "display(Latex('$' + latex(右项) + '$'))\n",
    "#display(Latex('$' + latex(速度约束右项) + '$'))\n",
    "#print(速度约束右项)"
   ]
  },
  {
   "cell_type": "markdown",
   "id": "b05077ca",
   "metadata": {},
   "source": [
    "输出scipy可用矩阵\n"
   ]
  },
  {
   "cell_type": "code",
   "execution_count": 51,
   "id": "f5ae76a3",
   "metadata": {},
   "outputs": [
    {
     "name": "stdout",
     "output_type": "stream",
     "text": [
      "约束矩阵= Matrix([[-0.5*l1*cos(fi1) + x1, -0.5*l1*sin(fi1) + y1, -0.5*l1*cos(fi1) - 0.5*l2*sin(fi2) - x1 + x2, -0.5*l1*sin(fi1) + 0.5*l2*cos(fi2) - y1 + y2, -0.5*l2*cos(fi2) + y2, -0.5*l1*cos(fi1) - l2*sin(fi2) - x1 + x3 + 0.05, y3, fi3]])\n",
      "雅克比矩阵= Matrix([[1, 0, 0.5*l1*sin(fi1), 0, 0, 0, 0, 0, 0], [0, 1, -0.5*l1*cos(fi1), 0, 0, 0, 0, 0, 0], [-1, 0, 0.5*l1*sin(fi1), 1, 0, -0.5*l2*cos(fi2), 0, 0, 0], [0, -1, -0.5*l1*cos(fi1), 0, 1, -0.5*l2*sin(fi2), 0, 0, 0], [0, 0, 0, 0, 1, 0.5*l2*sin(fi2), 0, 0, 0], [-1, 0, 0.5*l1*sin(fi1), 0, 0, -l2*cos(fi2), 1, 0, 0], [0, 0, 0, 0, 0, 0, 0, 1, 0], [0, 0, 0, 0, 0, 0, 0, 0, 1]])\n",
      "加速度右项= Matrix([[0.5*dfi1**2*l1*cos(fi1)], [0.5*dfi1**2*l1*sin(fi1)], [0.5*dfi1**2*l1*cos(fi1) + 0.5*dfi2**2*l2*sin(fi2)], [0.5*dfi1**2*l1*sin(fi1) - 0.5*dfi2**2*l2*cos(fi2)], [0.5*dfi2**2*l2*cos(fi2)], [0.5*dfi1**2*l1*cos(fi1) + dfi2**2*l2*sin(fi2)], [0], [0]])\n"
     ]
    }
   ],
   "source": [
    "meihua0=约束\n",
    "gg1=fi1;gg2=fi2;gg3=x1;gg4=y1;gg5=x2;gg6=y2;gg7=x3;gg8=y3;gg9=fi3;\n",
    "x1,y1,fi1,x2,y2,fi2,x3,y3,fi3= sy.symbols(\"x1,y1,fi1,x2,y2,fi2,x3,y3,fi3\", real=True)\n",
    "# x1,x2,y1,y2 = sy.symbols('y1(t),y1(t),y1(t),y1(t)')\n",
    "meihua0 = meihua0.subs([(gg1,fi1), (gg2,fi2),(gg3,x1), (gg4,y1), \\\n",
    "                              (gg5,x2), (gg6,y2),(gg7,x3), (gg8,y3),(gg9,fi3)])\n",
    "print('约束矩阵=',meihua0.T)\n",
    "res2=res\n",
    "meihua = res2.subs([(gg1,fi1), (gg2,fi2),(gg3,x1), (gg4,y1), \\\n",
    "                              (gg5,x2), (gg6,y2),(gg7,x3), (gg8,y3),(gg9,fi3)])\n",
    "print('雅克比矩阵=',meihua)\n",
    "转换右项=右项\n",
    "x1 = sy.Function('x1')(t);y1 = sy.Function('y1')(t);x2= sy.Function('x2')(t)\n",
    "y2= sy.Function('y2')(t);fi1= sy.Function('fi1')(t);fi2 = sy.Function('fi2')(t)\n",
    "x3= sy.Function('x3')(t);y3=sy.Function('y3')(t);fi3 =sy.Function('fi3')(t)\n",
    "ddfi1,ddfi2,ddx1,ddy1,ddx2,ddy2,ddx3,ddy3,ddfi3= sy.symbols(\"ddfi1,ddfi2,ddx1,ddy1,ddx2,ddy2,ddx3,ddy3,ddfi3\", real=True)\n",
    "dfi1,dfi2,dx1,dy1,dx2,dy2,dx3,dy3,dfi3=sy.symbols(\"dfi1,dfi2,dx1,dy1,dx2,dy2,dx3,dy3,dfi3\", real=True)\n",
    "dgN_subbed = 转换右项.subs([(sy.Derivative(fi1,(t,2)),ddfi1),(sy.Derivative(fi1,(t,1)),dfi1), \\\n",
    "                            (sy.Derivative(fi2,(t,2)),ddfi2),(sy.Derivative(fi2,(t,1)),dfi2), \\\n",
    "                            (sy.Derivative(x1, (t,2)),ddx1),(sy.Derivative(x1,(t,1)),dx1), \\\n",
    "                            (sy.Derivative(y1,(t,2)),ddy1),(sy.Derivative(y1,(t, 1)),dy1), \\\n",
    "                            (sy.Derivative(x2,(t,2)),ddx2),(sy.Derivative(x2,(t,1)),dx2), \\\n",
    "                            (sy.Derivative(y2,(t,2)),ddy2),(sy.Derivative(y2,(t,1)),dy2), \\\n",
    "                            (sy.Derivative(x3,(t,2)),ddx3),(sy.Derivative(x3,(t, 1)),dx3), \\\n",
    "                            (sy.Derivative(y3,(t,2)),ddy3),(sy.Derivative(y3,(t,1)),dy3), \\\n",
    "                            (sy.Derivative(fi3,(t,2)),ddfi3),(sy.Derivative(fi3,(t,1)),dfi3), \\\n",
    "                            ])\n",
    "#print(dgN_subbed)\n",
    "#display(Latex('$' + latex(dgN_subbed) + '$'))\n",
    "# x1,x2,y1,y2 = sy.symbols('y1(t),y1(t),y1(t),y1(t)')\n",
    "x1,y1,fi1,x2,y2,fi2,x3,y3,fi3= sy.symbols(\"x1,y1,fi1,x2,y2,fi2,x3,y3,fi3\", real=True)\n",
    "dgN_subbed = dgN_subbed.subs([(gg1,fi1), (gg2,fi2),(gg3,x1), (gg4,y1), \\\n",
    "                              (gg5,x2), (gg6,y2),(gg7,x3), (gg8,y3),(gg9,fi3)])\n",
    "#print(sy.Matrix(list(dgN_subbed)))\n",
    "#display(Latex('$' + latex(dgN_subbed) + '$'))\n",
    "print('加速度右项=',dgN_subbed)\n",
    "#display(Latex('$' + latex(dgN_subbed) + '$'))"
   ]
  },
  {
   "cell_type": "markdown",
   "id": "74a1d897",
   "metadata": {},
   "source": [
    "求解位置值"
   ]
  },
  {
   "cell_type": "code",
   "execution_count": 52,
   "id": "ebde5b75",
   "metadata": {},
   "outputs": [
    {
     "name": "stdout",
     "output_type": "stream",
     "text": [
      "Solution: [0.045853   0.01993745 0.2403751  0.01993745 1.43748546 0.33904418\n",
      " 0.         0.        ]\n"
     ]
    }
   ],
   "source": [
    "l1=0.1\n",
    "l2=0.3\n",
    "fi1=23.5/180*np.pi\n",
    "# 初始猜测值\n",
    "def equations(vars):\n",
    "    x1,y1,x2,y2,fi2,x3,y3,fi3=vars\n",
    "    eq1=[-0.5*l1*cos(fi1) + x1,\n",
    "         -0.5*l1*sin(fi1) + y1, \n",
    "         -0.5*l1*cos(fi1) - 0.5*l2*sin(fi2) - x1 + x2, \n",
    "         -0.5*l1*sin(fi1) + 0.5*l2*cos(fi2) - y1 + y2,\n",
    "         -0.5*l2*cos(fi2) + y2,\n",
    "         -0.5*l1*cos(fi1) - l2*sin(fi2) - x1 + x3 + 0.05,\n",
    "         y3,\n",
    "         fi3]\n",
    "    return eq1\n",
    "# 初始猜测值\n",
    "initial_guess = [0.1, 0,0.25,0,3.14/2,0.3,0,0]\n",
    "# 使用fsolve求解方程组  \n",
    "solution = fsolve(equations, initial_guess)  \n",
    "  \n",
    "print(\"Solution:\", solution)"
   ]
  },
  {
   "cell_type": "markdown",
   "id": "4f236f1d",
   "metadata": {},
   "source": [
    "求解速度值"
   ]
  },
  {
   "cell_type": "code",
   "execution_count": 53,
   "id": "a07d4a28",
   "metadata": {},
   "outputs": [
    {
     "name": "stdout",
     "output_type": "stream",
     "text": [
      "0.045853003719256206\n",
      "[ 0.11483149 -0.26409434 -5.75958653  0.26507968 -0.26409434  1.7763904\n",
      "  0.30049638  0.          0.        ]\n"
     ]
    }
   ],
   "source": [
    "from numpy import sin,cos\n",
    "x1,y1,x2,y2,fi2,x3,y3,fi3=solution\n",
    "print(x1)\n",
    "dfi1=-55/60*2*np.pi\n",
    "雅克比矩阵= np.array([[1, 0, 0.5*l1*sin(fi1), 0, 0, 0, 0, 0, 0], \n",
    "                 [0, 1, -0.5*l1*cos(fi1), 0, 0, 0, 0, 0, 0], \n",
    "                 [-1, 0, 0.5*l1*sin(fi1), 1, 0, -0.5*l2*cos(fi2), 0, 0, 0], \n",
    "                 [0, -1, -0.5*l1*cos(fi1), 0, 1, -0.5*l2*sin(fi2), 0, 0, 0], \n",
    "                 [0, 0, 0, 0, 1, 0.5*l2*sin(fi2), 0, 0, 0], \n",
    "                 [-1, 0, 0.5*l1*sin(fi1), 0, 0, -l2*cos(fi2), 1, 0, 0], \n",
    "                 [0, 0, 0, 0, 0, 0, 0, 1, 0], \n",
    "                 [0, 0, 0, 0, 0, 0, 0, 0, 1],\n",
    "                [0, 0, 1, 0, 0, 0, 0, 0, 0]])\n",
    "#print(雅克比矩阵)\n",
    "矩阵0=np.array([[0], [0], [0], [0], [0],[0],[0], [0],[dfi1]])\n",
    "xv = linalg.solve(雅克比矩阵, 矩阵0)\n",
    "  \n",
    "print(xv.T[0])"
   ]
  },
  {
   "cell_type": "markdown",
   "id": "bad791c2",
   "metadata": {},
   "source": [
    "求解加速度值"
   ]
  },
  {
   "cell_type": "code",
   "execution_count": 54,
   "id": "4a149450",
   "metadata": {},
   "outputs": [
    {
     "name": "stdout",
     "output_type": "stream",
     "text": [
      "0.11483148834312133\n",
      "[-1.52107422 -0.66138189  0.         -3.4310248  -0.66138189  4.02550396\n",
      " -3.81990115  0.          0.        ]\n"
     ]
    }
   ],
   "source": [
    "from numpy import sin,cos\n",
    "dx1,dy1,dfi1,dx2,dy2,dfi2,dx3,dy3,dfi3=xv.T[0]\n",
    "ddf1=0\n",
    "print(dx1)\n",
    "加速度右项=-np.array([[0.5*dfi1**2*l1*cos(fi1)], \n",
    "                 [0.5*dfi1**2*l1*sin(fi1)], \n",
    "                 [0.5*dfi1**2*l1*cos(fi1) + 0.5*dfi2**2*l2*sin(fi2)],\n",
    "                 [0.5*dfi1**2*l1*sin(fi1) - 0.5*dfi2**2*l2*cos(fi2)],\n",
    "                 [0.5*dfi2**2*l2*cos(fi2)], \n",
    "                 [0.5*dfi1**2*l1*cos(fi1) + dfi2**2*l2*sin(fi2)], \n",
    "                 [0], \n",
    "                 [0],\n",
    "                [ddf1]])\n",
    "xa = linalg.solve(雅克比矩阵,加速度右项)\n",
    "print(xa.T[0])"
   ]
  },
  {
   "cell_type": "markdown",
   "id": "56bc7141",
   "metadata": {},
   "source": [
    "定义质量矩阵，外力阵，逆动力学方程组装\n"
   ]
  },
  {
   "cell_type": "code",
   "execution_count": 60,
   "id": "766b122b",
   "metadata": {},
   "outputs": [
    {
     "name": "stdout",
     "output_type": "stream",
     "text": [
      " [[ 1.52107422e+01]\n",
      "  [-9.13861811e+01]\n",
      "  [ 0.00000000e+00]\n",
      "  [ 3.43102480e+01]\n",
      "  [-9.13861811e+01]\n",
      "  [-4.02550396e+01]\n",
      "  [-9.99961801e+05]\n",
      "  [-9.80000000e+01]\n",
      " [ 0.00000000e+00]]\n"
     ]
    }
   ],
   "source": [
    "ddx1,ddy1,ddfi1,ddx2,ddy2,ddfi2,ddx3,ddy3,ddfi3=xa.T[0]\n",
    "m=10\n",
    "j=10\n",
    "g=9.8\n",
    "f=1000000\n",
    "加速度矩阵=np.array([[ddx1], [ddy1], [ddfi1], [ddx2], [ddy2],[ddfi2], [ddx3], [ddy3],[ddfi3]])\n",
    "#print(加速度矩阵)\n",
    "重力=-np.array([[0], [m*g], [0], [0], [m*g],[0],[0], [m*g],[0]])\n",
    "外力=np.array([[0], [0], [0], [0], [0],[0],[-f], [0],[0]])\n",
    "m11=diags(np.array([m,m,j]),0)\n",
    "m12=diags(np.array([m,m,j]),0)\n",
    "m13=diags(np.array([m,m,j]),0)\n",
    "#print(m13)\n",
    "质量阵=np.array([[m,0,0,0,0,0,0,0,0],\n",
    "                [0,m,0,0,0,0,0,0,0],\n",
    "                [0,0,j,0,0,0,0,0,0],\n",
    "                [0,0,0,m,0,0,0,0,0],\n",
    "                [0,0,0,0,m,0,0,0,0],\n",
    "                [0,0,0,0,0,j,0,0,0],\n",
    "                [0,0,0,0,0,0,m,0,0],\n",
    "                [0,0,0,0,0,0,0,m,0],\n",
    "                [0,0,0,0,0,0,0,0,j],]\n",
    "                )\n",
    "#print(质量阵)\n",
    "方程右项=-质量阵.dot(加速度矩阵)+外力+重力\n",
    "pprint(方程右项)"
   ]
  },
  {
   "cell_type": "markdown",
   "id": "fa746dfd",
   "metadata": {},
   "source": [
    "求解乘子"
   ]
  },
  {
   "cell_type": "code",
   "execution_count": 65,
   "id": "6378f1c4",
   "metadata": {},
   "outputs": [
    {
     "name": "stdout",
     "output_type": "stream",
     "text": [
      "[-9.99912280e+05  1.34097128e+05  3.43102480e+01  1.34188515e+05\n",
      " -1.34279901e+05 -9.99961801e+05 -9.80000000e+01  0.00000000e+00\n",
      "  5.21734149e+04]\n",
      "反推扭矩= 52173.414921810625\n"
     ]
    }
   ],
   "source": [
    "xf = linalg.solve(雅克比矩阵.T, 方程右项)\n",
    "print(xf.T[0])\n",
    "print('反推扭矩=',xf.T[0][8])"
   ]
  },
  {
   "cell_type": "markdown",
   "id": "46b31977",
   "metadata": {},
   "source": [
    "转换乘子"
   ]
  },
  {
   "cell_type": "code",
   "execution_count": 62,
   "id": "abd2bbff",
   "metadata": {},
   "outputs": [
    {
     "name": "stdout",
     "output_type": "stream",
     "text": [
      "[[ 0.91706007 -0.39874907]\n",
      " [ 0.39874907  0.91706007]]\n",
      "[0.05 0.  ]\n"
     ]
    }
   ],
   "source": [
    "a1= np.array([[cos(fi1),-sin(fi1)],\n",
    "              [sin(fi1),cos(fi1)]])\n",
    "print(a1)\n",
    "p1=np.array([0.5*l1,0]).T\n",
    "print(p1)\n",
    "c10=np.array([[0,-1],\n",
    "             [1,0]])\n",
    "雅可比12=雅克比矩阵[:,[0,1]]"
   ]
  },
  {
   "cell_type": "code",
   "execution_count": null,
   "id": "bd26e4cc",
   "metadata": {},
   "outputs": [],
   "source": []
  },
  {
   "cell_type": "code",
   "execution_count": null,
   "id": "c5045d95",
   "metadata": {},
   "outputs": [],
   "source": []
  },
  {
   "cell_type": "code",
   "execution_count": null,
   "id": "96fcf237",
   "metadata": {},
   "outputs": [],
   "source": []
  },
  {
   "cell_type": "code",
   "execution_count": null,
   "id": "01213e0e",
   "metadata": {},
   "outputs": [],
   "source": []
  },
  {
   "cell_type": "code",
   "execution_count": null,
   "id": "f9b1e151",
   "metadata": {},
   "outputs": [],
   "source": []
  }
 ],
 "metadata": {
  "kernelspec": {
   "display_name": "Python 3 (ipykernel)",
   "language": "python",
   "name": "python3"
  },
  "language_info": {
   "codemirror_mode": {
    "name": "ipython",
    "version": 3
   },
   "file_extension": ".py",
   "mimetype": "text/x-python",
   "name": "python",
   "nbconvert_exporter": "python",
   "pygments_lexer": "ipython3",
   "version": "3.8.10"
  },
  "toc": {
   "base_numbering": 1,
   "nav_menu": {},
   "number_sections": true,
   "sideBar": true,
   "skip_h1_title": false,
   "title_cell": "Table of Contents",
   "title_sidebar": "Contents",
   "toc_cell": false,
   "toc_position": {},
   "toc_section_display": true,
   "toc_window_display": false
  },
  "varInspector": {
   "cols": {
    "lenName": 16,
    "lenType": 16,
    "lenVar": 40
   },
   "kernels_config": {
    "python": {
     "delete_cmd_postfix": "",
     "delete_cmd_prefix": "del ",
     "library": "var_list.py",
     "varRefreshCmd": "print(var_dic_list())"
    },
    "r": {
     "delete_cmd_postfix": ") ",
     "delete_cmd_prefix": "rm(",
     "library": "var_list.r",
     "varRefreshCmd": "cat(var_dic_list()) "
    }
   },
   "types_to_exclude": [
    "module",
    "function",
    "builtin_function_or_method",
    "instance",
    "_Feature"
   ],
   "window_display": false
  }
 },
 "nbformat": 4,
 "nbformat_minor": 5
}
