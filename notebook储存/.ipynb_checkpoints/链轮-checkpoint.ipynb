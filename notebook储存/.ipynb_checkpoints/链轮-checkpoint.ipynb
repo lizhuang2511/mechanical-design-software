{
 "cells": [
  {
   "cell_type": "code",
   "execution_count": 14,
   "id": "5301e283-e0c5-49b3-888e-a72c7cfa2fb0",
   "metadata": {},
   "outputs": [],
   "source": [
    "from math import *\n",
    "滚子外径=7.92\n",
    "节距=12.7\n",
    "齿数=54\n",
    "分度圆直径=节距/(sin(pi/齿数))\n",
    "齿顶圆直径最大=分度圆直径+1.25*节距-滚子外径\n",
    "齿顶圆最小=分度圆直径+(1-1.6/齿数)*节距-滚子外径\n",
    "三圆齿顶圆=节距*(0.54+1/tan(180/齿数))"
   ]
  },
  {
   "cell_type": "code",
   "execution_count": null,
   "id": "3f5c7ef7-5829-461a-99fc-d3704d51f5c5",
   "metadata": {},
   "outputs": [],
   "source": []
  },
  {
   "cell_type": "code",
   "execution_count": null,
   "id": "bbab12f6-40b8-4816-aa9f-1a5ae37da836",
   "metadata": {},
   "outputs": [],
   "source": []
  }
 ],
 "metadata": {
  "kernelspec": {
   "display_name": "Python 3 (ipykernel)",
   "language": "python",
   "name": "python3"
  },
  "language_info": {
   "codemirror_mode": {
    "name": "ipython",
    "version": 3
   },
   "file_extension": ".py",
   "mimetype": "text/x-python",
   "name": "python",
   "nbconvert_exporter": "python",
   "pygments_lexer": "ipython3",
   "version": "3.8.18"
  }
 },
 "nbformat": 4,
 "nbformat_minor": 5
}
