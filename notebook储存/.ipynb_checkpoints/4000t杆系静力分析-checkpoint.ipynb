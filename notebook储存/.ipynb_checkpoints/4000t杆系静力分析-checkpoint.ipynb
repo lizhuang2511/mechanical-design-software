{
 "cells": [
  {
   "cell_type": "code",
   "execution_count": 1,
   "id": "02c5b79e",
   "metadata": {},
   "outputs": [
    {
     "name": "stdout",
     "output_type": "stream",
     "text": [
      "fx2= 295.7636191865327 fx3= 595.8230605385701 fy2= 3942.7337177440827 fy3= 57.26628225591791 f3= 598.5687483931674 m= 883752.8927834822\n"
     ]
    }
   ],
   "source": [
    "from math import *\n",
    "from scipy.linalg import solve\n",
    "fy1=4000\n",
    "th1=4.29/180*pi\n",
    "fx1=4000*tan(th1)\n",
    "th2=4.29/180*pi\n",
    "th3=84.51/180*pi\n",
    "A=[[1,-1],[-tan(th2),-tan(th3)]]\n",
    "B=[-fx1,-fy1]\n",
    "A=[[1,-1],[-1/tan(th2),-1/tan(th3)]]\n",
    "B=[-fx1,-fy1]\n",
    "c=solve(A,B)\n",
    "fx2=c[0]\n",
    "fx3=c[1]\n",
    "fy2=fx2/tan(th2)\n",
    "fy3=fx3/tan(th3)\n",
    "f3=sqrt(fx3**2+fy3**2)\n",
    "th4=41.62/180*pi\n",
    "r=197.5/1000\n",
    "m=f3*10000*cos(th4)*r\n",
    "print('fx2=',fx2,'fx3=',fx3,'fy2=',fy2,'fy3=',fy3,'f3=',f3,'m=',m)"
   ]
  },
  {
   "cell_type": "markdown",
   "id": "f1c7bcc9",
   "metadata": {},
   "source": [
    "aa"
   ]
  },
  {
   "cell_type": "markdown",
   "id": "ce38a0bd",
   "metadata": {},
   "source": [
    "# s"
   ]
  },
  {
   "cell_type": "code",
   "execution_count": null,
   "id": "c17171cb",
   "metadata": {},
   "outputs": [],
   "source": []
  }
 ],
 "metadata": {
  "kernelspec": {
   "display_name": "Python 3 (ipykernel)",
   "language": "python",
   "name": "python3"
  },
  "language_info": {
   "codemirror_mode": {
    "name": "ipython",
    "version": 3
   },
   "file_extension": ".py",
   "mimetype": "text/x-python",
   "name": "python",
   "nbconvert_exporter": "python",
   "pygments_lexer": "ipython3",
   "version": "3.8.10"
  },
  "toc": {
   "base_numbering": 1,
   "nav_menu": {
    "height": "51.9922px",
    "width": "160.99px"
   },
   "number_sections": true,
   "sideBar": true,
   "skip_h1_title": false,
   "title_cell": "Table of Contents",
   "title_sidebar": "Contents",
   "toc_cell": false,
   "toc_position": {
    "height": "calc(100% - 180px)",
    "left": "10px",
    "top": "150px",
    "width": "165px"
   },
   "toc_section_display": true,
   "toc_window_display": false
  }
 },
 "nbformat": 4,
 "nbformat_minor": 5
}
