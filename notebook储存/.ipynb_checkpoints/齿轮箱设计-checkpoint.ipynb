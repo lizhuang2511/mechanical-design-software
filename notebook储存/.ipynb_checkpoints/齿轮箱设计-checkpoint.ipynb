{
 "cells": [
  {
   "cell_type": "markdown",
   "id": "0eac27c4-73ed-4dde-b776-0bfb123405c4",
   "metadata": {},
   "source": [
    "电动机的选择"
   ]
  },
  {
   "cell_type": "code",
   "execution_count": 157,
   "id": "2a30fe1b-fefa-4bcb-a0cc-ede58ae1dbe9",
   "metadata": {},
   "outputs": [
    {
     "name": "stdout",
     "output_type": "stream",
     "text": [
      "pw= 6.3 pd= 7.411764705882353 n= 160.4281826366305\n"
     ]
    }
   ],
   "source": [
    "\n",
    "from math import *\n",
    "v=2.1\n",
    "f=3000\n",
    "pw=f*v/1000\n",
    "na=0.85\n",
    "pd=pw/na\n",
    "d=250\n",
    "n=60*1000*v/pi/d\n",
    "print('pw=',pw,'pd=',pd,'n=',n)"
   ]
  },
  {
   "cell_type": "markdown",
   "id": "ed499868-c85f-4d4f-9444-33d3c369d9d6",
   "metadata": {},
   "source": [
    "确定传动装置的总传动比和分配传动比"
   ]
  },
  {
   "cell_type": "code",
   "execution_count": 158,
   "id": "47dcb2cb-34f9-4f92-bfd9-b1ff44e93cce",
   "metadata": {},
   "outputs": [
    {
     "name": "stdout",
     "output_type": "stream",
     "text": [
      "ia= 8.975979010256552 i= 3.5903916041026207\n"
     ]
    }
   ],
   "source": [
    "nm=1440\n",
    "ia=nm/n\n",
    "i0=2.5\n",
    "i=ia/i0\n",
    "print('ia=',ia,'i=',i)"
   ]
  },
  {
   "cell_type": "markdown",
   "id": "d95dbe80-195a-4849-ba16-ed2e0ab552ed",
   "metadata": {},
   "source": [
    "计算传动装置的运动和动力参数"
   ]
  },
  {
   "cell_type": "code",
   "execution_count": 159,
   "id": "1569967f-47d9-4a6b-93c8-01c2230c1d46",
   "metadata": {},
   "outputs": [
    {
     "name": "stdout",
     "output_type": "stream",
     "text": [
      "n1= 576.0 n2= 160.4281826366305 p1= 7.115294117647059 p2= 6.763798588235294 p3= 6.5622373903058815\n"
     ]
    }
   ],
   "source": [
    "n1=nm/i0\n",
    "n2=n1/i\n",
    "p1=pd*0.96\n",
    "p2=p1*0.98*0.97\n",
    "p3=p2*0.98*0.99\n",
    "print('n1=',n1,'n2=',n2,'p1=',p1,'p2=',p2,'p3=',p3)"
   ]
  },
  {
   "cell_type": "markdown",
   "id": "24a3fb35-3e87-49ed-997e-621b9ec42347",
   "metadata": {},
   "source": [
    "计算齿轮最小直径"
   ]
  },
  {
   "cell_type": "code",
   "execution_count": 160,
   "id": "203c6bb6-26f9-4010-8980-325f565bcb11",
   "metadata": {},
   "outputs": [
    {
     "name": "stdout",
     "output_type": "stream",
     "text": [
      "端面压力角 alpha_t: 20.56 度\n",
      "alpha_at1: 29.97 度\n",
      "alpha_at2: 23.70 度\n",
      "Z_epsilon= 0.6689319722293482\n",
      "Z_beta= 0.9850359010086873\n",
      "小齿轮分度圆直径计算结果: 53.019 mm\n",
      "Z2= 86.1693984984629\n",
      "epsilon_alpha= 1.6455180894253283\n",
      "epsilon_beta= 1.9047256369786725\n"
     ]
    }
   ],
   "source": [
    "import math\n",
    "# 定义常数和变量\n",
    "Z1 = 24 # 小齿轮齿数\n",
    "Z2 = Z1*i # 大齿轮齿数\n",
    "alpha_n = 20 * math.pi / 180  # 压力角，转换为弧度\n",
    "beta = 14 * math.pi / 180  # 螺旋角，转换为弧度\n",
    "K_Ht = 1.3  # 载荷系数\n",
    "P1 = p1  # 功率\n",
    "n1 = n1  # 转速\n",
    "T1 = 9.55 * 10**3 * (P1 / n1)  # 小齿轮传递的转矩\n",
    "phi_d = 1  # 齿宽系数\n",
    "Z_H = 2.44  # 区域系数\n",
    "Z_E = 189.8 * math.sqrt(1)  # 材料的弹性影响系数，这里假设Mpa为1\n",
    "u = Z2/Z1  # 齿轮比\n",
    "# 计算端面压力角\n",
    "alpha_t = math.atan(math.tan(alpha_n) / math.cos(beta))\n",
    "h_a_star = 1 # 齿顶高系数\n",
    "# 计算 alpha_at1\n",
    "cos_alpha_t = math.cos(alpha_t)\n",
    "alpha_at1 = math.acos((Z1 * cos_alpha_t) / (Z1 + 2 * h_a_star * math.cos(beta)))\n",
    "print(f\"端面压力角 alpha_t: {math.degrees(alpha_t):.2f} 度\")\n",
    "print(f\"alpha_at1: {math.degrees(alpha_at1):.2f} 度\")\n",
    "cos_alpha_t = math.cos(alpha_t)  # 端面压力角的余弦值，之前已计算\n",
    "cos_beta = math.cos(beta)  # 螺旋角的余弦值\n",
    "# 计算 alpha_at2\n",
    "alpha_at2 = math.acos((Z2 * cos_alpha_t) / (Z2 + 2 * h_a_star * cos_beta))\n",
    "print(f\"alpha_at2: {math.degrees(alpha_at2):.2f} 度\")\n",
    "# 计算端面重合度系数\n",
    "cos_alpha_t = math.cos(alpha_t)\n",
    "epsilon_alpha = (1 / (2 * math.pi)) * (Z1 * (math.tan(math.degrees(alpha_at1) * math.pi / 180) - math.tan(alpha_t)) + Z2 * (math.tan(math.degrees(alpha_at2) * math.pi / 180) - math.tan(alpha_t)))\n",
    "# 计算轴向重合度\n",
    "epsilon_beta = phi_d * Z1 * math.tan(beta) / (math.pi)\n",
    "\n",
    "# 计算重合度系数\n",
    "Z_epsilon = math.sqrt((4 - epsilon_alpha) / 3 * (1 - epsilon_beta) + epsilon_beta / epsilon_alpha)\n",
    "print('Z_epsilon=',Z_epsilon)\n",
    "# 计算螺旋角系数\n",
    "Z_beta = math.sqrt(math.cos(beta))\n",
    "print('Z_beta=',Z_beta)\n",
    "# 计算接触疲劳许用应力\n",
    "sigma_Hlim1 = 600  # 小齿轮接触疲劳极限\n",
    "sigma_Hlim2 = 550  # 大齿轮接触疲劳极限\n",
    "K_HN1 = 0.88\n",
    "K_HN2 = 0.9\n",
    "S = 1  # 安全系数\n",
    "sigma_H1 = sigma_Hlim1 * K_HN1 / S\n",
    "sigma_H2 = sigma_Hlim2 * K_HN2 / S\n",
    "sigma_H = min(sigma_H1, sigma_H2)\n",
    "# 计算小齿轮分度圆直径\n",
    "d1_t = ((2 *1000* K_Ht * T1 / phi_d )* (u + 1) / u * (Z_E * Z_H * Z_epsilon * Z_beta / sigma_H) ** 2) ** (1 / 3)\n",
    "print(f\"小齿轮分度圆直径计算结果: {d1_t:.3f} mm\")\n",
    "print('Z2=',Z2)\n",
    "print('epsilon_alpha=',epsilon_alpha)\n",
    "\n",
    "print('epsilon_beta=',epsilon_beta)"
   ]
  },
  {
   "cell_type": "markdown",
   "id": "03f212cd-ae45-436c-9a32-6f78d76310f6",
   "metadata": {},
   "source": [
    "计算齿轮强度"
   ]
  },
  {
   "cell_type": "code",
   "execution_count": 161,
   "id": "f03615a4-1ee1-4ad5-97e9-be91ab788217",
   "metadata": {},
   "outputs": [
    {
     "name": "stdout",
     "output_type": "stream",
     "text": [
      "圆周速度 V: 1.60 m/s\n",
      "齿宽 b: 53.02 mm\n",
      "Z_V1: 26.31 \n",
      "Z_V2: 94.47 \n",
      "实际载荷系数 K: 2.031\n",
      "分度圆直径 d1: 66.26 mm\n",
      "模数 m_n: 2.68 mm (标准值: 2.5 mm)\n",
      "中心距 a: 142.00 mm\n",
      "修正后的螺旋角 beta: 14.12 度\n",
      "小齿轮分度圆直径 d1: 61.87 mm\n",
      "大齿轮分度圆直径 d2: 222.13 mm\n",
      "齿轮宽度 b: 61.87 mm\n",
      "齿根弯曲疲劳许用应力 sigma_F1: 303.57 MPa\n",
      "齿根弯曲疲劳许用应力 sigma_F2: 238.86 MPa\n",
      "齿根弯曲疲劳强度校核结果 sigma_F1_check: 107.30 MPa\n",
      "齿根弯曲疲劳强度校核结果 sigma_F2_check: 102.58 MPa\n"
     ]
    }
   ],
   "source": [
    "import math\n",
    "# 已知值\n",
    "d1_t = d1_t  # 小齿轮分度圆直径\n",
    "n1 = n1 # 小齿轮转速\n",
    "T1 =T1*1000# 小齿轮传递的转矩，单位Nm\n",
    "K_A = 1  # 使用系数\n",
    "K_v = 1.08  # 动载系数\n",
    "K_H_alpha = 1.4  # 齿间载荷分配系数\n",
    "K_H_beta = 1.343  # 载荷系数\n",
    "K_t = 1.3  # 载荷系数\n",
    "\n",
    "# 1) 计算圆周速度和齿宽\n",
    "V = (math.pi * d1_t * n1) / (60 * 1000)  # 圆周速度，单位m/s\n",
    "b = phi_d * d1_t  # 齿宽，单位mm\n",
    "\n",
    "# 2) 计算实际载荷系数 K_H\n",
    "F_t1 = (2 * T1) / d1_t  # 齿轮的圆周力，单位N\n",
    "K_A_F_t1_over_b = F_t1 / b  # 单位N/mm\n",
    "\n",
    "K = K_A * K_v * K_H_alpha * K_H_beta  # 实际载荷系数\n",
    "\n",
    "# 3) 根据实际载荷系数计算分度圆直径和模数\n",
    "d1 = d1_t * math.sqrt(K / K_t)  # 分度圆直径，单位mm\n",
    "m_n = d1 * math.cos(beta) / Z1  # 模数，单位mm\n",
    "\n",
    "# 模数取标准值 m_n = 2mm\n",
    "m_n_standard = 2.5\n",
    "\n",
    "# 4) 计算中心距和修正螺旋角\n",
    "a = ((Z1 + Z2) * m_n_standard) / (2 * math.cos(beta))\n",
    "a=142\n",
    "beta_corrected = math.acos(((Z1 + Z2) * m_n_standard) / (2 * a))\n",
    "\n",
    "# 5) 计算大、小齿轮的分度圆直径\n",
    "d1_corrected = (m_n_standard * Z1) / math.cos(beta_corrected)\n",
    "d2 = (m_n_standard * Z2) / math.cos(beta_corrected)\n",
    "\n",
    "# 6) 计算齿轮宽度\n",
    "b_corrected = phi_d * d1_corrected\n",
    "\n",
    "# 7) 校核齿根弯曲疲劳强度\n",
    "# 齿根弯曲疲劳强度条件公式中的参数值\n",
    "Z_V1 = Z1 / (math.cos(beta_corrected) ** 3)\n",
    "Z_V2 = Z2 / (math.cos(beta_corrected) ** 3)\n",
    "beta_b = math.atan(math.tan(beta_corrected) * math.cos(alpha_t))\n",
    "epsilon_av = epsilon_alpha / (math.cos(beta_b) ** 2)\n",
    "epsilon_beta = (phi_d * Z1 * math.tan(beta_corrected)) / math.pi\n",
    "Y_epsilon = 0.25 + 0.75 / epsilon_av\n",
    "Y_beta = 1 - epsilon_beta * (beta_corrected / (math.pi/3*2))\n",
    "\n",
    "# 齿形系数和应力修正系数，这里假设已知 Y_Fa1, Y_Sa1, Y_Fa2, Y_Sa2\n",
    "Y_Fa1, Y_Sa1, Y_Fa2, Y_Sa2 = 2.58, 1.61, 2.17, 1.83\n",
    "#Y_Fa1, Y_Sa1, Y_Fa2, Y_Sa2 = 2.65, 1.58, 2.2, 1.78\n",
    "\n",
    "\n",
    "# 实际载荷系数 K_F\n",
    "K_F_alpha = 1.4  # 齿间载荷分配系数\n",
    "K_F_beta = 1.313  # 载荷系数\n",
    "K_F = K_A * K_v * K_F_alpha * K_F_beta\n",
    "\n",
    "# 齿根弯曲疲劳许用应力\n",
    "sigma_Flim1, sigma_Flim2 = 500, 380  # 弯曲疲劳极限\n",
    "K_FN1, K_FN2 = 0.85, 0.88  # 弯曲疲劳寿命系数\n",
    "S = 1.4  # 安全系数\n",
    "sigma_F1 = (K_FN1 * sigma_Flim1) / S\n",
    "sigma_F2 = (K_FN2 * sigma_Flim2) / S\n",
    "\n",
    "# 齿根弯曲疲劳强度校核\n",
    "sigma_F1_check = (2 * K_F * T1 * Y_Fa1 * Y_Sa1 * Y_epsilon * Y_beta * math.cos(beta_corrected) ** 2) / (phi_d * m_n_standard ** 3 * Z1 ** 2)\n",
    "sigma_F2_check = (2 * K_F * T1 * Y_Fa2 * Y_Sa2 * Y_epsilon * Y_beta * math.cos(beta_corrected) ** 2) / (phi_d * m_n_standard ** 3 * Z1 ** 2)\n",
    "\n",
    "# 输出结果\n",
    "print(f\"圆周速度 V: {V:.2f} m/s\")\n",
    "print(f\"齿宽 b: {b:.2f} mm\")\n",
    "# 输出结果\n",
    "print(f\"Z_V1: {Z_V1:.2f} \")\n",
    "print(f\"Z_V2: {Z_V2:.2f} \")\n",
    "print(f\"实际载荷系数 K: {K:.3f}\")\n",
    "print(f\"分度圆直径 d1: {d1:.2f} mm\")\n",
    "print(f\"模数 m_n: {m_n:.2f} mm (标准值: {m_n_standard} mm)\")\n",
    "print(f\"中心距 a: {a:.2f} mm\")\n",
    "print(f\"修正后的螺旋角 beta: {math.degrees(beta_corrected):.2f} 度\")\n",
    "print(f\"小齿轮分度圆直径 d1: {d1_corrected:.2f} mm\")\n",
    "print(f\"大齿轮分度圆直径 d2: {d2:.2f} mm\")\n",
    "print(f\"齿轮宽度 b: {b_corrected:.2f} mm\")\n",
    "print(f\"齿根弯曲疲劳许用应力 sigma_F1: {sigma_F1:.2f} MPa\")\n",
    "print(f\"齿根弯曲疲劳许用应力 sigma_F2: {sigma_F2:.2f} MPa\")\n",
    "print(f\"齿根弯曲疲劳强度校核结果 sigma_F1_check: {sigma_F1_check:.2f} MPa\")\n",
    "print(f\"齿根弯曲疲劳强度校核结果 sigma_F2_check: {sigma_F2_check:.2f} MPa\")"
   ]
  },
  {
   "cell_type": "code",
   "execution_count": null,
   "id": "d2cb6eef-01fa-4bf8-8925-85b1398895e1",
   "metadata": {},
   "outputs": [],
   "source": []
  },
  {
   "cell_type": "code",
   "execution_count": null,
   "id": "c6f69b30-3dfb-4ea7-8f39-67b01cde45ba",
   "metadata": {},
   "outputs": [],
   "source": []
  },
  {
   "cell_type": "code",
   "execution_count": null,
   "id": "cf39bf33-6e4b-40fb-95b8-ba0410aecde7",
   "metadata": {},
   "outputs": [],
   "source": []
  }
 ],
 "metadata": {
  "kernelspec": {
   "display_name": "Python 3 (ipykernel)",
   "language": "python",
   "name": "python3"
  },
  "language_info": {
   "codemirror_mode": {
    "name": "ipython",
    "version": 3
   },
   "file_extension": ".py",
   "mimetype": "text/x-python",
   "name": "python",
   "nbconvert_exporter": "python",
   "pygments_lexer": "ipython3",
   "version": "3.8.18"
  }
 },
 "nbformat": 4,
 "nbformat_minor": 5
}
