{
 "cells": [
  {
   "cell_type": "markdown",
   "id": "45def416",
   "metadata": {},
   "source": [
    "4000t销轴"
   ]
  },
  {
   "cell_type": "code",
   "execution_count": 3,
   "id": "556f45ad",
   "metadata": {},
   "outputs": [
    {
     "name": "stdout",
     "output_type": "stream",
     "text": [
      "1.2271846303085132e-05\n"
     ]
    }
   ],
   "source": [
    "import numpy as np\n",
    "def 圆抗弯截面模量(d):\n",
    "    v=np.pi*d**3/32\n",
    "    return v\n",
    "def 圆抗扭截面模量(d):\n",
    "    return np.pi*d**3/16\n",
    "d=50/1000\n",
    "圆抗弯截面模量v=圆抗弯截面模量(d)\n",
    "圆抗扭截面模量v=圆抗扭截面模量(d)\n",
    "print(圆抗弯截面模量v)"
   ]
  },
  {
   "cell_type": "markdown",
   "id": "da2e8d57",
   "metadata": {},
   "source": [
    "均布载荷悬臂梁最大弯矩"
   ]
  },
  {
   "cell_type": "code",
   "execution_count": 4,
   "id": "3fb31d6a",
   "metadata": {},
   "outputs": [
    {
     "name": "stdout",
     "output_type": "stream",
     "text": [
      "1500.0\n"
     ]
    }
   ],
   "source": [
    "力=60000\n",
    "力臂=25/1000\n",
    "弯矩=力*力臂\n",
    "print(弯矩)\n",
    "剪力=60000"
   ]
  },
  {
   "cell_type": "markdown",
   "id": "bfbc4edd",
   "metadata": {},
   "source": [
    "# 计算应力"
   ]
  },
  {
   "cell_type": "code",
   "execution_count": 36,
   "id": "e855a287",
   "metadata": {},
   "outputs": [
    {
     "name": "stdout",
     "output_type": "stream",
     "text": [
      "122.2309962945756 mpa\n"
     ]
    }
   ],
   "source": [
    "正应力=弯矩/圆抗弯截面模量v\n",
    "print(正应力/1e6,'mpa')"
   ]
  },
  {
   "cell_type": "markdown",
   "id": "b66fe19a",
   "metadata": {},
   "source": [
    "剪切件假定应力"
   ]
  },
  {
   "cell_type": "code",
   "execution_count": 37,
   "id": "1c3283c3",
   "metadata": {},
   "outputs": [
    {
     "name": "stdout",
     "output_type": "stream",
     "text": [
      "30.557749073643905\n"
     ]
    }
   ],
   "source": [
    "面积=np.pi*(d/2)**2\n",
    "剪力应力=剪力/面积\n",
    "print(剪力应力/1e6)"
   ]
  },
  {
   "cell_type": "markdown",
   "id": "47c31979",
   "metadata": {},
   "source": [
    "第三强度理论"
   ]
  },
  {
   "cell_type": "code",
   "execution_count": 38,
   "id": "1e9b7fad",
   "metadata": {},
   "outputs": [
    {
     "name": "stdout",
     "output_type": "stream",
     "text": [
      "133.19814015408738\n"
     ]
    }
   ],
   "source": [
    "应力=np.sqrt(正应力**2+3*剪力应力**2)\n",
    "print(应力/1e6)"
   ]
  },
  {
   "cell_type": "code",
   "execution_count": null,
   "id": "825868c5",
   "metadata": {},
   "outputs": [],
   "source": []
  },
  {
   "cell_type": "code",
   "execution_count": null,
   "id": "65dd11a5",
   "metadata": {},
   "outputs": [],
   "source": []
  }
 ],
 "metadata": {
  "kernelspec": {
   "display_name": "Python 3 (ipykernel)",
   "language": "python",
   "name": "python3"
  },
  "language_info": {
   "codemirror_mode": {
    "name": "ipython",
    "version": 3
   },
   "file_extension": ".py",
   "mimetype": "text/x-python",
   "name": "python",
   "nbconvert_exporter": "python",
   "pygments_lexer": "ipython3",
   "version": "3.8.10"
  },
  "toc": {
   "base_numbering": 1,
   "nav_menu": {
    "height": "83.9974px",
    "width": "191.549px"
   },
   "number_sections": true,
   "sideBar": true,
   "skip_h1_title": false,
   "title_cell": "Table of Contents",
   "title_sidebar": "Contents",
   "toc_cell": false,
   "toc_position": {
    "height": "calc(100% - 180px)",
    "left": "10px",
    "top": "150px",
    "width": "266.667px"
   },
   "toc_section_display": true,
   "toc_window_display": true
  },
  "varInspector": {
   "cols": {
    "lenName": 16,
    "lenType": 16,
    "lenVar": 40
   },
   "kernels_config": {
    "python": {
     "delete_cmd_postfix": "",
     "delete_cmd_prefix": "del ",
     "library": "var_list.py",
     "varRefreshCmd": "print(var_dic_list())"
    },
    "r": {
     "delete_cmd_postfix": ") ",
     "delete_cmd_prefix": "rm(",
     "library": "var_list.r",
     "varRefreshCmd": "cat(var_dic_list()) "
    }
   },
   "position": {
    "height": "383.49px",
    "left": "963.333px",
    "right": "20px",
    "top": "120px",
    "width": "350px"
   },
   "types_to_exclude": [
    "module",
    "function",
    "builtin_function_or_method",
    "instance",
    "_Feature"
   ],
   "window_display": false
  }
 },
 "nbformat": 4,
 "nbformat_minor": 5
}
