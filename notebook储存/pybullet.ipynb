{
 "cells": [
  {
   "cell_type": "code",
   "execution_count": 1,
   "id": "8be981de",
   "metadata": {},
   "outputs": [
    {
     "ename": "error",
     "evalue": "Not connected to physics server.",
     "output_type": "error",
     "traceback": [
      "\u001b[1;31m---------------------------------------------------------------------------\u001b[0m",
      "\u001b[1;31merror\u001b[0m                                     Traceback (most recent call last)",
      "\u001b[1;32m~\\AppData\\Local\\Temp\\ipykernel_13260\\1543572888.py\u001b[0m in \u001b[0;36m<module>\u001b[1;34m\u001b[0m\n\u001b[0;32m     28\u001b[0m \u001b[1;33m\u001b[0m\u001b[0m\n\u001b[0;32m     29\u001b[0m \u001b[1;31m# 断开与pybullet的连接\u001b[0m\u001b[1;33m\u001b[0m\u001b[1;33m\u001b[0m\u001b[1;33m\u001b[0m\u001b[0m\n\u001b[1;32m---> 30\u001b[1;33m \u001b[0mp\u001b[0m\u001b[1;33m.\u001b[0m\u001b[0mdisconnect\u001b[0m\u001b[1;33m(\u001b[0m\u001b[1;33m)\u001b[0m\u001b[1;33m\u001b[0m\u001b[1;33m\u001b[0m\u001b[0m\n\u001b[0m",
      "\u001b[1;31merror\u001b[0m: Not connected to physics server."
     ]
    }
   ],
   "source": [
    "import pybullet as p  \n",
    "import pybullet_data  \n",
    "import os  \n",
    "  \n",
    "# 连接到pybullet的物理引擎（以GUI模式）  \n",
    "physicsClient = p.connect(p.GUI)  \n",
    "  \n",
    "# 设置额外的参数，比如重力  \n",
    "p.setGravity(0, 0, -9.8)  \n",
    "  \n",
    "# 加载MuJoCo的XML格式模型  \n",
    "# 这里需要指定XML文件的路径，如果文件在当前目录中，则直接提供文件名  \n",
    "model_path = os.path.join(os.getcwd(), 'simple(1).xml')  \n",
    "# 使用pybullet的loadMJCF功能加载MuJoCo的模型  \n",
    "humanoid = p.loadMJCF('simple(1).xml')  \n",
    "  \n",
    "# 进入到pybullet的主循环，保持窗口开启，并进行仿真步骤  \n",
    "while p.isConnected():  \n",
    "    # 进行一步仿真  \n",
    "    p.stepSimulation()  \n",
    "      \n",
    "    # 睡眠时间，控制仿真速度（可选）  \n",
    "    # import time  \n",
    "    # time.sleep(1./240.)  # 假设我们希望仿真频率为240Hz  \n",
    "      \n",
    "    # 处理GUI事件（比如关闭窗口）  \n",
    "      \n",
    "  \n",
    "# 断开与pybullet的连接  \n",
    "p.disconnect()"
   ]
  },
  {
   "cell_type": "code",
   "execution_count": null,
   "id": "186f6e7d",
   "metadata": {},
   "outputs": [],
   "source": []
  }
 ],
 "metadata": {
  "kernelspec": {
   "display_name": "Python 3 (ipykernel)",
   "language": "python",
   "name": "python3"
  },
  "language_info": {
   "codemirror_mode": {
    "name": "ipython",
    "version": 3
   },
   "file_extension": ".py",
   "mimetype": "text/x-python",
   "name": "python",
   "nbconvert_exporter": "python",
   "pygments_lexer": "ipython3",
   "version": "3.8.18"
  },
  "toc": {
   "base_numbering": 1,
   "nav_menu": {},
   "number_sections": true,
   "sideBar": true,
   "skip_h1_title": false,
   "title_cell": "Table of Contents",
   "title_sidebar": "Contents",
   "toc_cell": false,
   "toc_position": {},
   "toc_section_display": true,
   "toc_window_display": false
  },
  "varInspector": {
   "cols": {
    "lenName": 16,
    "lenType": 16,
    "lenVar": 40
   },
   "kernels_config": {
    "python": {
     "delete_cmd_postfix": "",
     "delete_cmd_prefix": "del ",
     "library": "var_list.py",
     "varRefreshCmd": "print(var_dic_list())"
    },
    "r": {
     "delete_cmd_postfix": ") ",
     "delete_cmd_prefix": "rm(",
     "library": "var_list.r",
     "varRefreshCmd": "cat(var_dic_list()) "
    }
   },
   "types_to_exclude": [
    "module",
    "function",
    "builtin_function_or_method",
    "instance",
    "_Feature"
   ],
   "window_display": false
  }
 },
 "nbformat": 4,
 "nbformat_minor": 5
}
