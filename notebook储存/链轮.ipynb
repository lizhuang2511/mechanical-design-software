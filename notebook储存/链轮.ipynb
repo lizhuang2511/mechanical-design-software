{
 "cells": [
  {
   "cell_type": "code",
   "execution_count": 1,
   "id": "77e8711a",
   "metadata": {},
   "outputs": [],
   "source": [
    "from math import *\n",
    "滚子外径=7.92\n",
    "节距=12.7\n",
    "齿数=54\n",
    "分度圆直径=节距/(sin(pi/齿数))\n",
    "齿顶圆直径最大=分度圆直径+1.25*节距-滚子外径\n",
    "齿顶圆最小=分度圆直径+(1-1.6/齿数)*节距-滚子外径\n",
    "三圆齿顶圆=节距*(0.54+1/tan(180/齿数))"
   ]
  },
  {
   "cell_type": "code",
   "execution_count": null,
   "id": "d71fc2e1",
   "metadata": {},
   "outputs": [],
   "source": []
  },
  {
   "cell_type": "code",
   "execution_count": null,
   "id": "959b44f6",
   "metadata": {},
   "outputs": [],
   "source": []
  }
 ],
 "metadata": {
  "kernelspec": {
   "display_name": "Python 3 (ipykernel)",
   "language": "python",
   "name": "python3"
  },
  "language_info": {
   "codemirror_mode": {
    "name": "ipython",
    "version": 3
   },
   "file_extension": ".py",
   "mimetype": "text/x-python",
   "name": "python",
   "nbconvert_exporter": "python",
   "pygments_lexer": "ipython3",
   "version": "3.8.10"
  },
  "toc": {
   "base_numbering": 1,
   "nav_menu": {},
   "number_sections": true,
   "sideBar": true,
   "skip_h1_title": false,
   "title_cell": "Table of Contents",
   "title_sidebar": "Contents",
   "toc_cell": false,
   "toc_position": {},
   "toc_section_display": true,
   "toc_window_display": false
  },
  "varInspector": {
   "cols": {
    "lenName": 16,
    "lenType": 16,
    "lenVar": 40
   },
   "kernels_config": {
    "python": {
     "delete_cmd_postfix": "",
     "delete_cmd_prefix": "del ",
     "library": "var_list.py",
     "varRefreshCmd": "print(var_dic_list())"
    },
    "r": {
     "delete_cmd_postfix": ") ",
     "delete_cmd_prefix": "rm(",
     "library": "var_list.r",
     "varRefreshCmd": "cat(var_dic_list()) "
    }
   },
   "types_to_exclude": [
    "module",
    "function",
    "builtin_function_or_method",
    "instance",
    "_Feature"
   ],
   "window_display": false
  }
 },
 "nbformat": 4,
 "nbformat_minor": 5
}
